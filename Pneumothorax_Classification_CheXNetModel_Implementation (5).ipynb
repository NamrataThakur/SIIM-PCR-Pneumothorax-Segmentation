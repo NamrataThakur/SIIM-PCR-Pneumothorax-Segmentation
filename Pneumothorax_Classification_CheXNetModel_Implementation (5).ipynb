{
  "nbformat": 4,
  "nbformat_minor": 0,
  "metadata": {
    "colab": {
      "name": "Pneumothorax_Classification_CheXNetModel_Implementation.ipynb",
      "provenance": [],
      "collapsed_sections": []
    },
    "kernelspec": {
      "name": "python3",
      "display_name": "Python 3"
    }
  },
  "cells": [
    {
      "cell_type": "markdown",
      "metadata": {
        "id": "lHfBzyot8Xr1"
      },
      "source": [
        "# SIIM PCR Pneumothorax Classification and Segmentation Problem "
      ]
    },
    {
      "cell_type": "markdown",
      "metadata": {
        "id": "C_yrSzR58k_O"
      },
      "source": [
        "***This notebook contain the following solution :***\r\n",
        "\r\n",
        "***Approach 1 :***\r\n",
        "\r\n",
        "***A)*** First we classify the Chest X-Rays as either No Pneumothorax Present (Label:0) or Pneumothorax Present (Label:1). This part is the image classification part where we are applying transfer learning technique using the pre-trained model CheXNet (a 121 layer DenseNet model that is fine-tuned on Chest X-Ray images) to classify the images.\r\n",
        "\r\n",
        "***B)*** Then, we build the segmentation part where we apply different segmentation models (Unet and Nested Unet) to predict the masks.\r\n",
        "\r\n",
        "\r\n",
        "***C)*** Finally, we build the end pipeline where given an image we predict the label (0/1) and if the label is 1 we pass the image through the segmentation model to get the mask."
      ]
    },
    {
      "cell_type": "code",
      "metadata": {
        "id": "uHPZUOMAXEan"
      },
      "source": [
        "#https://www.kaggle.com/danofer/ranzcr-chexnet-starter"
      ],
      "execution_count": null,
      "outputs": []
    },
    {
      "cell_type": "markdown",
      "metadata": {
        "id": "2XtR-G5Y-MkO"
      },
      "source": [
        "***Mounting the Drive and installing the needed packages :***"
      ]
    },
    {
      "cell_type": "code",
      "metadata": {
        "colab": {
          "base_uri": "https://localhost:8080/"
        },
        "id": "AQ4hgrgYcL1y",
        "outputId": "9d18387e-2c5a-4f04-dce4-8ab05c371ff2"
      },
      "source": [
        "# Mounting the Drive\r\n",
        "\r\n",
        "from google.colab import drive\r\n",
        "drive.mount('/content/drive')"
      ],
      "execution_count": 1,
      "outputs": [
        {
          "output_type": "stream",
          "text": [
            "Mounted at /content/drive\n"
          ],
          "name": "stdout"
        }
      ]
    },
    {
      "cell_type": "code",
      "metadata": {
        "colab": {
          "base_uri": "https://localhost:8080/"
        },
        "id": "IylyVQukpN3B",
        "outputId": "77502fc3-ad7b-4b08-b423-58eda5b720f6"
      },
      "source": [
        "# Installing pydicom\r\n",
        "\r\n",
        "!pip install pydicom"
      ],
      "execution_count": 2,
      "outputs": [
        {
          "output_type": "stream",
          "text": [
            "Collecting pydicom\n",
            "\u001b[?25l  Downloading https://files.pythonhosted.org/packages/f4/15/df16546bc59bfca390cf072d473fb2c8acd4231636f64356593a63137e55/pydicom-2.1.2-py3-none-any.whl (1.9MB)\n",
            "\u001b[K     |████████████████████████████████| 1.9MB 8.6MB/s \n",
            "\u001b[?25hInstalling collected packages: pydicom\n",
            "Successfully installed pydicom-2.1.2\n"
          ],
          "name": "stdout"
        }
      ]
    },
    {
      "cell_type": "code",
      "metadata": {
        "id": "_yRlUJSYpN6Z"
      },
      "source": [
        "#installing the libraries:\r\n",
        "\r\n",
        "import pandas as pd\r\n",
        "import numpy as np\r\n",
        "import pydicom\r\n",
        "from glob import glob\r\n",
        "import glob2\r\n",
        "from tqdm import tqdm\r\n",
        "import shutil\r\n",
        "import os\r\n",
        "import pydicom\r\n",
        "import matplotlib.pyplot as plt\r\n",
        "import seaborn as sns\r\n",
        "import cv2\r\n",
        "from PIL import Image\r\n",
        "import warnings\r\n",
        "from joblib import Parallel, delayed\r\n",
        "warnings.filterwarnings(\"ignore\")\r\n",
        "from tensorflow.keras.preprocessing.image import ImageDataGenerator"
      ],
      "execution_count": 3,
      "outputs": []
    },
    {
      "cell_type": "code",
      "metadata": {
        "id": "W6-iE7NDqfv2"
      },
      "source": [
        "import tensorflow as tf\r\n",
        "import keras\r\n",
        "# tf.enable_eager_execution()\r\n",
        "import os\r\n",
        "import numpy as np\r\n",
        "import pandas as pd\r\n",
        "import cv2\r\n",
        "import matplotlib.pyplot as plt\r\n",
        "# from hilbert import hilbertCurve\r\n",
        "import imgaug.augmenters as iaa\r\n",
        "import numpy as np\r\n",
        "import random as rn\r\n",
        "from tensorflow.keras.callbacks import ModelCheckpoint, EarlyStopping, LearningRateScheduler, ReduceLROnPlateau, Callback\r\n",
        "import os\r\n",
        "import numpy as np\r\n",
        "import pandas as pd\r\n",
        "from sklearn.model_selection import train_test_split\r\n",
        "# import tensorflow.keras.applications.efficientnet as efn\r\n",
        "from tensorflow.keras import Sequential\r\n",
        "from keras.models import Model\r\n",
        "from tensorflow.keras.utils import plot_model\r\n",
        "from tensorflow.keras.applications import densenet\r\n",
        "from tensorflow.keras.preprocessing.image import ImageDataGenerator\r\n",
        "from tensorflow.keras.layers import GlobalAveragePooling2D, GlobalMaxPooling2D, AveragePooling2D"
      ],
      "execution_count": 4,
      "outputs": []
    },
    {
      "cell_type": "code",
      "metadata": {
        "colab": {
          "base_uri": "https://localhost:8080/"
        },
        "id": "iYvvgtwDpN8s",
        "outputId": "ace5b127-5e0e-48e1-8a36-a03581c4f7cd"
      },
      "source": [
        "%cd /content/drive/MyDrive/Self \\Case \\Study \\2/DATASET/ "
      ],
      "execution_count": 6,
      "outputs": [
        {
          "output_type": "stream",
          "text": [
            "/content/drive/MyDrive/Self Case Study 2/DATASET\n"
          ],
          "name": "stdout"
        }
      ]
    },
    {
      "cell_type": "markdown",
      "metadata": {
        "id": "PWaf8TCq-1-b"
      },
      "source": [
        "***Loading the Train CSV file :***"
      ]
    },
    {
      "cell_type": "code",
      "metadata": {
        "colab": {
          "base_uri": "https://localhost:8080/",
          "height": 199
        },
        "id": "ikH1Vej3pN_C",
        "outputId": "ec698658-8d2e-43b2-eab5-73c36afc6707"
      },
      "source": [
        "final_train_df = pd.read_csv('Train Dataset/siim/final_train_data.csv')\r\n",
        "final_train_df.head(2)"
      ],
      "execution_count": 7,
      "outputs": [
        {
          "output_type": "execute_result",
          "data": {
            "text/html": [
              "<div>\n",
              "<style scoped>\n",
              "    .dataframe tbody tr th:only-of-type {\n",
              "        vertical-align: middle;\n",
              "    }\n",
              "\n",
              "    .dataframe tbody tr th {\n",
              "        vertical-align: top;\n",
              "    }\n",
              "\n",
              "    .dataframe thead th {\n",
              "        text-align: right;\n",
              "    }\n",
              "</style>\n",
              "<table border=\"1\" class=\"dataframe\">\n",
              "  <thead>\n",
              "    <tr style=\"text-align: right;\">\n",
              "      <th></th>\n",
              "      <th>ImageId</th>\n",
              "      <th>EncodedPixels</th>\n",
              "      <th>ImagePath</th>\n",
              "      <th>MaskPath</th>\n",
              "      <th>ImagePath_Png</th>\n",
              "    </tr>\n",
              "  </thead>\n",
              "  <tbody>\n",
              "    <tr>\n",
              "      <th>0</th>\n",
              "      <td>1.2.276.0.7230010.3.1.4.8323329.6904.151787520...</td>\n",
              "      <td>-1</td>\n",
              "      <td>Train Dataset/siim/train_dicom_images/1.2.276....</td>\n",
              "      <td>Train Dataset/siim/train_mask_png_images/1.2.2...</td>\n",
              "      <td>Train Dataset/siim/train_png_images/1.2.276.0....</td>\n",
              "    </tr>\n",
              "    <tr>\n",
              "      <th>1</th>\n",
              "      <td>1.2.276.0.7230010.3.1.4.8323329.13666.15178752...</td>\n",
              "      <td>557374 2 1015 8 1009 14 1002 20 997 26 990 32 ...</td>\n",
              "      <td>Train Dataset/siim/train_dicom_images/1.2.276....</td>\n",
              "      <td>Train Dataset/siim/train_mask_png_images/1.2.2...</td>\n",
              "      <td>Train Dataset/siim/train_png_images/1.2.276.0....</td>\n",
              "    </tr>\n",
              "  </tbody>\n",
              "</table>\n",
              "</div>"
            ],
            "text/plain": [
              "                                             ImageId  ...                                      ImagePath_Png\n",
              "0  1.2.276.0.7230010.3.1.4.8323329.6904.151787520...  ...  Train Dataset/siim/train_png_images/1.2.276.0....\n",
              "1  1.2.276.0.7230010.3.1.4.8323329.13666.15178752...  ...  Train Dataset/siim/train_png_images/1.2.276.0....\n",
              "\n",
              "[2 rows x 5 columns]"
            ]
          },
          "metadata": {
            "tags": []
          },
          "execution_count": 7
        }
      ]
    },
    {
      "cell_type": "code",
      "metadata": {
        "id": "bglvQJ2X05Nf"
      },
      "source": [
        "imagePath = 'Train Dataset/siim/train_png_images/'\r\n",
        "maskPath = 'Train Dataset/siim/train_mask_png_images/'"
      ],
      "execution_count": 8,
      "outputs": []
    },
    {
      "cell_type": "markdown",
      "metadata": {
        "id": "ofeCu3UN-710"
      },
      "source": [
        "***Creating the binary labels for the classification model :***"
      ]
    },
    {
      "cell_type": "code",
      "metadata": {
        "id": "8vAjwltDHL8s"
      },
      "source": [
        "final_train_df['Target'] = final_train_df[' EncodedPixels'].apply(lambda x : 0 if x == '-1' else 1)"
      ],
      "execution_count": 9,
      "outputs": []
    },
    {
      "cell_type": "code",
      "metadata": {
        "colab": {
          "base_uri": "https://localhost:8080/",
          "height": 199
        },
        "id": "vyygEdvPHL_u",
        "outputId": "13fc856f-9e8e-4632-d4b6-0dccad0a8c43"
      },
      "source": [
        "final_train_df.head(2)"
      ],
      "execution_count": 10,
      "outputs": [
        {
          "output_type": "execute_result",
          "data": {
            "text/html": [
              "<div>\n",
              "<style scoped>\n",
              "    .dataframe tbody tr th:only-of-type {\n",
              "        vertical-align: middle;\n",
              "    }\n",
              "\n",
              "    .dataframe tbody tr th {\n",
              "        vertical-align: top;\n",
              "    }\n",
              "\n",
              "    .dataframe thead th {\n",
              "        text-align: right;\n",
              "    }\n",
              "</style>\n",
              "<table border=\"1\" class=\"dataframe\">\n",
              "  <thead>\n",
              "    <tr style=\"text-align: right;\">\n",
              "      <th></th>\n",
              "      <th>ImageId</th>\n",
              "      <th>EncodedPixels</th>\n",
              "      <th>ImagePath</th>\n",
              "      <th>MaskPath</th>\n",
              "      <th>ImagePath_Png</th>\n",
              "      <th>Target</th>\n",
              "    </tr>\n",
              "  </thead>\n",
              "  <tbody>\n",
              "    <tr>\n",
              "      <th>0</th>\n",
              "      <td>1.2.276.0.7230010.3.1.4.8323329.6904.151787520...</td>\n",
              "      <td>-1</td>\n",
              "      <td>Train Dataset/siim/train_dicom_images/1.2.276....</td>\n",
              "      <td>Train Dataset/siim/train_mask_png_images/1.2.2...</td>\n",
              "      <td>Train Dataset/siim/train_png_images/1.2.276.0....</td>\n",
              "      <td>0</td>\n",
              "    </tr>\n",
              "    <tr>\n",
              "      <th>1</th>\n",
              "      <td>1.2.276.0.7230010.3.1.4.8323329.13666.15178752...</td>\n",
              "      <td>557374 2 1015 8 1009 14 1002 20 997 26 990 32 ...</td>\n",
              "      <td>Train Dataset/siim/train_dicom_images/1.2.276....</td>\n",
              "      <td>Train Dataset/siim/train_mask_png_images/1.2.2...</td>\n",
              "      <td>Train Dataset/siim/train_png_images/1.2.276.0....</td>\n",
              "      <td>1</td>\n",
              "    </tr>\n",
              "  </tbody>\n",
              "</table>\n",
              "</div>"
            ],
            "text/plain": [
              "                                             ImageId  ... Target\n",
              "0  1.2.276.0.7230010.3.1.4.8323329.6904.151787520...  ...      0\n",
              "1  1.2.276.0.7230010.3.1.4.8323329.13666.15178752...  ...      1\n",
              "\n",
              "[2 rows x 6 columns]"
            ]
          },
          "metadata": {
            "tags": []
          },
          "execution_count": 10
        }
      ]
    },
    {
      "cell_type": "markdown",
      "metadata": {
        "id": "jOIMbiyx_FES"
      },
      "source": [
        "If no RLE value is present, i.e. if EncodedPixel column has value '-1' we are assigning it a label 0 else label 1."
      ]
    },
    {
      "cell_type": "code",
      "metadata": {
        "id": "5twomXYdH7OK"
      },
      "source": [
        "#Getting all the paths of the train png images:\r\n",
        "\r\n",
        "imagePath = final_train_df['ImagePath_Png']"
      ],
      "execution_count": 11,
      "outputs": []
    },
    {
      "cell_type": "code",
      "metadata": {
        "colab": {
          "base_uri": "https://localhost:8080/"
        },
        "id": "S1DrTqqbH7Qv",
        "outputId": "b38aba32-1501-4227-a9da-ce83b9c20aa5"
      },
      "source": [
        "imagePath"
      ],
      "execution_count": null,
      "outputs": [
        {
          "output_type": "execute_result",
          "data": {
            "text/plain": [
              "0        Train Dataset/siim/train_png_images/1.2.276.0....\n",
              "1        Train Dataset/siim/train_png_images/1.2.276.0....\n",
              "2        Train Dataset/siim/train_png_images/1.2.276.0....\n",
              "3        Train Dataset/siim/train_png_images/1.2.276.0....\n",
              "4        Train Dataset/siim/train_png_images/1.2.276.0....\n",
              "                               ...                        \n",
              "12042    Train Dataset/siim/train_png_images/1.2.276.0....\n",
              "12043    Train Dataset/siim/train_png_images/1.2.276.0....\n",
              "12044    Train Dataset/siim/train_png_images/1.2.276.0....\n",
              "12045    Train Dataset/siim/train_png_images/1.2.276.0....\n",
              "12046    Train Dataset/siim/train_png_images/1.2.276.0....\n",
              "Name: ImagePath_Png, Length: 12047, dtype: object"
            ]
          },
          "metadata": {
            "tags": []
          },
          "execution_count": 12
        }
      ]
    },
    {
      "cell_type": "code",
      "metadata": {
        "colab": {
          "base_uri": "https://localhost:8080/"
        },
        "id": "dpdx8mVtMWNd",
        "outputId": "9b605988-7406-4e20-d11b-fa2fe201c800"
      },
      "source": [
        "load_dir = os.getcwd()\r\n",
        "print(load_dir)"
      ],
      "execution_count": null,
      "outputs": [
        {
          "output_type": "stream",
          "text": [
            "/content/drive/My Drive/Self Case Study 2/DATASET\n"
          ],
          "name": "stdout"
        }
      ]
    },
    {
      "cell_type": "code",
      "metadata": {
        "id": "ICqGiVkAZI5A"
      },
      "source": [
        "# Getting the labels :\r\n",
        "labels = final_train_df[\"Target\"]"
      ],
      "execution_count": 12,
      "outputs": []
    },
    {
      "cell_type": "code",
      "metadata": {
        "colab": {
          "base_uri": "https://localhost:8080/"
        },
        "id": "2p5yE8qfZhDp",
        "outputId": "f4e3f028-550b-4f25-9620-ded93d3a86b3"
      },
      "source": [
        "labels"
      ],
      "execution_count": null,
      "outputs": [
        {
          "output_type": "execute_result",
          "data": {
            "text/plain": [
              "0        0\n",
              "1        1\n",
              "2        0\n",
              "3        1\n",
              "4        1\n",
              "        ..\n",
              "12042    0\n",
              "12043    1\n",
              "12044    1\n",
              "12045    0\n",
              "12046    0\n",
              "Name: Target, Length: 12047, dtype: int64"
            ]
          },
          "metadata": {
            "tags": []
          },
          "execution_count": 15
        }
      ]
    },
    {
      "cell_type": "code",
      "metadata": {
        "colab": {
          "base_uri": "https://localhost:8080/"
        },
        "id": "3NZqhfAPkVWz",
        "outputId": "83f289f0-7766-44ee-a261-43d57f995f2d"
      },
      "source": [
        "labels.shape"
      ],
      "execution_count": null,
      "outputs": [
        {
          "output_type": "execute_result",
          "data": {
            "text/plain": [
              "(12047,)"
            ]
          },
          "metadata": {
            "tags": []
          },
          "execution_count": 17
        }
      ]
    },
    {
      "cell_type": "markdown",
      "metadata": {
        "id": "JtADkHBCBiu1"
      },
      "source": [
        "We have total 12,047 records in train dataset."
      ]
    },
    {
      "cell_type": "markdown",
      "metadata": {
        "id": "2FElrfy0_nS6"
      },
      "source": [
        "***Loading the Test Dataset :***"
      ]
    },
    {
      "cell_type": "code",
      "metadata": {
        "colab": {
          "base_uri": "https://localhost:8080/",
          "height": 111
        },
        "id": "VVSWwi7-7l_q",
        "outputId": "c5fe9167-3bfd-4ea0-cdc1-c92f9c56b391"
      },
      "source": [
        "test_df = pd.read_csv('Train Dataset/siim/test_dicom_images.csv')\r\n",
        "test_df.head(2)"
      ],
      "execution_count": null,
      "outputs": [
        {
          "output_type": "execute_result",
          "data": {
            "text/html": [
              "<div>\n",
              "<style scoped>\n",
              "    .dataframe tbody tr th:only-of-type {\n",
              "        vertical-align: middle;\n",
              "    }\n",
              "\n",
              "    .dataframe tbody tr th {\n",
              "        vertical-align: top;\n",
              "    }\n",
              "\n",
              "    .dataframe thead th {\n",
              "        text-align: right;\n",
              "    }\n",
              "</style>\n",
              "<table border=\"1\" class=\"dataframe\">\n",
              "  <thead>\n",
              "    <tr style=\"text-align: right;\">\n",
              "      <th></th>\n",
              "      <th>ImageId</th>\n",
              "      <th>ImagePath</th>\n",
              "    </tr>\n",
              "  </thead>\n",
              "  <tbody>\n",
              "    <tr>\n",
              "      <th>0</th>\n",
              "      <td>ID_c68e114ba</td>\n",
              "      <td>Train Dataset/siim/test_dicom_images/ID_c68e11...</td>\n",
              "    </tr>\n",
              "    <tr>\n",
              "      <th>1</th>\n",
              "      <td>ID_b5a797789</td>\n",
              "      <td>Train Dataset/siim/test_dicom_images/ID_b5a797...</td>\n",
              "    </tr>\n",
              "  </tbody>\n",
              "</table>\n",
              "</div>"
            ],
            "text/plain": [
              "        ImageId                                          ImagePath\n",
              "0  ID_c68e114ba  Train Dataset/siim/test_dicom_images/ID_c68e11...\n",
              "1  ID_b5a797789  Train Dataset/siim/test_dicom_images/ID_b5a797..."
            ]
          },
          "metadata": {
            "tags": []
          },
          "execution_count": 94
        }
      ]
    },
    {
      "cell_type": "markdown",
      "metadata": {
        "id": "fJ84WeHeCFqD"
      },
      "source": [
        "***Converting the Dicom images to PNG format to be used later :***"
      ]
    },
    {
      "cell_type": "code",
      "metadata": {
        "id": "prcsGyRu94r-"
      },
      "source": [
        "##https://www.kaggle.com/onealbao/dicom-to-jpeg-conversion-kernel\r\n",
        "\r\n",
        "def dicom2png(file):\r\n",
        "    '''\r\n",
        "    This function inputs the path of the image to be read\r\n",
        "    and create a .png format for the same image and store in the path created.\r\n",
        "    '''\r\n",
        "    ds = pydicom.read_file(str(file))\r\n",
        "    img = ds.pixel_array\r\n",
        "    # formatting the image to make training the network faster.\r\n",
        "    img = cv2.resize(img, (256,256) )\r\n",
        "    fname = file.replace('.dcm','.png')\r\n",
        "    fname = fname.replace('_dicom','_png')\r\n",
        "    cv2.imwrite(fname, img)"
      ],
      "execution_count": null,
      "outputs": []
    },
    {
      "cell_type": "code",
      "metadata": {
        "colab": {
          "base_uri": "https://localhost:8080/"
        },
        "id": "b0zj5B8w99iB",
        "outputId": "f30803f8-2d4e-46bf-db2e-d27baf99c6b4"
      },
      "source": [
        "for file in tqdm(test_df['ImagePath']):\r\n",
        "    dicom2png(file)"
      ],
      "execution_count": null,
      "outputs": [
        {
          "output_type": "stream",
          "text": [
            "100%|██████████| 3205/3205 [27:38<00:00,  1.93it/s]\n"
          ],
          "name": "stderr"
        }
      ]
    },
    {
      "cell_type": "code",
      "metadata": {
        "colab": {
          "base_uri": "https://localhost:8080/"
        },
        "id": "bUGvGcTn99lZ",
        "outputId": "c293cb3b-16ff-4bcd-d3fc-170150bd242f"
      },
      "source": [
        "print(os.listdir('Train Dataset/siim/test_png_images/')[10])"
      ],
      "execution_count": null,
      "outputs": [
        {
          "output_type": "stream",
          "text": [
            "ID_6daeaec68.png\n"
          ],
          "name": "stdout"
        }
      ]
    },
    {
      "cell_type": "code",
      "metadata": {
        "colab": {
          "base_uri": "https://localhost:8080/",
          "height": 111
        },
        "id": "eeu7wn_nCuGi",
        "outputId": "9924dd71-0baf-4840-c261-e304f89f15d3"
      },
      "source": [
        "#Saving the PNG image paths in the Test Dataframe :\r\n",
        "\r\n",
        "test_df['ImagePath_Png'] = 'Train Dataset/siim/test_png_images/'+ test_df['ImageId']+'.png'\r\n",
        "test_df.head(2)"
      ],
      "execution_count": null,
      "outputs": [
        {
          "output_type": "execute_result",
          "data": {
            "text/html": [
              "<div>\n",
              "<style scoped>\n",
              "    .dataframe tbody tr th:only-of-type {\n",
              "        vertical-align: middle;\n",
              "    }\n",
              "\n",
              "    .dataframe tbody tr th {\n",
              "        vertical-align: top;\n",
              "    }\n",
              "\n",
              "    .dataframe thead th {\n",
              "        text-align: right;\n",
              "    }\n",
              "</style>\n",
              "<table border=\"1\" class=\"dataframe\">\n",
              "  <thead>\n",
              "    <tr style=\"text-align: right;\">\n",
              "      <th></th>\n",
              "      <th>ImageId</th>\n",
              "      <th>ImagePath</th>\n",
              "      <th>ImagePath_Png</th>\n",
              "    </tr>\n",
              "  </thead>\n",
              "  <tbody>\n",
              "    <tr>\n",
              "      <th>0</th>\n",
              "      <td>ID_c68e114ba</td>\n",
              "      <td>Train Dataset/siim/test_dicom_images/ID_c68e11...</td>\n",
              "      <td>Train Dataset/siim/test_png_images/ID_c68e114b...</td>\n",
              "    </tr>\n",
              "    <tr>\n",
              "      <th>1</th>\n",
              "      <td>ID_b5a797789</td>\n",
              "      <td>Train Dataset/siim/test_dicom_images/ID_b5a797...</td>\n",
              "      <td>Train Dataset/siim/test_png_images/ID_b5a79778...</td>\n",
              "    </tr>\n",
              "  </tbody>\n",
              "</table>\n",
              "</div>"
            ],
            "text/plain": [
              "        ImageId  ...                                      ImagePath_Png\n",
              "0  ID_c68e114ba  ...  Train Dataset/siim/test_png_images/ID_c68e114b...\n",
              "1  ID_b5a797789  ...  Train Dataset/siim/test_png_images/ID_b5a79778...\n",
              "\n",
              "[2 rows x 3 columns]"
            ]
          },
          "metadata": {
            "tags": []
          },
          "execution_count": 99
        }
      ]
    },
    {
      "cell_type": "code",
      "metadata": {
        "id": "N_iCFSpXCuLh"
      },
      "source": [
        "#Getting the paths of the png images:\r\n",
        "imagePath_test = test_df['ImagePath_Png']"
      ],
      "execution_count": null,
      "outputs": []
    },
    {
      "cell_type": "code",
      "metadata": {
        "colab": {
          "base_uri": "https://localhost:8080/"
        },
        "id": "4Au-jAHiE1da",
        "outputId": "a70ac4eb-9de7-4c5c-9852-e95357787b0d"
      },
      "source": [
        "imagePath_test"
      ],
      "execution_count": null,
      "outputs": [
        {
          "output_type": "execute_result",
          "data": {
            "text/plain": [
              "0       Train Dataset/siim/test_png_images/ID_c68e114b...\n",
              "1       Train Dataset/siim/test_png_images/ID_b5a79778...\n",
              "2       Train Dataset/siim/test_png_images/ID_490a04f5...\n",
              "3       Train Dataset/siim/test_png_images/ID_823ca20e...\n",
              "4       Train Dataset/siim/test_png_images/ID_5face276...\n",
              "                              ...                        \n",
              "3200    Train Dataset/siim/test_png_images/ID_a9cc917b...\n",
              "3201    Train Dataset/siim/test_png_images/ID_5dc70172...\n",
              "3202    Train Dataset/siim/test_png_images/ID_f1b5e537...\n",
              "3203    Train Dataset/siim/test_png_images/ID_ba7f28da...\n",
              "3204    Train Dataset/siim/test_png_images/ID_77ab447a...\n",
              "Name: ImagePath_Png, Length: 3205, dtype: object"
            ]
          },
          "metadata": {
            "tags": []
          },
          "execution_count": 101
        }
      ]
    },
    {
      "cell_type": "markdown",
      "metadata": {
        "id": "5s7aYRM2CuXh"
      },
      "source": [
        "***Splitting the Train Dataset into Train and CV Dataset:***"
      ]
    },
    {
      "cell_type": "code",
      "metadata": {
        "id": "c0xwaFCTH7V0"
      },
      "source": [
        "trainPath, validPath, trainLabels, validLabels = train_test_split(imagePath, labels, test_size = 0.1, random_state = 27, stratify=labels)"
      ],
      "execution_count": 13,
      "outputs": []
    },
    {
      "cell_type": "code",
      "metadata": {
        "colab": {
          "base_uri": "https://localhost:8080/"
        },
        "id": "Y3_KvjS9H7uJ",
        "outputId": "2dc64cfc-e68e-4f34-be8d-ef3c6fcab7ce"
      },
      "source": [
        "print('Total Train Dataset Size : ', trainPath.shape[0])\r\n",
        "print('Total Valid Dataset Size : ', validPath.shape[0])"
      ],
      "execution_count": 14,
      "outputs": [
        {
          "output_type": "stream",
          "text": [
            "Total Train Dataset Size :  10842\n",
            "Total Valid Dataset Size :  1205\n"
          ],
          "name": "stdout"
        }
      ]
    },
    {
      "cell_type": "markdown",
      "metadata": {
        "id": "84JsJEMoC3Cq"
      },
      "source": [
        "We have a total of 10,842 records in the Train Portion and the remaining 1205 records are to be treated as CV or test data for checking model performance."
      ]
    },
    {
      "cell_type": "code",
      "metadata": {
        "colab": {
          "base_uri": "https://localhost:8080/"
        },
        "id": "212xds59RQ5v",
        "outputId": "dfdd4f22-59d3-4e17-8047-42726ee0de46"
      },
      "source": [
        "trainLabels"
      ],
      "execution_count": null,
      "outputs": [
        {
          "output_type": "execute_result",
          "data": {
            "text/plain": [
              "5943     0\n",
              "1455     0\n",
              "1631     0\n",
              "10874    0\n",
              "727      0\n",
              "        ..\n",
              "2574     1\n",
              "4568     0\n",
              "9675     0\n",
              "10061    0\n",
              "335      0\n",
              "Name: Target, Length: 10842, dtype: int64"
            ]
          },
          "metadata": {
            "tags": []
          },
          "execution_count": 18
        }
      ]
    },
    {
      "cell_type": "markdown",
      "metadata": {
        "id": "J6T-LAUWJw8d"
      },
      "source": [
        "***Handling the Data Imbalance Problem :***"
      ]
    },
    {
      "cell_type": "code",
      "metadata": {
        "id": "wZvNrGRBPZoJ"
      },
      "source": [
        "#Getting the count of the records present in train and cv dataset:\r\n",
        "trainCount=trainLabels.value_counts()\r\n",
        "validCount = validLabels.value_counts()"
      ],
      "execution_count": null,
      "outputs": []
    },
    {
      "cell_type": "code",
      "metadata": {
        "colab": {
          "base_uri": "https://localhost:8080/"
        },
        "id": "YwUkN0zwPZwS",
        "outputId": "14f49436-731c-4d8a-e36b-1479186393b9"
      },
      "source": [
        "#Getting the count of individual classes:\r\n",
        "\r\n",
        "totalTrainCount = trainLabels.shape[0]\r\n",
        "totalPosCount = trainCount[1]\r\n",
        "totalNegCount = trainCount[0]\r\n",
        "\r\n",
        "print('Total Train Labels : ', totalTrainCount)\r\n",
        "print('Total Train Positive Labels : ', totalPosCount)\r\n",
        "print('Total Train Negative Labels : ', totalNegCount)"
      ],
      "execution_count": null,
      "outputs": [
        {
          "output_type": "stream",
          "text": [
            "Total Train Labels :  10842\n",
            "Total Train Positive Labels :  2402\n",
            "Total Train Negative Labels :  8440\n"
          ],
          "name": "stdout"
        }
      ]
    },
    {
      "cell_type": "markdown",
      "metadata": {
        "id": "uX2ZSvc8DOcr"
      },
      "source": [
        "We have imbalance data as the count of the Positve class far outdo the count for the negative class. This is a pretty common incident in the medical domain.\r\n",
        "\r\n",
        "We need to handle this data imbalance problem so that the model doesnt become too biased for the majority class. To make sure that both the classes contribute to the loss equally, we give weights to each class. ***This weight is inversely proportional to the frequency of the class.***"
      ]
    },
    {
      "cell_type": "code",
      "metadata": {
        "colab": {
          "base_uri": "https://localhost:8080/"
        },
        "id": "LirZNkLuPZyp",
        "outputId": "7d24195d-8391-4430-b9cd-e7b7e9f70bbf"
      },
      "source": [
        "#Finding the frequency of each class: Freq = count_of_class/total_records_present\r\n",
        "\r\n",
        "posFreq = round((totalPosCount/totalTrainCount),2)\r\n",
        "negFreq = round((totalNegCount/totalTrainCount),2)\r\n",
        "\r\n",
        "print('Frequency Of Positive Class : ', posFreq)\r\n",
        "print('Frequency Of Negataive Class : ', negFreq)"
      ],
      "execution_count": null,
      "outputs": [
        {
          "output_type": "stream",
          "text": [
            "Frequency Of Positive Class :  0.22\n",
            "Frequency Of Negataive Class :  0.78\n"
          ],
          "name": "stdout"
        }
      ]
    },
    {
      "cell_type": "markdown",
      "metadata": {
        "id": "NBi7Ysj6G4RT"
      },
      "source": [
        "As expected, the frequency of the positive class is only 0.22 and the negative class has frequency of 0.78."
      ]
    },
    {
      "cell_type": "code",
      "metadata": {
        "id": "AaNMO3EdPZ0-"
      },
      "source": [
        "#Assigning the weights of each class : \r\n",
        "\r\n",
        "pos_weights = negFreq\r\n",
        "neg_weights = posFreq"
      ],
      "execution_count": null,
      "outputs": []
    },
    {
      "cell_type": "code",
      "metadata": {
        "colab": {
          "base_uri": "https://localhost:8080/"
        },
        "id": "5cEfa3XM8wIP",
        "outputId": "9fc77919-493a-472e-8e17-46a0f282206a"
      },
      "source": [
        "type(pos_weights)"
      ],
      "execution_count": null,
      "outputs": [
        {
          "output_type": "execute_result",
          "data": {
            "text/plain": [
              "numpy.float64"
            ]
          },
          "metadata": {
            "tags": []
          },
          "execution_count": 25
        }
      ]
    },
    {
      "cell_type": "markdown",
      "metadata": {
        "id": "zI_CrxWGIEsw"
      },
      "source": [
        "We need to check the contribution of each class on the loss so that the model remain unbiased to either class.\r\n",
        "\r\n",
        "We calculate this ***contribution of each class as the product of the class_weight and the class_frequency***."
      ]
    },
    {
      "cell_type": "code",
      "metadata": {
        "id": "vjyfvcnhPZ33"
      },
      "source": [
        "#Getting the contribution of individual class :\r\n",
        "\r\n",
        "pos_contribution = posFreq * pos_weights\r\n",
        "neg_contribution = negFreq * neg_weights"
      ],
      "execution_count": null,
      "outputs": []
    },
    {
      "cell_type": "code",
      "metadata": {
        "colab": {
          "base_uri": "https://localhost:8080/",
          "height": 295
        },
        "id": "fj0Icsx9PZ9e",
        "outputId": "9868c913-69d3-424f-caca-01a98e33aa13"
      },
      "source": [
        "#Plotting the count of individual class:\r\n",
        "\r\n",
        "classes = ['Not Affected', 'Affected']\r\n",
        "count = [totalNegCount,totalPosCount]\r\n",
        "plt.bar(classes,count)\r\n",
        "plt.xlabel('Target Classes')\r\n",
        "plt.ylabel('Number of Images')\r\n",
        "plt.title('Count of Train Classes')\r\n",
        "plt.show()"
      ],
      "execution_count": null,
      "outputs": [
        {
          "output_type": "display_data",
          "data": {
            "image/png": "[encoded data removed]",
            "text/plain": [
              "<Figure size 432x288 with 1 Axes>"
            ]
          },
          "metadata": {
            "tags": [],
            "needs_background": "light"
          }
        }
      ]
    },
    {
      "cell_type": "markdown",
      "metadata": {
        "id": "o2Tm62qUJMwP"
      },
      "source": [
        "Without the class weight assignment, the loss would have been more effected by the negative (majority) class."
      ]
    },
    {
      "cell_type": "code",
      "metadata": {
        "colab": {
          "base_uri": "https://localhost:8080/",
          "height": 295
        },
        "id": "rrEtdlLcWzT8",
        "outputId": "215d2e49-88ea-4560-96b2-f9128df4b2f9"
      },
      "source": [
        "#Plotting the contribution of each class after assigning the class weights:\r\n",
        "\r\n",
        "classes = ['Not Affected', 'Affected']\r\n",
        "count = [neg_contribution,pos_contribution]\r\n",
        "plt.bar(classes,count)\r\n",
        "plt.xlabel('Target Classes')\r\n",
        "plt.ylabel('Count')\r\n",
        "plt.title('Contribution of Different Train Classes on Loss Function ')\r\n",
        "plt.show()"
      ],
      "execution_count": null,
      "outputs": [
        {
          "output_type": "display_data",
          "data": {
            "image/png": "[encoded data removed]",
            "text/plain": [
              "<Figure size 432x288 with 1 Axes>"
            ]
          },
          "metadata": {
            "tags": [],
            "needs_background": "light"
          }
        }
      ]
    },
    {
      "cell_type": "markdown",
      "metadata": {
        "id": "ZMM2UkvpJg8G"
      },
      "source": [
        "When given the weights properly, both classes effect the loss similarly. \r\n",
        "\r\n",
        "We have thus solved the data imbalance problem."
      ]
    },
    {
      "cell_type": "markdown",
      "metadata": {
        "id": "z1p3HR3GJ_v3"
      },
      "source": [
        "***Data Augmentaion Problem:***"
      ]
    },
    {
      "cell_type": "code",
      "metadata": {
        "id": "PF367Vkldf7F"
      },
      "source": [
        "import random"
      ],
      "execution_count": 15,
      "outputs": []
    },
    {
      "cell_type": "code",
      "metadata": {
        "id": "m5NMLJDDY6Ik"
      },
      "source": [
        "#https://www.kaggle.com/danofer/ranzcr-chexnet-starter/output?select=submission.csv\r\n",
        "#https://www.tensorflow.org/tutorials/images/data_augmentation\r\n",
        "\r\n",
        "def build_decoder(with_labels=True, target_size=(300, 300)):\r\n",
        "    def decode(path):\r\n",
        "        file_bytes = tf.io.read_file(path)\r\n",
        "        img = tf.image.decode_png(file_bytes, channels=3)\r\n",
        "        img = tf.cast(img, tf.float32) / 255.0\r\n",
        "        img = tf.image.resize(img, target_size)\r\n",
        "\r\n",
        "        return img\r\n",
        "    \r\n",
        "    def decode_with_labels(path, label):\r\n",
        "        return decode(path), label\r\n",
        "    \r\n",
        "    return decode_with_labels if with_labels else decode\r\n",
        "\r\n",
        "def build_augmenter(with_labels=True):\r\n",
        "    def augment(img):\r\n",
        "        number = random.randint(1,5)\r\n",
        "        seed = (1, 5)\r\n",
        "        if number == 1:\r\n",
        "            img = tf.image.stateless_random_flip_left_right(img,seed)\r\n",
        "            img = tf.image.stateless_random_contrast(img,0.2, 0.5,seed)\r\n",
        "        if number == 2:\r\n",
        "            img = tf.image.stateless_random_flip_up_down(img,seed)\r\n",
        "            img = tf.image.stateless_random_brightness(img, 0.2,seed)\r\n",
        "        if number == 3:\r\n",
        "            img = tf.image.stateless_random_flip_left_right(img,seed)\r\n",
        "            img = tf.image.stateless_random_saturation(img, 0.2, 0.5,seed)\r\n",
        "        if number == 4:\r\n",
        "            img = tf.image.stateless_random_flip_up_down(img,seed)\r\n",
        "            img = tf.image.stateless_random_hue(img, 0.2,seed)\r\n",
        "        if number == 5:\r\n",
        "            img = tf.image.stateless_random_flip_left_right(img,seed)\r\n",
        "            img = tf.image.adjust_gamma(img, 0.2)\r\n",
        "        return img\r\n",
        "    \r\n",
        "    def augment_with_labels(img, label):\r\n",
        "        return augment(img), label\r\n",
        "    \r\n",
        "    return augment_with_labels if with_labels else augment\r\n",
        "\r\n",
        "def build_dataset(paths, labels=None, bsize=32, cache=True,\r\n",
        "                  decode_fn=None, augment_fn=None,\r\n",
        "                  augment=True, repeat=True, shuffle=1024,cache_dir=\"\"):\r\n",
        "    if cache_dir != \"\" and cache is True:\r\n",
        "        os.makedirs(cache_dir, exist_ok=True)\r\n",
        "\r\n",
        "    if decode_fn is None:\r\n",
        "        decode_fn = build_decoder(labels is not None)\r\n",
        "    \r\n",
        "    if augment_fn is None:\r\n",
        "        augment_fn = build_augmenter(labels is not None)\r\n",
        "    \r\n",
        "    AUTO = tf.data.experimental.AUTOTUNE\r\n",
        "    slices = paths if labels is None else (paths, labels)\r\n",
        "    \r\n",
        "    dset = tf.data.Dataset.from_tensor_slices(slices)\r\n",
        "    dset = dset.map(decode_fn, num_parallel_calls=AUTO)\r\n",
        "    dset = dset.cache(cache_dir) if cache else dset\r\n",
        "    dset = dset.map(augment_fn, num_parallel_calls=AUTO) if augment else dset\r\n",
        "    dset = dset.repeat() if repeat else dset\r\n",
        "    dset = dset.shuffle(shuffle) if shuffle else dset\r\n",
        "    dset = dset.batch(bsize).prefetch(AUTO)\r\n",
        "    \r\n",
        "    return dset"
      ],
      "execution_count": 16,
      "outputs": []
    },
    {
      "cell_type": "code",
      "metadata": {
        "id": "SFnQdonkngMy",
        "colab": {
          "base_uri": "https://localhost:8080/"
        },
        "outputId": "01645b5c-a92e-4d64-a66b-84672a58b0f2"
      },
      "source": [
        "#Building the decoder for building the Train and Valid Dataset:\r\n",
        "\r\n",
        "decoder = build_decoder(with_labels=True, target_size=(256, 256))\r\n",
        "print(decoder)"
      ],
      "execution_count": 30,
      "outputs": [
        {
          "output_type": "stream",
          "text": [
            "<function build_decoder.<locals>.decode_with_labels at 0x7f6cf74e2440>\n"
          ],
          "name": "stdout"
        }
      ]
    },
    {
      "cell_type": "code",
      "metadata": {
        "id": "VzxzfY8WlEca"
      },
      "source": [
        "#Creating the Augmented Train and Valid Datasets:\r\n",
        "\r\n",
        "dtrain = build_dataset(\r\n",
        "    trainPath, trainLabels, bsize=16, decode_fn=decoder,cache_dir='Kaggle/tf_cache'\r\n",
        ")\r\n",
        "\r\n",
        "dvalid = build_dataset(\r\n",
        "    validPath, validLabels, bsize=16, \r\n",
        "    repeat=False, shuffle=False, augment=False, decode_fn=decoder,cache_dir='Kaggle/tf_cache'\r\n",
        ")"
      ],
      "execution_count": null,
      "outputs": []
    },
    {
      "cell_type": "code",
      "metadata": {
        "colab": {
          "base_uri": "https://localhost:8080/"
        },
        "id": "Pi_TQuQYlEfO",
        "outputId": "5b335634-75a1-42f4-9951-a1cfc8fc362b"
      },
      "source": [
        "print('Train Dataset : ',dtrain)\r\n",
        "print('Valid Dataset : ',dvalid)"
      ],
      "execution_count": null,
      "outputs": [
        {
          "output_type": "stream",
          "text": [
            "Train Dataset :  <PrefetchDataset shapes: ((None, 256, 256, 3), (None,)), types: (tf.float32, tf.int64)>\n",
            "Valid Dataset :  <PrefetchDataset shapes: ((None, 256, 256, 3), (None,)), types: (tf.float32, tf.int64)>\n"
          ],
          "name": "stdout"
        }
      ]
    },
    {
      "cell_type": "code",
      "metadata": {
        "id": "WSQ9nL7C8sl6"
      },
      "source": [
        "#Assigning the necessary class weights\r\n",
        "class_weight = {0: neg_weights, 1: pos_weights}"
      ],
      "execution_count": null,
      "outputs": []
    },
    {
      "cell_type": "markdown",
      "metadata": {
        "id": "0RS2lgRLLEfc"
      },
      "source": [
        "***Creating the Classification Model using Pre-Trained CheXNet model :***"
      ]
    },
    {
      "cell_type": "code",
      "metadata": {
        "id": "2LMYXP2YAIGi"
      },
      "source": [
        "#Creating the model:\r\n",
        "\r\n",
        "#Defining the model:\r\n",
        "base_model = densenet.DenseNet121(weights = None, include_top=False, input_shape=(256,256,3))\r\n",
        "\r\n",
        "#Adding a dummy layer so that pre-trained weights can be loaded properly. This dummy layer is removed later\r\n",
        "predictions = tf.keras.layers.Dense(14,activation='sigmoid', name='predictions')(base_model.output)\r\n",
        "\r\n",
        "base_model2 = tf.keras.Model(inputs = base_model.input, outputs = predictions)\r\n",
        "\r\n",
        "#Loading the pre-trained chexnet weights\r\n",
        "base_model2.load_weights('brucechou1983_CheXNet_Keras_0.3.0_weights.h5')\r\n",
        "\r\n",
        "#Removing the dummy layer\r\n",
        "base_model2.layers.pop()\r\n",
        "\r\n",
        "#Freezing the model\r\n",
        "base_model2.trainable = False\r\n",
        "\r\n",
        "#Adding a pooling layer \r\n",
        "new_base_model = tf.keras.layers.GlobalAveragePooling2D()(base_model2.layers[-3].output)\r\n",
        "\r\n",
        "#Adding a dropout layer\r\n",
        "#new_base_model = tf.keras.layers.Dropout(0.2)(new_base_model)\r\n",
        "\r\n",
        "#Adding the final Dense layer for prediction\r\n",
        "new_base_model = tf.keras.layers.Dense(1, activation='sigmoid')(new_base_model)\r\n",
        "\r\n",
        "#Model built\r\n",
        "final_new_model = tf.keras.Model(base_model2.input, new_base_model)"
      ],
      "execution_count": 23,
      "outputs": []
    },
    {
      "cell_type": "code",
      "metadata": {
        "colab": {
          "base_uri": "https://localhost:8080/"
        },
        "id": "V5OMhE8UlRj1",
        "outputId": "f461f53d-44fe-4587-b850-c39bb6dd3071"
      },
      "source": [
        "#Displaying the Last 6 layers\r\n",
        "final_new_model.layers[-6:]"
      ],
      "execution_count": 24,
      "outputs": [
        {
          "output_type": "execute_result",
          "data": {
            "text/plain": [
              "[<tensorflow.python.keras.layers.core.Activation at 0x7f6cfa08bed0>,\n",
              " <tensorflow.python.keras.layers.convolutional.Conv2D at 0x7f6cfa095290>,\n",
              " <tensorflow.python.keras.layers.merge.Concatenate at 0x7f6cfa0f04d0>,\n",
              " <tensorflow.python.keras.layers.normalization_v2.BatchNormalization at 0x7f6cfa080e90>,\n",
              " <tensorflow.python.keras.layers.pooling.GlobalAveragePooling2D at 0x7f6cfa289750>,\n",
              " <tensorflow.python.keras.layers.core.Dense at 0x7f6cfa0d6a50>]"
            ]
          },
          "metadata": {
            "tags": []
          },
          "execution_count": 24
        }
      ]
    },
    {
      "cell_type": "code",
      "metadata": {
        "colab": {
          "base_uri": "https://localhost:8080/"
        },
        "id": "wcKnvzQt-Rjx",
        "outputId": "cd0b58fa-6535-4d68-9025-fc7a3d6b2495"
      },
      "source": [
        "#Displaying the last few layer of the original pre-trained chexnet model\r\n",
        "base_model2.layers[-5:-1]"
      ],
      "execution_count": null,
      "outputs": [
        {
          "output_type": "execute_result",
          "data": {
            "text/plain": [
              "[<tensorflow.python.keras.layers.convolutional.Conv2D at 0x7f452038ff50>,\n",
              " <tensorflow.python.keras.layers.merge.Concatenate at 0x7f4520394a50>,\n",
              " <tensorflow.python.keras.layers.normalization_v2.BatchNormalization at 0x7f45203d9350>,\n",
              " <tensorflow.python.keras.layers.core.Activation at 0x7f452032b450>]"
            ]
          },
          "metadata": {
            "tags": []
          },
          "execution_count": 30
        }
      ]
    },
    {
      "cell_type": "code",
      "metadata": {
        "colab": {
          "base_uri": "https://localhost:8080/"
        },
        "id": "YrXsyyXbywqs",
        "outputId": "374c3245-6a4c-4376-cc46-b9276d30a961"
      },
      "source": [
        "#Displaying the model:\r\n",
        "\r\n",
        "final_new_model.summary(line_length = 150)"
      ],
      "execution_count": null,
      "outputs": [
        {
          "output_type": "stream",
          "text": [
            "Model: \"model_5\"\n",
            "______________________________________________________________________________________________________________________________________________________\n",
            "Layer (type)                                     Output Shape                     Param #           Connected to                                      \n",
            "======================================================================================================================================================\n",
            "input_3 (InputLayer)                             [(None, 256, 256, 3)]            0                                                                   \n",
            "______________________________________________________________________________________________________________________________________________________\n",
            "zero_padding2d_4 (ZeroPadding2D)                 (None, 262, 262, 3)              0                 input_3[0][0]                                     \n",
            "______________________________________________________________________________________________________________________________________________________\n",
            "conv1/conv (Conv2D)                              (None, 128, 128, 64)             9408              zero_padding2d_4[0][0]                            \n",
            "______________________________________________________________________________________________________________________________________________________\n",
            "conv1/bn (BatchNormalization)                    (None, 128, 128, 64)             256               conv1/conv[0][0]                                  \n",
            "______________________________________________________________________________________________________________________________________________________\n",
            "conv1/relu (Activation)                          (None, 128, 128, 64)             0                 conv1/bn[0][0]                                    \n",
            "______________________________________________________________________________________________________________________________________________________\n",
            "zero_padding2d_5 (ZeroPadding2D)                 (None, 130, 130, 64)             0                 conv1/relu[0][0]                                  \n",
            "______________________________________________________________________________________________________________________________________________________\n",
            "pool1 (MaxPooling2D)                             (None, 64, 64, 64)               0                 zero_padding2d_5[0][0]                            \n",
            "______________________________________________________________________________________________________________________________________________________\n",
            "conv2_block1_0_bn (BatchNormalization)           (None, 64, 64, 64)               256               pool1[0][0]                                       \n",
            "______________________________________________________________________________________________________________________________________________________\n",
            "conv2_block1_0_relu (Activation)                 (None, 64, 64, 64)               0                 conv2_block1_0_bn[0][0]                           \n",
            "______________________________________________________________________________________________________________________________________________________\n",
            "conv2_block1_1_conv (Conv2D)                     (None, 64, 64, 128)              8192              conv2_block1_0_relu[0][0]                         \n",
            "______________________________________________________________________________________________________________________________________________________\n",
            "conv2_block1_1_bn (BatchNormalization)           (None, 64, 64, 128)              512               conv2_block1_1_conv[0][0]                         \n",
            "______________________________________________________________________________________________________________________________________________________\n",
            "conv2_block1_1_relu (Activation)                 (None, 64, 64, 128)              0                 conv2_block1_1_bn[0][0]                           \n",
            "______________________________________________________________________________________________________________________________________________________\n",
            "conv2_block1_2_conv (Conv2D)                     (None, 64, 64, 32)               36864             conv2_block1_1_relu[0][0]                         \n",
            "______________________________________________________________________________________________________________________________________________________\n",
            "conv2_block1_concat (Concatenate)                (None, 64, 64, 96)               0                 pool1[0][0]                                       \n",
            "                                                                                                    conv2_block1_2_conv[0][0]                         \n",
            "______________________________________________________________________________________________________________________________________________________\n",
            "conv2_block2_0_bn (BatchNormalization)           (None, 64, 64, 96)               384               conv2_block1_concat[0][0]                         \n",
            "______________________________________________________________________________________________________________________________________________________\n",
            "conv2_block2_0_relu (Activation)                 (None, 64, 64, 96)               0                 conv2_block2_0_bn[0][0]                           \n",
            "______________________________________________________________________________________________________________________________________________________\n",
            "conv2_block2_1_conv (Conv2D)                     (None, 64, 64, 128)              12288             conv2_block2_0_relu[0][0]                         \n",
            "______________________________________________________________________________________________________________________________________________________\n",
            "conv2_block2_1_bn (BatchNormalization)           (None, 64, 64, 128)              512               conv2_block2_1_conv[0][0]                         \n",
            "______________________________________________________________________________________________________________________________________________________\n",
            "conv2_block2_1_relu (Activation)                 (None, 64, 64, 128)              0                 conv2_block2_1_bn[0][0]                           \n",
            "______________________________________________________________________________________________________________________________________________________\n",
            "conv2_block2_2_conv (Conv2D)                     (None, 64, 64, 32)               36864             conv2_block2_1_relu[0][0]                         \n",
            "______________________________________________________________________________________________________________________________________________________\n",
            "conv2_block2_concat (Concatenate)                (None, 64, 64, 128)              0                 conv2_block1_concat[0][0]                         \n",
            "                                                                                                    conv2_block2_2_conv[0][0]                         \n",
            "______________________________________________________________________________________________________________________________________________________\n",
            "conv2_block3_0_bn (BatchNormalization)           (None, 64, 64, 128)              512               conv2_block2_concat[0][0]                         \n",
            "______________________________________________________________________________________________________________________________________________________\n",
            "conv2_block3_0_relu (Activation)                 (None, 64, 64, 128)              0                 conv2_block3_0_bn[0][0]                           \n",
            "______________________________________________________________________________________________________________________________________________________\n",
            "conv2_block3_1_conv (Conv2D)                     (None, 64, 64, 128)              16384             conv2_block3_0_relu[0][0]                         \n",
            "______________________________________________________________________________________________________________________________________________________\n",
            "conv2_block3_1_bn (BatchNormalization)           (None, 64, 64, 128)              512               conv2_block3_1_conv[0][0]                         \n",
            "______________________________________________________________________________________________________________________________________________________\n",
            "conv2_block3_1_relu (Activation)                 (None, 64, 64, 128)              0                 conv2_block3_1_bn[0][0]                           \n",
            "______________________________________________________________________________________________________________________________________________________\n",
            "conv2_block3_2_conv (Conv2D)                     (None, 64, 64, 32)               36864             conv2_block3_1_relu[0][0]                         \n",
            "______________________________________________________________________________________________________________________________________________________\n",
            "conv2_block3_concat (Concatenate)                (None, 64, 64, 160)              0                 conv2_block2_concat[0][0]                         \n",
            "                                                                                                    conv2_block3_2_conv[0][0]                         \n",
            "______________________________________________________________________________________________________________________________________________________\n",
            "conv2_block4_0_bn (BatchNormalization)           (None, 64, 64, 160)              640               conv2_block3_concat[0][0]                         \n",
            "______________________________________________________________________________________________________________________________________________________\n",
            "conv2_block4_0_relu (Activation)                 (None, 64, 64, 160)              0                 conv2_block4_0_bn[0][0]                           \n",
            "______________________________________________________________________________________________________________________________________________________\n",
            "conv2_block4_1_conv (Conv2D)                     (None, 64, 64, 128)              20480             conv2_block4_0_relu[0][0]                         \n",
            "______________________________________________________________________________________________________________________________________________________\n",
            "conv2_block4_1_bn (BatchNormalization)           (None, 64, 64, 128)              512               conv2_block4_1_conv[0][0]                         \n",
            "______________________________________________________________________________________________________________________________________________________\n",
            "conv2_block4_1_relu (Activation)                 (None, 64, 64, 128)              0                 conv2_block4_1_bn[0][0]                           \n",
            "______________________________________________________________________________________________________________________________________________________\n",
            "conv2_block4_2_conv (Conv2D)                     (None, 64, 64, 32)               36864             conv2_block4_1_relu[0][0]                         \n",
            "______________________________________________________________________________________________________________________________________________________\n",
            "conv2_block4_concat (Concatenate)                (None, 64, 64, 192)              0                 conv2_block3_concat[0][0]                         \n",
            "                                                                                                    conv2_block4_2_conv[0][0]                         \n",
            "______________________________________________________________________________________________________________________________________________________\n",
            "conv2_block5_0_bn (BatchNormalization)           (None, 64, 64, 192)              768               conv2_block4_concat[0][0]                         \n",
            "______________________________________________________________________________________________________________________________________________________\n",
            "conv2_block5_0_relu (Activation)                 (None, 64, 64, 192)              0                 conv2_block5_0_bn[0][0]                           \n",
            "______________________________________________________________________________________________________________________________________________________\n",
            "conv2_block5_1_conv (Conv2D)                     (None, 64, 64, 128)              24576             conv2_block5_0_relu[0][0]                         \n",
            "______________________________________________________________________________________________________________________________________________________\n",
            "conv2_block5_1_bn (BatchNormalization)           (None, 64, 64, 128)              512               conv2_block5_1_conv[0][0]                         \n",
            "______________________________________________________________________________________________________________________________________________________\n",
            "conv2_block5_1_relu (Activation)                 (None, 64, 64, 128)              0                 conv2_block5_1_bn[0][0]                           \n",
            "______________________________________________________________________________________________________________________________________________________\n",
            "conv2_block5_2_conv (Conv2D)                     (None, 64, 64, 32)               36864             conv2_block5_1_relu[0][0]                         \n",
            "______________________________________________________________________________________________________________________________________________________\n",
            "conv2_block5_concat (Concatenate)                (None, 64, 64, 224)              0                 conv2_block4_concat[0][0]                         \n",
            "                                                                                                    conv2_block5_2_conv[0][0]                         \n",
            "______________________________________________________________________________________________________________________________________________________\n",
            "conv2_block6_0_bn (BatchNormalization)           (None, 64, 64, 224)              896               conv2_block5_concat[0][0]                         \n",
            "______________________________________________________________________________________________________________________________________________________\n",
            "conv2_block6_0_relu (Activation)                 (None, 64, 64, 224)              0                 conv2_block6_0_bn[0][0]                           \n",
            "______________________________________________________________________________________________________________________________________________________\n",
            "conv2_block6_1_conv (Conv2D)                     (None, 64, 64, 128)              28672             conv2_block6_0_relu[0][0]                         \n",
            "______________________________________________________________________________________________________________________________________________________\n",
            "conv2_block6_1_bn (BatchNormalization)           (None, 64, 64, 128)              512               conv2_block6_1_conv[0][0]                         \n",
            "______________________________________________________________________________________________________________________________________________________\n",
            "conv2_block6_1_relu (Activation)                 (None, 64, 64, 128)              0                 conv2_block6_1_bn[0][0]                           \n",
            "______________________________________________________________________________________________________________________________________________________\n",
            "conv2_block6_2_conv (Conv2D)                     (None, 64, 64, 32)               36864             conv2_block6_1_relu[0][0]                         \n",
            "______________________________________________________________________________________________________________________________________________________\n",
            "conv2_block6_concat (Concatenate)                (None, 64, 64, 256)              0                 conv2_block5_concat[0][0]                         \n",
            "                                                                                                    conv2_block6_2_conv[0][0]                         \n",
            "______________________________________________________________________________________________________________________________________________________\n",
            "pool2_bn (BatchNormalization)                    (None, 64, 64, 256)              1024              conv2_block6_concat[0][0]                         \n",
            "______________________________________________________________________________________________________________________________________________________\n",
            "pool2_relu (Activation)                          (None, 64, 64, 256)              0                 pool2_bn[0][0]                                    \n",
            "______________________________________________________________________________________________________________________________________________________\n",
            "pool2_conv (Conv2D)                              (None, 64, 64, 128)              32768             pool2_relu[0][0]                                  \n",
            "______________________________________________________________________________________________________________________________________________________\n",
            "pool2_pool (AveragePooling2D)                    (None, 32, 32, 128)              0                 pool2_conv[0][0]                                  \n",
            "______________________________________________________________________________________________________________________________________________________\n",
            "conv3_block1_0_bn (BatchNormalization)           (None, 32, 32, 128)              512               pool2_pool[0][0]                                  \n",
            "______________________________________________________________________________________________________________________________________________________\n",
            "conv3_block1_0_relu (Activation)                 (None, 32, 32, 128)              0                 conv3_block1_0_bn[0][0]                           \n",
            "______________________________________________________________________________________________________________________________________________________\n",
            "conv3_block1_1_conv (Conv2D)                     (None, 32, 32, 128)              16384             conv3_block1_0_relu[0][0]                         \n",
            "______________________________________________________________________________________________________________________________________________________\n",
            "conv3_block1_1_bn (BatchNormalization)           (None, 32, 32, 128)              512               conv3_block1_1_conv[0][0]                         \n",
            "______________________________________________________________________________________________________________________________________________________\n",
            "conv3_block1_1_relu (Activation)                 (None, 32, 32, 128)              0                 conv3_block1_1_bn[0][0]                           \n",
            "______________________________________________________________________________________________________________________________________________________\n",
            "conv3_block1_2_conv (Conv2D)                     (None, 32, 32, 32)               36864             conv3_block1_1_relu[0][0]                         \n",
            "______________________________________________________________________________________________________________________________________________________\n",
            "conv3_block1_concat (Concatenate)                (None, 32, 32, 160)              0                 pool2_pool[0][0]                                  \n",
            "                                                                                                    conv3_block1_2_conv[0][0]                         \n",
            "______________________________________________________________________________________________________________________________________________________\n",
            "conv3_block2_0_bn (BatchNormalization)           (None, 32, 32, 160)              640               conv3_block1_concat[0][0]                         \n",
            "______________________________________________________________________________________________________________________________________________________\n",
            "conv3_block2_0_relu (Activation)                 (None, 32, 32, 160)              0                 conv3_block2_0_bn[0][0]                           \n",
            "______________________________________________________________________________________________________________________________________________________\n",
            "conv3_block2_1_conv (Conv2D)                     (None, 32, 32, 128)              20480             conv3_block2_0_relu[0][0]                         \n",
            "______________________________________________________________________________________________________________________________________________________\n",
            "conv3_block2_1_bn (BatchNormalization)           (None, 32, 32, 128)              512               conv3_block2_1_conv[0][0]                         \n",
            "______________________________________________________________________________________________________________________________________________________\n",
            "conv3_block2_1_relu (Activation)                 (None, 32, 32, 128)              0                 conv3_block2_1_bn[0][0]                           \n",
            "______________________________________________________________________________________________________________________________________________________\n",
            "conv3_block2_2_conv (Conv2D)                     (None, 32, 32, 32)               36864             conv3_block2_1_relu[0][0]                         \n",
            "______________________________________________________________________________________________________________________________________________________\n",
            "conv3_block2_concat (Concatenate)                (None, 32, 32, 192)              0                 conv3_block1_concat[0][0]                         \n",
            "                                                                                                    conv3_block2_2_conv[0][0]                         \n",
            "______________________________________________________________________________________________________________________________________________________\n",
            "conv3_block3_0_bn (BatchNormalization)           (None, 32, 32, 192)              768               conv3_block2_concat[0][0]                         \n",
            "______________________________________________________________________________________________________________________________________________________\n",
            "conv3_block3_0_relu (Activation)                 (None, 32, 32, 192)              0                 conv3_block3_0_bn[0][0]                           \n",
            "______________________________________________________________________________________________________________________________________________________\n",
            "conv3_block3_1_conv (Conv2D)                     (None, 32, 32, 128)              24576             conv3_block3_0_relu[0][0]                         \n",
            "______________________________________________________________________________________________________________________________________________________\n",
            "conv3_block3_1_bn (BatchNormalization)           (None, 32, 32, 128)              512               conv3_block3_1_conv[0][0]                         \n",
            "______________________________________________________________________________________________________________________________________________________\n",
            "conv3_block3_1_relu (Activation)                 (None, 32, 32, 128)              0                 conv3_block3_1_bn[0][0]                           \n",
            "______________________________________________________________________________________________________________________________________________________\n",
            "conv3_block3_2_conv (Conv2D)                     (None, 32, 32, 32)               36864             conv3_block3_1_relu[0][0]                         \n",
            "______________________________________________________________________________________________________________________________________________________\n",
            "conv3_block3_concat (Concatenate)                (None, 32, 32, 224)              0                 conv3_block2_concat[0][0]                         \n",
            "                                                                                                    conv3_block3_2_conv[0][0]                         \n",
            "______________________________________________________________________________________________________________________________________________________\n",
            "conv3_block4_0_bn (BatchNormalization)           (None, 32, 32, 224)              896               conv3_block3_concat[0][0]                         \n",
            "______________________________________________________________________________________________________________________________________________________\n",
            "conv3_block4_0_relu (Activation)                 (None, 32, 32, 224)              0                 conv3_block4_0_bn[0][0]                           \n",
            "______________________________________________________________________________________________________________________________________________________\n",
            "conv3_block4_1_conv (Conv2D)                     (None, 32, 32, 128)              28672             conv3_block4_0_relu[0][0]                         \n",
            "______________________________________________________________________________________________________________________________________________________\n",
            "conv3_block4_1_bn (BatchNormalization)           (None, 32, 32, 128)              512               conv3_block4_1_conv[0][0]                         \n",
            "______________________________________________________________________________________________________________________________________________________\n",
            "conv3_block4_1_relu (Activation)                 (None, 32, 32, 128)              0                 conv3_block4_1_bn[0][0]                           \n",
            "______________________________________________________________________________________________________________________________________________________\n",
            "conv3_block4_2_conv (Conv2D)                     (None, 32, 32, 32)               36864             conv3_block4_1_relu[0][0]                         \n",
            "______________________________________________________________________________________________________________________________________________________\n",
            "conv3_block4_concat (Concatenate)                (None, 32, 32, 256)              0                 conv3_block3_concat[0][0]                         \n",
            "                                                                                                    conv3_block4_2_conv[0][0]                         \n",
            "______________________________________________________________________________________________________________________________________________________\n",
            "conv3_block5_0_bn (BatchNormalization)           (None, 32, 32, 256)              1024              conv3_block4_concat[0][0]                         \n",
            "______________________________________________________________________________________________________________________________________________________\n",
            "conv3_block5_0_relu (Activation)                 (None, 32, 32, 256)              0                 conv3_block5_0_bn[0][0]                           \n",
            "______________________________________________________________________________________________________________________________________________________\n",
            "conv3_block5_1_conv (Conv2D)                     (None, 32, 32, 128)              32768             conv3_block5_0_relu[0][0]                         \n",
            "______________________________________________________________________________________________________________________________________________________\n",
            "conv3_block5_1_bn (BatchNormalization)           (None, 32, 32, 128)              512               conv3_block5_1_conv[0][0]                         \n",
            "______________________________________________________________________________________________________________________________________________________\n",
            "conv3_block5_1_relu (Activation)                 (None, 32, 32, 128)              0                 conv3_block5_1_bn[0][0]                           \n",
            "______________________________________________________________________________________________________________________________________________________\n",
            "conv3_block5_2_conv (Conv2D)                     (None, 32, 32, 32)               36864             conv3_block5_1_relu[0][0]                         \n",
            "______________________________________________________________________________________________________________________________________________________\n",
            "conv3_block5_concat (Concatenate)                (None, 32, 32, 288)              0                 conv3_block4_concat[0][0]                         \n",
            "                                                                                                    conv3_block5_2_conv[0][0]                         \n",
            "______________________________________________________________________________________________________________________________________________________\n",
            "conv3_block6_0_bn (BatchNormalization)           (None, 32, 32, 288)              1152              conv3_block5_concat[0][0]                         \n",
            "______________________________________________________________________________________________________________________________________________________\n",
            "conv3_block6_0_relu (Activation)                 (None, 32, 32, 288)              0                 conv3_block6_0_bn[0][0]                           \n",
            "______________________________________________________________________________________________________________________________________________________\n",
            "conv3_block6_1_conv (Conv2D)                     (None, 32, 32, 128)              36864             conv3_block6_0_relu[0][0]                         \n",
            "______________________________________________________________________________________________________________________________________________________\n",
            "conv3_block6_1_bn (BatchNormalization)           (None, 32, 32, 128)              512               conv3_block6_1_conv[0][0]                         \n",
            "______________________________________________________________________________________________________________________________________________________\n",
            "conv3_block6_1_relu (Activation)                 (None, 32, 32, 128)              0                 conv3_block6_1_bn[0][0]                           \n",
            "______________________________________________________________________________________________________________________________________________________\n",
            "conv3_block6_2_conv (Conv2D)                     (None, 32, 32, 32)               36864             conv3_block6_1_relu[0][0]                         \n",
            "______________________________________________________________________________________________________________________________________________________\n",
            "conv3_block6_concat (Concatenate)                (None, 32, 32, 320)              0                 conv3_block5_concat[0][0]                         \n",
            "                                                                                                    conv3_block6_2_conv[0][0]                         \n",
            "______________________________________________________________________________________________________________________________________________________\n",
            "conv3_block7_0_bn (BatchNormalization)           (None, 32, 32, 320)              1280              conv3_block6_concat[0][0]                         \n",
            "______________________________________________________________________________________________________________________________________________________\n",
            "conv3_block7_0_relu (Activation)                 (None, 32, 32, 320)              0                 conv3_block7_0_bn[0][0]                           \n",
            "______________________________________________________________________________________________________________________________________________________\n",
            "conv3_block7_1_conv (Conv2D)                     (None, 32, 32, 128)              40960             conv3_block7_0_relu[0][0]                         \n",
            "______________________________________________________________________________________________________________________________________________________\n",
            "conv3_block7_1_bn (BatchNormalization)           (None, 32, 32, 128)              512               conv3_block7_1_conv[0][0]                         \n",
            "______________________________________________________________________________________________________________________________________________________\n",
            "conv3_block7_1_relu (Activation)                 (None, 32, 32, 128)              0                 conv3_block7_1_bn[0][0]                           \n",
            "______________________________________________________________________________________________________________________________________________________\n",
            "conv3_block7_2_conv (Conv2D)                     (None, 32, 32, 32)               36864             conv3_block7_1_relu[0][0]                         \n",
            "______________________________________________________________________________________________________________________________________________________\n",
            "conv3_block7_concat (Concatenate)                (None, 32, 32, 352)              0                 conv3_block6_concat[0][0]                         \n",
            "                                                                                                    conv3_block7_2_conv[0][0]                         \n",
            "______________________________________________________________________________________________________________________________________________________\n",
            "conv3_block8_0_bn (BatchNormalization)           (None, 32, 32, 352)              1408              conv3_block7_concat[0][0]                         \n",
            "______________________________________________________________________________________________________________________________________________________\n",
            "conv3_block8_0_relu (Activation)                 (None, 32, 32, 352)              0                 conv3_block8_0_bn[0][0]                           \n",
            "______________________________________________________________________________________________________________________________________________________\n",
            "conv3_block8_1_conv (Conv2D)                     (None, 32, 32, 128)              45056             conv3_block8_0_relu[0][0]                         \n",
            "______________________________________________________________________________________________________________________________________________________\n",
            "conv3_block8_1_bn (BatchNormalization)           (None, 32, 32, 128)              512               conv3_block8_1_conv[0][0]                         \n",
            "______________________________________________________________________________________________________________________________________________________\n",
            "conv3_block8_1_relu (Activation)                 (None, 32, 32, 128)              0                 conv3_block8_1_bn[0][0]                           \n",
            "______________________________________________________________________________________________________________________________________________________\n",
            "conv3_block8_2_conv (Conv2D)                     (None, 32, 32, 32)               36864             conv3_block8_1_relu[0][0]                         \n",
            "______________________________________________________________________________________________________________________________________________________\n",
            "conv3_block8_concat (Concatenate)                (None, 32, 32, 384)              0                 conv3_block7_concat[0][0]                         \n",
            "                                                                                                    conv3_block8_2_conv[0][0]                         \n",
            "______________________________________________________________________________________________________________________________________________________\n",
            "conv3_block9_0_bn (BatchNormalization)           (None, 32, 32, 384)              1536              conv3_block8_concat[0][0]                         \n",
            "______________________________________________________________________________________________________________________________________________________\n",
            "conv3_block9_0_relu (Activation)                 (None, 32, 32, 384)              0                 conv3_block9_0_bn[0][0]                           \n",
            "______________________________________________________________________________________________________________________________________________________\n",
            "conv3_block9_1_conv (Conv2D)                     (None, 32, 32, 128)              49152             conv3_block9_0_relu[0][0]                         \n",
            "______________________________________________________________________________________________________________________________________________________\n",
            "conv3_block9_1_bn (BatchNormalization)           (None, 32, 32, 128)              512               conv3_block9_1_conv[0][0]                         \n",
            "______________________________________________________________________________________________________________________________________________________\n",
            "conv3_block9_1_relu (Activation)                 (None, 32, 32, 128)              0                 conv3_block9_1_bn[0][0]                           \n",
            "______________________________________________________________________________________________________________________________________________________\n",
            "conv3_block9_2_conv (Conv2D)                     (None, 32, 32, 32)               36864             conv3_block9_1_relu[0][0]                         \n",
            "______________________________________________________________________________________________________________________________________________________\n",
            "conv3_block9_concat (Concatenate)                (None, 32, 32, 416)              0                 conv3_block8_concat[0][0]                         \n",
            "                                                                                                    conv3_block9_2_conv[0][0]                         \n",
            "______________________________________________________________________________________________________________________________________________________\n",
            "conv3_block10_0_bn (BatchNormalization)          (None, 32, 32, 416)              1664              conv3_block9_concat[0][0]                         \n",
            "______________________________________________________________________________________________________________________________________________________\n",
            "conv3_block10_0_relu (Activation)                (None, 32, 32, 416)              0                 conv3_block10_0_bn[0][0]                          \n",
            "______________________________________________________________________________________________________________________________________________________\n",
            "conv3_block10_1_conv (Conv2D)                    (None, 32, 32, 128)              53248             conv3_block10_0_relu[0][0]                        \n",
            "______________________________________________________________________________________________________________________________________________________\n",
            "conv3_block10_1_bn (BatchNormalization)          (None, 32, 32, 128)              512               conv3_block10_1_conv[0][0]                        \n",
            "______________________________________________________________________________________________________________________________________________________\n",
            "conv3_block10_1_relu (Activation)                (None, 32, 32, 128)              0                 conv3_block10_1_bn[0][0]                          \n",
            "______________________________________________________________________________________________________________________________________________________\n",
            "conv3_block10_2_conv (Conv2D)                    (None, 32, 32, 32)               36864             conv3_block10_1_relu[0][0]                        \n",
            "______________________________________________________________________________________________________________________________________________________\n",
            "conv3_block10_concat (Concatenate)               (None, 32, 32, 448)              0                 conv3_block9_concat[0][0]                         \n",
            "                                                                                                    conv3_block10_2_conv[0][0]                        \n",
            "______________________________________________________________________________________________________________________________________________________\n",
            "conv3_block11_0_bn (BatchNormalization)          (None, 32, 32, 448)              1792              conv3_block10_concat[0][0]                        \n",
            "______________________________________________________________________________________________________________________________________________________\n",
            "conv3_block11_0_relu (Activation)                (None, 32, 32, 448)              0                 conv3_block11_0_bn[0][0]                          \n",
            "______________________________________________________________________________________________________________________________________________________\n",
            "conv3_block11_1_conv (Conv2D)                    (None, 32, 32, 128)              57344             conv3_block11_0_relu[0][0]                        \n",
            "______________________________________________________________________________________________________________________________________________________\n",
            "conv3_block11_1_bn (BatchNormalization)          (None, 32, 32, 128)              512               conv3_block11_1_conv[0][0]                        \n",
            "______________________________________________________________________________________________________________________________________________________\n",
            "conv3_block11_1_relu (Activation)                (None, 32, 32, 128)              0                 conv3_block11_1_bn[0][0]                          \n",
            "______________________________________________________________________________________________________________________________________________________\n",
            "conv3_block11_2_conv (Conv2D)                    (None, 32, 32, 32)               36864             conv3_block11_1_relu[0][0]                        \n",
            "______________________________________________________________________________________________________________________________________________________\n",
            "conv3_block11_concat (Concatenate)               (None, 32, 32, 480)              0                 conv3_block10_concat[0][0]                        \n",
            "                                                                                                    conv3_block11_2_conv[0][0]                        \n",
            "______________________________________________________________________________________________________________________________________________________\n",
            "conv3_block12_0_bn (BatchNormalization)          (None, 32, 32, 480)              1920              conv3_block11_concat[0][0]                        \n",
            "______________________________________________________________________________________________________________________________________________________\n",
            "conv3_block12_0_relu (Activation)                (None, 32, 32, 480)              0                 conv3_block12_0_bn[0][0]                          \n",
            "______________________________________________________________________________________________________________________________________________________\n",
            "conv3_block12_1_conv (Conv2D)                    (None, 32, 32, 128)              61440             conv3_block12_0_relu[0][0]                        \n",
            "______________________________________________________________________________________________________________________________________________________\n",
            "conv3_block12_1_bn (BatchNormalization)          (None, 32, 32, 128)              512               conv3_block12_1_conv[0][0]                        \n",
            "______________________________________________________________________________________________________________________________________________________\n",
            "conv3_block12_1_relu (Activation)                (None, 32, 32, 128)              0                 conv3_block12_1_bn[0][0]                          \n",
            "______________________________________________________________________________________________________________________________________________________\n",
            "conv3_block12_2_conv (Conv2D)                    (None, 32, 32, 32)               36864             conv3_block12_1_relu[0][0]                        \n",
            "______________________________________________________________________________________________________________________________________________________\n",
            "conv3_block12_concat (Concatenate)               (None, 32, 32, 512)              0                 conv3_block11_concat[0][0]                        \n",
            "                                                                                                    conv3_block12_2_conv[0][0]                        \n",
            "______________________________________________________________________________________________________________________________________________________\n",
            "pool3_bn (BatchNormalization)                    (None, 32, 32, 512)              2048              conv3_block12_concat[0][0]                        \n",
            "______________________________________________________________________________________________________________________________________________________\n",
            "pool3_relu (Activation)                          (None, 32, 32, 512)              0                 pool3_bn[0][0]                                    \n",
            "______________________________________________________________________________________________________________________________________________________\n",
            "pool3_conv (Conv2D)                              (None, 32, 32, 256)              131072            pool3_relu[0][0]                                  \n",
            "______________________________________________________________________________________________________________________________________________________\n",
            "pool3_pool (AveragePooling2D)                    (None, 16, 16, 256)              0                 pool3_conv[0][0]                                  \n",
            "______________________________________________________________________________________________________________________________________________________\n",
            "conv4_block1_0_bn (BatchNormalization)           (None, 16, 16, 256)              1024              pool3_pool[0][0]                                  \n",
            "______________________________________________________________________________________________________________________________________________________\n",
            "conv4_block1_0_relu (Activation)                 (None, 16, 16, 256)              0                 conv4_block1_0_bn[0][0]                           \n",
            "______________________________________________________________________________________________________________________________________________________\n",
            "conv4_block1_1_conv (Conv2D)                     (None, 16, 16, 128)              32768             conv4_block1_0_relu[0][0]                         \n",
            "______________________________________________________________________________________________________________________________________________________\n",
            "conv4_block1_1_bn (BatchNormalization)           (None, 16, 16, 128)              512               conv4_block1_1_conv[0][0]                         \n",
            "______________________________________________________________________________________________________________________________________________________\n",
            "conv4_block1_1_relu (Activation)                 (None, 16, 16, 128)              0                 conv4_block1_1_bn[0][0]                           \n",
            "______________________________________________________________________________________________________________________________________________________\n",
            "conv4_block1_2_conv (Conv2D)                     (None, 16, 16, 32)               36864             conv4_block1_1_relu[0][0]                         \n",
            "______________________________________________________________________________________________________________________________________________________\n",
            "conv4_block1_concat (Concatenate)                (None, 16, 16, 288)              0                 pool3_pool[0][0]                                  \n",
            "                                                                                                    conv4_block1_2_conv[0][0]                         \n",
            "______________________________________________________________________________________________________________________________________________________\n",
            "conv4_block2_0_bn (BatchNormalization)           (None, 16, 16, 288)              1152              conv4_block1_concat[0][0]                         \n",
            "______________________________________________________________________________________________________________________________________________________\n",
            "conv4_block2_0_relu (Activation)                 (None, 16, 16, 288)              0                 conv4_block2_0_bn[0][0]                           \n",
            "______________________________________________________________________________________________________________________________________________________\n",
            "conv4_block2_1_conv (Conv2D)                     (None, 16, 16, 128)              36864             conv4_block2_0_relu[0][0]                         \n",
            "______________________________________________________________________________________________________________________________________________________\n",
            "conv4_block2_1_bn (BatchNormalization)           (None, 16, 16, 128)              512               conv4_block2_1_conv[0][0]                         \n",
            "______________________________________________________________________________________________________________________________________________________\n",
            "conv4_block2_1_relu (Activation)                 (None, 16, 16, 128)              0                 conv4_block2_1_bn[0][0]                           \n",
            "______________________________________________________________________________________________________________________________________________________\n",
            "conv4_block2_2_conv (Conv2D)                     (None, 16, 16, 32)               36864             conv4_block2_1_relu[0][0]                         \n",
            "______________________________________________________________________________________________________________________________________________________\n",
            "conv4_block2_concat (Concatenate)                (None, 16, 16, 320)              0                 conv4_block1_concat[0][0]                         \n",
            "                                                                                                    conv4_block2_2_conv[0][0]                         \n",
            "______________________________________________________________________________________________________________________________________________________\n",
            "conv4_block3_0_bn (BatchNormalization)           (None, 16, 16, 320)              1280              conv4_block2_concat[0][0]                         \n",
            "______________________________________________________________________________________________________________________________________________________\n",
            "conv4_block3_0_relu (Activation)                 (None, 16, 16, 320)              0                 conv4_block3_0_bn[0][0]                           \n",
            "______________________________________________________________________________________________________________________________________________________\n",
            "conv4_block3_1_conv (Conv2D)                     (None, 16, 16, 128)              40960             conv4_block3_0_relu[0][0]                         \n",
            "______________________________________________________________________________________________________________________________________________________\n",
            "conv4_block3_1_bn (BatchNormalization)           (None, 16, 16, 128)              512               conv4_block3_1_conv[0][0]                         \n",
            "______________________________________________________________________________________________________________________________________________________\n",
            "conv4_block3_1_relu (Activation)                 (None, 16, 16, 128)              0                 conv4_block3_1_bn[0][0]                           \n",
            "______________________________________________________________________________________________________________________________________________________\n",
            "conv4_block3_2_conv (Conv2D)                     (None, 16, 16, 32)               36864             conv4_block3_1_relu[0][0]                         \n",
            "______________________________________________________________________________________________________________________________________________________\n",
            "conv4_block3_concat (Concatenate)                (None, 16, 16, 352)              0                 conv4_block2_concat[0][0]                         \n",
            "                                                                                                    conv4_block3_2_conv[0][0]                         \n",
            "______________________________________________________________________________________________________________________________________________________\n",
            "conv4_block4_0_bn (BatchNormalization)           (None, 16, 16, 352)              1408              conv4_block3_concat[0][0]                         \n",
            "______________________________________________________________________________________________________________________________________________________\n",
            "conv4_block4_0_relu (Activation)                 (None, 16, 16, 352)              0                 conv4_block4_0_bn[0][0]                           \n",
            "______________________________________________________________________________________________________________________________________________________\n",
            "conv4_block4_1_conv (Conv2D)                     (None, 16, 16, 128)              45056             conv4_block4_0_relu[0][0]                         \n",
            "______________________________________________________________________________________________________________________________________________________\n",
            "conv4_block4_1_bn (BatchNormalization)           (None, 16, 16, 128)              512               conv4_block4_1_conv[0][0]                         \n",
            "______________________________________________________________________________________________________________________________________________________\n",
            "conv4_block4_1_relu (Activation)                 (None, 16, 16, 128)              0                 conv4_block4_1_bn[0][0]                           \n",
            "______________________________________________________________________________________________________________________________________________________\n",
            "conv4_block4_2_conv (Conv2D)                     (None, 16, 16, 32)               36864             conv4_block4_1_relu[0][0]                         \n",
            "______________________________________________________________________________________________________________________________________________________\n",
            "conv4_block4_concat (Concatenate)                (None, 16, 16, 384)              0                 conv4_block3_concat[0][0]                         \n",
            "                                                                                                    conv4_block4_2_conv[0][0]                         \n",
            "______________________________________________________________________________________________________________________________________________________\n",
            "conv4_block5_0_bn (BatchNormalization)           (None, 16, 16, 384)              1536              conv4_block4_concat[0][0]                         \n",
            "______________________________________________________________________________________________________________________________________________________\n",
            "conv4_block5_0_relu (Activation)                 (None, 16, 16, 384)              0                 conv4_block5_0_bn[0][0]                           \n",
            "______________________________________________________________________________________________________________________________________________________\n",
            "conv4_block5_1_conv (Conv2D)                     (None, 16, 16, 128)              49152             conv4_block5_0_relu[0][0]                         \n",
            "______________________________________________________________________________________________________________________________________________________\n",
            "conv4_block5_1_bn (BatchNormalization)           (None, 16, 16, 128)              512               conv4_block5_1_conv[0][0]                         \n",
            "______________________________________________________________________________________________________________________________________________________\n",
            "conv4_block5_1_relu (Activation)                 (None, 16, 16, 128)              0                 conv4_block5_1_bn[0][0]                           \n",
            "______________________________________________________________________________________________________________________________________________________\n",
            "conv4_block5_2_conv (Conv2D)                     (None, 16, 16, 32)               36864             conv4_block5_1_relu[0][0]                         \n",
            "______________________________________________________________________________________________________________________________________________________\n",
            "conv4_block5_concat (Concatenate)                (None, 16, 16, 416)              0                 conv4_block4_concat[0][0]                         \n",
            "                                                                                                    conv4_block5_2_conv[0][0]                         \n",
            "______________________________________________________________________________________________________________________________________________________\n",
            "conv4_block6_0_bn (BatchNormalization)           (None, 16, 16, 416)              1664              conv4_block5_concat[0][0]                         \n",
            "______________________________________________________________________________________________________________________________________________________\n",
            "conv4_block6_0_relu (Activation)                 (None, 16, 16, 416)              0                 conv4_block6_0_bn[0][0]                           \n",
            "______________________________________________________________________________________________________________________________________________________\n",
            "conv4_block6_1_conv (Conv2D)                     (None, 16, 16, 128)              53248             conv4_block6_0_relu[0][0]                         \n",
            "______________________________________________________________________________________________________________________________________________________\n",
            "conv4_block6_1_bn (BatchNormalization)           (None, 16, 16, 128)              512               conv4_block6_1_conv[0][0]                         \n",
            "______________________________________________________________________________________________________________________________________________________\n",
            "conv4_block6_1_relu (Activation)                 (None, 16, 16, 128)              0                 conv4_block6_1_bn[0][0]                           \n",
            "______________________________________________________________________________________________________________________________________________________\n",
            "conv4_block6_2_conv (Conv2D)                     (None, 16, 16, 32)               36864             conv4_block6_1_relu[0][0]                         \n",
            "______________________________________________________________________________________________________________________________________________________\n",
            "conv4_block6_concat (Concatenate)                (None, 16, 16, 448)              0                 conv4_block5_concat[0][0]                         \n",
            "                                                                                                    conv4_block6_2_conv[0][0]                         \n",
            "______________________________________________________________________________________________________________________________________________________\n",
            "conv4_block7_0_bn (BatchNormalization)           (None, 16, 16, 448)              1792              conv4_block6_concat[0][0]                         \n",
            "______________________________________________________________________________________________________________________________________________________\n",
            "conv4_block7_0_relu (Activation)                 (None, 16, 16, 448)              0                 conv4_block7_0_bn[0][0]                           \n",
            "______________________________________________________________________________________________________________________________________________________\n",
            "conv4_block7_1_conv (Conv2D)                     (None, 16, 16, 128)              57344             conv4_block7_0_relu[0][0]                         \n",
            "______________________________________________________________________________________________________________________________________________________\n",
            "conv4_block7_1_bn (BatchNormalization)           (None, 16, 16, 128)              512               conv4_block7_1_conv[0][0]                         \n",
            "______________________________________________________________________________________________________________________________________________________\n",
            "conv4_block7_1_relu (Activation)                 (None, 16, 16, 128)              0                 conv4_block7_1_bn[0][0]                           \n",
            "______________________________________________________________________________________________________________________________________________________\n",
            "conv4_block7_2_conv (Conv2D)                     (None, 16, 16, 32)               36864             conv4_block7_1_relu[0][0]                         \n",
            "______________________________________________________________________________________________________________________________________________________\n",
            "conv4_block7_concat (Concatenate)                (None, 16, 16, 480)              0                 conv4_block6_concat[0][0]                         \n",
            "                                                                                                    conv4_block7_2_conv[0][0]                         \n",
            "______________________________________________________________________________________________________________________________________________________\n",
            "conv4_block8_0_bn (BatchNormalization)           (None, 16, 16, 480)              1920              conv4_block7_concat[0][0]                         \n",
            "______________________________________________________________________________________________________________________________________________________\n",
            "conv4_block8_0_relu (Activation)                 (None, 16, 16, 480)              0                 conv4_block8_0_bn[0][0]                           \n",
            "______________________________________________________________________________________________________________________________________________________\n",
            "conv4_block8_1_conv (Conv2D)                     (None, 16, 16, 128)              61440             conv4_block8_0_relu[0][0]                         \n",
            "______________________________________________________________________________________________________________________________________________________\n",
            "conv4_block8_1_bn (BatchNormalization)           (None, 16, 16, 128)              512               conv4_block8_1_conv[0][0]                         \n",
            "______________________________________________________________________________________________________________________________________________________\n",
            "conv4_block8_1_relu (Activation)                 (None, 16, 16, 128)              0                 conv4_block8_1_bn[0][0]                           \n",
            "______________________________________________________________________________________________________________________________________________________\n",
            "conv4_block8_2_conv (Conv2D)                     (None, 16, 16, 32)               36864             conv4_block8_1_relu[0][0]                         \n",
            "______________________________________________________________________________________________________________________________________________________\n",
            "conv4_block8_concat (Concatenate)                (None, 16, 16, 512)              0                 conv4_block7_concat[0][0]                         \n",
            "                                                                                                    conv4_block8_2_conv[0][0]                         \n",
            "______________________________________________________________________________________________________________________________________________________\n",
            "conv4_block9_0_bn (BatchNormalization)           (None, 16, 16, 512)              2048              conv4_block8_concat[0][0]                         \n",
            "______________________________________________________________________________________________________________________________________________________\n",
            "conv4_block9_0_relu (Activation)                 (None, 16, 16, 512)              0                 conv4_block9_0_bn[0][0]                           \n",
            "______________________________________________________________________________________________________________________________________________________\n",
            "conv4_block9_1_conv (Conv2D)                     (None, 16, 16, 128)              65536             conv4_block9_0_relu[0][0]                         \n",
            "______________________________________________________________________________________________________________________________________________________\n",
            "conv4_block9_1_bn (BatchNormalization)           (None, 16, 16, 128)              512               conv4_block9_1_conv[0][0]                         \n",
            "______________________________________________________________________________________________________________________________________________________\n",
            "conv4_block9_1_relu (Activation)                 (None, 16, 16, 128)              0                 conv4_block9_1_bn[0][0]                           \n",
            "______________________________________________________________________________________________________________________________________________________\n",
            "conv4_block9_2_conv (Conv2D)                     (None, 16, 16, 32)               36864             conv4_block9_1_relu[0][0]                         \n",
            "______________________________________________________________________________________________________________________________________________________\n",
            "conv4_block9_concat (Concatenate)                (None, 16, 16, 544)              0                 conv4_block8_concat[0][0]                         \n",
            "                                                                                                    conv4_block9_2_conv[0][0]                         \n",
            "______________________________________________________________________________________________________________________________________________________\n",
            "conv4_block10_0_bn (BatchNormalization)          (None, 16, 16, 544)              2176              conv4_block9_concat[0][0]                         \n",
            "______________________________________________________________________________________________________________________________________________________\n",
            "conv4_block10_0_relu (Activation)                (None, 16, 16, 544)              0                 conv4_block10_0_bn[0][0]                          \n",
            "______________________________________________________________________________________________________________________________________________________\n",
            "conv4_block10_1_conv (Conv2D)                    (None, 16, 16, 128)              69632             conv4_block10_0_relu[0][0]                        \n",
            "______________________________________________________________________________________________________________________________________________________\n",
            "conv4_block10_1_bn (BatchNormalization)          (None, 16, 16, 128)              512               conv4_block10_1_conv[0][0]                        \n",
            "______________________________________________________________________________________________________________________________________________________\n",
            "conv4_block10_1_relu (Activation)                (None, 16, 16, 128)              0                 conv4_block10_1_bn[0][0]                          \n",
            "______________________________________________________________________________________________________________________________________________________\n",
            "conv4_block10_2_conv (Conv2D)                    (None, 16, 16, 32)               36864             conv4_block10_1_relu[0][0]                        \n",
            "______________________________________________________________________________________________________________________________________________________\n",
            "conv4_block10_concat (Concatenate)               (None, 16, 16, 576)              0                 conv4_block9_concat[0][0]                         \n",
            "                                                                                                    conv4_block10_2_conv[0][0]                        \n",
            "______________________________________________________________________________________________________________________________________________________\n",
            "conv4_block11_0_bn (BatchNormalization)          (None, 16, 16, 576)              2304              conv4_block10_concat[0][0]                        \n",
            "______________________________________________________________________________________________________________________________________________________\n",
            "conv4_block11_0_relu (Activation)                (None, 16, 16, 576)              0                 conv4_block11_0_bn[0][0]                          \n",
            "______________________________________________________________________________________________________________________________________________________\n",
            "conv4_block11_1_conv (Conv2D)                    (None, 16, 16, 128)              73728             conv4_block11_0_relu[0][0]                        \n",
            "______________________________________________________________________________________________________________________________________________________\n",
            "conv4_block11_1_bn (BatchNormalization)          (None, 16, 16, 128)              512               conv4_block11_1_conv[0][0]                        \n",
            "______________________________________________________________________________________________________________________________________________________\n",
            "conv4_block11_1_relu (Activation)                (None, 16, 16, 128)              0                 conv4_block11_1_bn[0][0]                          \n",
            "______________________________________________________________________________________________________________________________________________________\n",
            "conv4_block11_2_conv (Conv2D)                    (None, 16, 16, 32)               36864             conv4_block11_1_relu[0][0]                        \n",
            "______________________________________________________________________________________________________________________________________________________\n",
            "conv4_block11_concat (Concatenate)               (None, 16, 16, 608)              0                 conv4_block10_concat[0][0]                        \n",
            "                                                                                                    conv4_block11_2_conv[0][0]                        \n",
            "______________________________________________________________________________________________________________________________________________________\n",
            "conv4_block12_0_bn (BatchNormalization)          (None, 16, 16, 608)              2432              conv4_block11_concat[0][0]                        \n",
            "______________________________________________________________________________________________________________________________________________________\n",
            "conv4_block12_0_relu (Activation)                (None, 16, 16, 608)              0                 conv4_block12_0_bn[0][0]                          \n",
            "______________________________________________________________________________________________________________________________________________________\n",
            "conv4_block12_1_conv (Conv2D)                    (None, 16, 16, 128)              77824             conv4_block12_0_relu[0][0]                        \n",
            "______________________________________________________________________________________________________________________________________________________\n",
            "conv4_block12_1_bn (BatchNormalization)          (None, 16, 16, 128)              512               conv4_block12_1_conv[0][0]                        \n",
            "______________________________________________________________________________________________________________________________________________________\n",
            "conv4_block12_1_relu (Activation)                (None, 16, 16, 128)              0                 conv4_block12_1_bn[0][0]                          \n",
            "______________________________________________________________________________________________________________________________________________________\n",
            "conv4_block12_2_conv (Conv2D)                    (None, 16, 16, 32)               36864             conv4_block12_1_relu[0][0]                        \n",
            "______________________________________________________________________________________________________________________________________________________\n",
            "conv4_block12_concat (Concatenate)               (None, 16, 16, 640)              0                 conv4_block11_concat[0][0]                        \n",
            "                                                                                                    conv4_block12_2_conv[0][0]                        \n",
            "______________________________________________________________________________________________________________________________________________________\n",
            "conv4_block13_0_bn (BatchNormalization)          (None, 16, 16, 640)              2560              conv4_block12_concat[0][0]                        \n",
            "______________________________________________________________________________________________________________________________________________________\n",
            "conv4_block13_0_relu (Activation)                (None, 16, 16, 640)              0                 conv4_block13_0_bn[0][0]                          \n",
            "______________________________________________________________________________________________________________________________________________________\n",
            "conv4_block13_1_conv (Conv2D)                    (None, 16, 16, 128)              81920             conv4_block13_0_relu[0][0]                        \n",
            "______________________________________________________________________________________________________________________________________________________\n",
            "conv4_block13_1_bn (BatchNormalization)          (None, 16, 16, 128)              512               conv4_block13_1_conv[0][0]                        \n",
            "______________________________________________________________________________________________________________________________________________________\n",
            "conv4_block13_1_relu (Activation)                (None, 16, 16, 128)              0                 conv4_block13_1_bn[0][0]                          \n",
            "______________________________________________________________________________________________________________________________________________________\n",
            "conv4_block13_2_conv (Conv2D)                    (None, 16, 16, 32)               36864             conv4_block13_1_relu[0][0]                        \n",
            "______________________________________________________________________________________________________________________________________________________\n",
            "conv4_block13_concat (Concatenate)               (None, 16, 16, 672)              0                 conv4_block12_concat[0][0]                        \n",
            "                                                                                                    conv4_block13_2_conv[0][0]                        \n",
            "______________________________________________________________________________________________________________________________________________________\n",
            "conv4_block14_0_bn (BatchNormalization)          (None, 16, 16, 672)              2688              conv4_block13_concat[0][0]                        \n",
            "______________________________________________________________________________________________________________________________________________________\n",
            "conv4_block14_0_relu (Activation)                (None, 16, 16, 672)              0                 conv4_block14_0_bn[0][0]                          \n",
            "______________________________________________________________________________________________________________________________________________________\n",
            "conv4_block14_1_conv (Conv2D)                    (None, 16, 16, 128)              86016             conv4_block14_0_relu[0][0]                        \n",
            "______________________________________________________________________________________________________________________________________________________\n",
            "conv4_block14_1_bn (BatchNormalization)          (None, 16, 16, 128)              512               conv4_block14_1_conv[0][0]                        \n",
            "______________________________________________________________________________________________________________________________________________________\n",
            "conv4_block14_1_relu (Activation)                (None, 16, 16, 128)              0                 conv4_block14_1_bn[0][0]                          \n",
            "______________________________________________________________________________________________________________________________________________________\n",
            "conv4_block14_2_conv (Conv2D)                    (None, 16, 16, 32)               36864             conv4_block14_1_relu[0][0]                        \n",
            "______________________________________________________________________________________________________________________________________________________\n",
            "conv4_block14_concat (Concatenate)               (None, 16, 16, 704)              0                 conv4_block13_concat[0][0]                        \n",
            "                                                                                                    conv4_block14_2_conv[0][0]                        \n",
            "______________________________________________________________________________________________________________________________________________________\n",
            "conv4_block15_0_bn (BatchNormalization)          (None, 16, 16, 704)              2816              conv4_block14_concat[0][0]                        \n",
            "______________________________________________________________________________________________________________________________________________________\n",
            "conv4_block15_0_relu (Activation)                (None, 16, 16, 704)              0                 conv4_block15_0_bn[0][0]                          \n",
            "______________________________________________________________________________________________________________________________________________________\n",
            "conv4_block15_1_conv (Conv2D)                    (None, 16, 16, 128)              90112             conv4_block15_0_relu[0][0]                        \n",
            "______________________________________________________________________________________________________________________________________________________\n",
            "conv4_block15_1_bn (BatchNormalization)          (None, 16, 16, 128)              512               conv4_block15_1_conv[0][0]                        \n",
            "______________________________________________________________________________________________________________________________________________________\n",
            "conv4_block15_1_relu (Activation)                (None, 16, 16, 128)              0                 conv4_block15_1_bn[0][0]                          \n",
            "______________________________________________________________________________________________________________________________________________________\n",
            "conv4_block15_2_conv (Conv2D)                    (None, 16, 16, 32)               36864             conv4_block15_1_relu[0][0]                        \n",
            "______________________________________________________________________________________________________________________________________________________\n",
            "conv4_block15_concat (Concatenate)               (None, 16, 16, 736)              0                 conv4_block14_concat[0][0]                        \n",
            "                                                                                                    conv4_block15_2_conv[0][0]                        \n",
            "______________________________________________________________________________________________________________________________________________________\n",
            "conv4_block16_0_bn (BatchNormalization)          (None, 16, 16, 736)              2944              conv4_block15_concat[0][0]                        \n",
            "______________________________________________________________________________________________________________________________________________________\n",
            "conv4_block16_0_relu (Activation)                (None, 16, 16, 736)              0                 conv4_block16_0_bn[0][0]                          \n",
            "______________________________________________________________________________________________________________________________________________________\n",
            "conv4_block16_1_conv (Conv2D)                    (None, 16, 16, 128)              94208             conv4_block16_0_relu[0][0]                        \n",
            "______________________________________________________________________________________________________________________________________________________\n",
            "conv4_block16_1_bn (BatchNormalization)          (None, 16, 16, 128)              512               conv4_block16_1_conv[0][0]                        \n",
            "______________________________________________________________________________________________________________________________________________________\n",
            "conv4_block16_1_relu (Activation)                (None, 16, 16, 128)              0                 conv4_block16_1_bn[0][0]                          \n",
            "______________________________________________________________________________________________________________________________________________________\n",
            "conv4_block16_2_conv (Conv2D)                    (None, 16, 16, 32)               36864             conv4_block16_1_relu[0][0]                        \n",
            "______________________________________________________________________________________________________________________________________________________\n",
            "conv4_block16_concat (Concatenate)               (None, 16, 16, 768)              0                 conv4_block15_concat[0][0]                        \n",
            "                                                                                                    conv4_block16_2_conv[0][0]                        \n",
            "______________________________________________________________________________________________________________________________________________________\n",
            "conv4_block17_0_bn (BatchNormalization)          (None, 16, 16, 768)              3072              conv4_block16_concat[0][0]                        \n",
            "______________________________________________________________________________________________________________________________________________________\n",
            "conv4_block17_0_relu (Activation)                (None, 16, 16, 768)              0                 conv4_block17_0_bn[0][0]                          \n",
            "______________________________________________________________________________________________________________________________________________________\n",
            "conv4_block17_1_conv (Conv2D)                    (None, 16, 16, 128)              98304             conv4_block17_0_relu[0][0]                        \n",
            "______________________________________________________________________________________________________________________________________________________\n",
            "conv4_block17_1_bn (BatchNormalization)          (None, 16, 16, 128)              512               conv4_block17_1_conv[0][0]                        \n",
            "______________________________________________________________________________________________________________________________________________________\n",
            "conv4_block17_1_relu (Activation)                (None, 16, 16, 128)              0                 conv4_block17_1_bn[0][0]                          \n",
            "______________________________________________________________________________________________________________________________________________________\n",
            "conv4_block17_2_conv (Conv2D)                    (None, 16, 16, 32)               36864             conv4_block17_1_relu[0][0]                        \n",
            "______________________________________________________________________________________________________________________________________________________\n",
            "conv4_block17_concat (Concatenate)               (None, 16, 16, 800)              0                 conv4_block16_concat[0][0]                        \n",
            "                                                                                                    conv4_block17_2_conv[0][0]                        \n",
            "______________________________________________________________________________________________________________________________________________________\n",
            "conv4_block18_0_bn (BatchNormalization)          (None, 16, 16, 800)              3200              conv4_block17_concat[0][0]                        \n",
            "______________________________________________________________________________________________________________________________________________________\n",
            "conv4_block18_0_relu (Activation)                (None, 16, 16, 800)              0                 conv4_block18_0_bn[0][0]                          \n",
            "______________________________________________________________________________________________________________________________________________________\n",
            "conv4_block18_1_conv (Conv2D)                    (None, 16, 16, 128)              102400            conv4_block18_0_relu[0][0]                        \n",
            "______________________________________________________________________________________________________________________________________________________\n",
            "conv4_block18_1_bn (BatchNormalization)          (None, 16, 16, 128)              512               conv4_block18_1_conv[0][0]                        \n",
            "______________________________________________________________________________________________________________________________________________________\n",
            "conv4_block18_1_relu (Activation)                (None, 16, 16, 128)              0                 conv4_block18_1_bn[0][0]                          \n",
            "______________________________________________________________________________________________________________________________________________________\n",
            "conv4_block18_2_conv (Conv2D)                    (None, 16, 16, 32)               36864             conv4_block18_1_relu[0][0]                        \n",
            "______________________________________________________________________________________________________________________________________________________\n",
            "conv4_block18_concat (Concatenate)               (None, 16, 16, 832)              0                 conv4_block17_concat[0][0]                        \n",
            "                                                                                                    conv4_block18_2_conv[0][0]                        \n",
            "______________________________________________________________________________________________________________________________________________________\n",
            "conv4_block19_0_bn (BatchNormalization)          (None, 16, 16, 832)              3328              conv4_block18_concat[0][0]                        \n",
            "______________________________________________________________________________________________________________________________________________________\n",
            "conv4_block19_0_relu (Activation)                (None, 16, 16, 832)              0                 conv4_block19_0_bn[0][0]                          \n",
            "______________________________________________________________________________________________________________________________________________________\n",
            "conv4_block19_1_conv (Conv2D)                    (None, 16, 16, 128)              106496            conv4_block19_0_relu[0][0]                        \n",
            "______________________________________________________________________________________________________________________________________________________\n",
            "conv4_block19_1_bn (BatchNormalization)          (None, 16, 16, 128)              512               conv4_block19_1_conv[0][0]                        \n",
            "______________________________________________________________________________________________________________________________________________________\n",
            "conv4_block19_1_relu (Activation)                (None, 16, 16, 128)              0                 conv4_block19_1_bn[0][0]                          \n",
            "______________________________________________________________________________________________________________________________________________________\n",
            "conv4_block19_2_conv (Conv2D)                    (None, 16, 16, 32)               36864             conv4_block19_1_relu[0][0]                        \n",
            "______________________________________________________________________________________________________________________________________________________\n",
            "conv4_block19_concat (Concatenate)               (None, 16, 16, 864)              0                 conv4_block18_concat[0][0]                        \n",
            "                                                                                                    conv4_block19_2_conv[0][0]                        \n",
            "______________________________________________________________________________________________________________________________________________________\n",
            "conv4_block20_0_bn (BatchNormalization)          (None, 16, 16, 864)              3456              conv4_block19_concat[0][0]                        \n",
            "______________________________________________________________________________________________________________________________________________________\n",
            "conv4_block20_0_relu (Activation)                (None, 16, 16, 864)              0                 conv4_block20_0_bn[0][0]                          \n",
            "______________________________________________________________________________________________________________________________________________________\n",
            "conv4_block20_1_conv (Conv2D)                    (None, 16, 16, 128)              110592            conv4_block20_0_relu[0][0]                        \n",
            "______________________________________________________________________________________________________________________________________________________\n",
            "conv4_block20_1_bn (BatchNormalization)          (None, 16, 16, 128)              512               conv4_block20_1_conv[0][0]                        \n",
            "______________________________________________________________________________________________________________________________________________________\n",
            "conv4_block20_1_relu (Activation)                (None, 16, 16, 128)              0                 conv4_block20_1_bn[0][0]                          \n",
            "______________________________________________________________________________________________________________________________________________________\n",
            "conv4_block20_2_conv (Conv2D)                    (None, 16, 16, 32)               36864             conv4_block20_1_relu[0][0]                        \n",
            "______________________________________________________________________________________________________________________________________________________\n",
            "conv4_block20_concat (Concatenate)               (None, 16, 16, 896)              0                 conv4_block19_concat[0][0]                        \n",
            "                                                                                                    conv4_block20_2_conv[0][0]                        \n",
            "______________________________________________________________________________________________________________________________________________________\n",
            "conv4_block21_0_bn (BatchNormalization)          (None, 16, 16, 896)              3584              conv4_block20_concat[0][0]                        \n",
            "______________________________________________________________________________________________________________________________________________________\n",
            "conv4_block21_0_relu (Activation)                (None, 16, 16, 896)              0                 conv4_block21_0_bn[0][0]                          \n",
            "______________________________________________________________________________________________________________________________________________________\n",
            "conv4_block21_1_conv (Conv2D)                    (None, 16, 16, 128)              114688            conv4_block21_0_relu[0][0]                        \n",
            "______________________________________________________________________________________________________________________________________________________\n",
            "conv4_block21_1_bn (BatchNormalization)          (None, 16, 16, 128)              512               conv4_block21_1_conv[0][0]                        \n",
            "______________________________________________________________________________________________________________________________________________________\n",
            "conv4_block21_1_relu (Activation)                (None, 16, 16, 128)              0                 conv4_block21_1_bn[0][0]                          \n",
            "______________________________________________________________________________________________________________________________________________________\n",
            "conv4_block21_2_conv (Conv2D)                    (None, 16, 16, 32)               36864             conv4_block21_1_relu[0][0]                        \n",
            "______________________________________________________________________________________________________________________________________________________\n",
            "conv4_block21_concat (Concatenate)               (None, 16, 16, 928)              0                 conv4_block20_concat[0][0]                        \n",
            "                                                                                                    conv4_block21_2_conv[0][0]                        \n",
            "______________________________________________________________________________________________________________________________________________________\n",
            "conv4_block22_0_bn (BatchNormalization)          (None, 16, 16, 928)              3712              conv4_block21_concat[0][0]                        \n",
            "______________________________________________________________________________________________________________________________________________________\n",
            "conv4_block22_0_relu (Activation)                (None, 16, 16, 928)              0                 conv4_block22_0_bn[0][0]                          \n",
            "______________________________________________________________________________________________________________________________________________________\n",
            "conv4_block22_1_conv (Conv2D)                    (None, 16, 16, 128)              118784            conv4_block22_0_relu[0][0]                        \n",
            "______________________________________________________________________________________________________________________________________________________\n",
            "conv4_block22_1_bn (BatchNormalization)          (None, 16, 16, 128)              512               conv4_block22_1_conv[0][0]                        \n",
            "______________________________________________________________________________________________________________________________________________________\n",
            "conv4_block22_1_relu (Activation)                (None, 16, 16, 128)              0                 conv4_block22_1_bn[0][0]                          \n",
            "______________________________________________________________________________________________________________________________________________________\n",
            "conv4_block22_2_conv (Conv2D)                    (None, 16, 16, 32)               36864             conv4_block22_1_relu[0][0]                        \n",
            "______________________________________________________________________________________________________________________________________________________\n",
            "conv4_block22_concat (Concatenate)               (None, 16, 16, 960)              0                 conv4_block21_concat[0][0]                        \n",
            "                                                                                                    conv4_block22_2_conv[0][0]                        \n",
            "______________________________________________________________________________________________________________________________________________________\n",
            "conv4_block23_0_bn (BatchNormalization)          (None, 16, 16, 960)              3840              conv4_block22_concat[0][0]                        \n",
            "______________________________________________________________________________________________________________________________________________________\n",
            "conv4_block23_0_relu (Activation)                (None, 16, 16, 960)              0                 conv4_block23_0_bn[0][0]                          \n",
            "______________________________________________________________________________________________________________________________________________________\n",
            "conv4_block23_1_conv (Conv2D)                    (None, 16, 16, 128)              122880            conv4_block23_0_relu[0][0]                        \n",
            "______________________________________________________________________________________________________________________________________________________\n",
            "conv4_block23_1_bn (BatchNormalization)          (None, 16, 16, 128)              512               conv4_block23_1_conv[0][0]                        \n",
            "______________________________________________________________________________________________________________________________________________________\n",
            "conv4_block23_1_relu (Activation)                (None, 16, 16, 128)              0                 conv4_block23_1_bn[0][0]                          \n",
            "______________________________________________________________________________________________________________________________________________________\n",
            "conv4_block23_2_conv (Conv2D)                    (None, 16, 16, 32)               36864             conv4_block23_1_relu[0][0]                        \n",
            "______________________________________________________________________________________________________________________________________________________\n",
            "conv4_block23_concat (Concatenate)               (None, 16, 16, 992)              0                 conv4_block22_concat[0][0]                        \n",
            "                                                                                                    conv4_block23_2_conv[0][0]                        \n",
            "______________________________________________________________________________________________________________________________________________________\n",
            "conv4_block24_0_bn (BatchNormalization)          (None, 16, 16, 992)              3968              conv4_block23_concat[0][0]                        \n",
            "______________________________________________________________________________________________________________________________________________________\n",
            "conv4_block24_0_relu (Activation)                (None, 16, 16, 992)              0                 conv4_block24_0_bn[0][0]                          \n",
            "______________________________________________________________________________________________________________________________________________________\n",
            "conv4_block24_1_conv (Conv2D)                    (None, 16, 16, 128)              126976            conv4_block24_0_relu[0][0]                        \n",
            "______________________________________________________________________________________________________________________________________________________\n",
            "conv4_block24_1_bn (BatchNormalization)          (None, 16, 16, 128)              512               conv4_block24_1_conv[0][0]                        \n",
            "______________________________________________________________________________________________________________________________________________________\n",
            "conv4_block24_1_relu (Activation)                (None, 16, 16, 128)              0                 conv4_block24_1_bn[0][0]                          \n",
            "______________________________________________________________________________________________________________________________________________________\n",
            "conv4_block24_2_conv (Conv2D)                    (None, 16, 16, 32)               36864             conv4_block24_1_relu[0][0]                        \n",
            "______________________________________________________________________________________________________________________________________________________\n",
            "conv4_block24_concat (Concatenate)               (None, 16, 16, 1024)             0                 conv4_block23_concat[0][0]                        \n",
            "                                                                                                    conv4_block24_2_conv[0][0]                        \n",
            "______________________________________________________________________________________________________________________________________________________\n",
            "pool4_bn (BatchNormalization)                    (None, 16, 16, 1024)             4096              conv4_block24_concat[0][0]                        \n",
            "______________________________________________________________________________________________________________________________________________________\n",
            "pool4_relu (Activation)                          (None, 16, 16, 1024)             0                 pool4_bn[0][0]                                    \n",
            "______________________________________________________________________________________________________________________________________________________\n",
            "pool4_conv (Conv2D)                              (None, 16, 16, 512)              524288            pool4_relu[0][0]                                  \n",
            "______________________________________________________________________________________________________________________________________________________\n",
            "pool4_pool (AveragePooling2D)                    (None, 8, 8, 512)                0                 pool4_conv[0][0]                                  \n",
            "______________________________________________________________________________________________________________________________________________________\n",
            "conv5_block1_0_bn (BatchNormalization)           (None, 8, 8, 512)                2048              pool4_pool[0][0]                                  \n",
            "______________________________________________________________________________________________________________________________________________________\n",
            "conv5_block1_0_relu (Activation)                 (None, 8, 8, 512)                0                 conv5_block1_0_bn[0][0]                           \n",
            "______________________________________________________________________________________________________________________________________________________\n",
            "conv5_block1_1_conv (Conv2D)                     (None, 8, 8, 128)                65536             conv5_block1_0_relu[0][0]                         \n",
            "______________________________________________________________________________________________________________________________________________________\n",
            "conv5_block1_1_bn (BatchNormalization)           (None, 8, 8, 128)                512               conv5_block1_1_conv[0][0]                         \n",
            "______________________________________________________________________________________________________________________________________________________\n",
            "conv5_block1_1_relu (Activation)                 (None, 8, 8, 128)                0                 conv5_block1_1_bn[0][0]                           \n",
            "______________________________________________________________________________________________________________________________________________________\n",
            "conv5_block1_2_conv (Conv2D)                     (None, 8, 8, 32)                 36864             conv5_block1_1_relu[0][0]                         \n",
            "______________________________________________________________________________________________________________________________________________________\n",
            "conv5_block1_concat (Concatenate)                (None, 8, 8, 544)                0                 pool4_pool[0][0]                                  \n",
            "                                                                                                    conv5_block1_2_conv[0][0]                         \n",
            "______________________________________________________________________________________________________________________________________________________\n",
            "conv5_block2_0_bn (BatchNormalization)           (None, 8, 8, 544)                2176              conv5_block1_concat[0][0]                         \n",
            "______________________________________________________________________________________________________________________________________________________\n",
            "conv5_block2_0_relu (Activation)                 (None, 8, 8, 544)                0                 conv5_block2_0_bn[0][0]                           \n",
            "______________________________________________________________________________________________________________________________________________________\n",
            "conv5_block2_1_conv (Conv2D)                     (None, 8, 8, 128)                69632             conv5_block2_0_relu[0][0]                         \n",
            "______________________________________________________________________________________________________________________________________________________\n",
            "conv5_block2_1_bn (BatchNormalization)           (None, 8, 8, 128)                512               conv5_block2_1_conv[0][0]                         \n",
            "______________________________________________________________________________________________________________________________________________________\n",
            "conv5_block2_1_relu (Activation)                 (None, 8, 8, 128)                0                 conv5_block2_1_bn[0][0]                           \n",
            "______________________________________________________________________________________________________________________________________________________\n",
            "conv5_block2_2_conv (Conv2D)                     (None, 8, 8, 32)                 36864             conv5_block2_1_relu[0][0]                         \n",
            "______________________________________________________________________________________________________________________________________________________\n",
            "conv5_block2_concat (Concatenate)                (None, 8, 8, 576)                0                 conv5_block1_concat[0][0]                         \n",
            "                                                                                                    conv5_block2_2_conv[0][0]                         \n",
            "______________________________________________________________________________________________________________________________________________________\n",
            "conv5_block3_0_bn (BatchNormalization)           (None, 8, 8, 576)                2304              conv5_block2_concat[0][0]                         \n",
            "______________________________________________________________________________________________________________________________________________________\n",
            "conv5_block3_0_relu (Activation)                 (None, 8, 8, 576)                0                 conv5_block3_0_bn[0][0]                           \n",
            "______________________________________________________________________________________________________________________________________________________\n",
            "conv5_block3_1_conv (Conv2D)                     (None, 8, 8, 128)                73728             conv5_block3_0_relu[0][0]                         \n",
            "______________________________________________________________________________________________________________________________________________________\n",
            "conv5_block3_1_bn (BatchNormalization)           (None, 8, 8, 128)                512               conv5_block3_1_conv[0][0]                         \n",
            "______________________________________________________________________________________________________________________________________________________\n",
            "conv5_block3_1_relu (Activation)                 (None, 8, 8, 128)                0                 conv5_block3_1_bn[0][0]                           \n",
            "______________________________________________________________________________________________________________________________________________________\n",
            "conv5_block3_2_conv (Conv2D)                     (None, 8, 8, 32)                 36864             conv5_block3_1_relu[0][0]                         \n",
            "______________________________________________________________________________________________________________________________________________________\n",
            "conv5_block3_concat (Concatenate)                (None, 8, 8, 608)                0                 conv5_block2_concat[0][0]                         \n",
            "                                                                                                    conv5_block3_2_conv[0][0]                         \n",
            "______________________________________________________________________________________________________________________________________________________\n",
            "conv5_block4_0_bn (BatchNormalization)           (None, 8, 8, 608)                2432              conv5_block3_concat[0][0]                         \n",
            "______________________________________________________________________________________________________________________________________________________\n",
            "conv5_block4_0_relu (Activation)                 (None, 8, 8, 608)                0                 conv5_block4_0_bn[0][0]                           \n",
            "______________________________________________________________________________________________________________________________________________________\n",
            "conv5_block4_1_conv (Conv2D)                     (None, 8, 8, 128)                77824             conv5_block4_0_relu[0][0]                         \n",
            "______________________________________________________________________________________________________________________________________________________\n",
            "conv5_block4_1_bn (BatchNormalization)           (None, 8, 8, 128)                512               conv5_block4_1_conv[0][0]                         \n",
            "______________________________________________________________________________________________________________________________________________________\n",
            "conv5_block4_1_relu (Activation)                 (None, 8, 8, 128)                0                 conv5_block4_1_bn[0][0]                           \n",
            "______________________________________________________________________________________________________________________________________________________\n",
            "conv5_block4_2_conv (Conv2D)                     (None, 8, 8, 32)                 36864             conv5_block4_1_relu[0][0]                         \n",
            "______________________________________________________________________________________________________________________________________________________\n",
            "conv5_block4_concat (Concatenate)                (None, 8, 8, 640)                0                 conv5_block3_concat[0][0]                         \n",
            "                                                                                                    conv5_block4_2_conv[0][0]                         \n",
            "______________________________________________________________________________________________________________________________________________________\n",
            "conv5_block5_0_bn (BatchNormalization)           (None, 8, 8, 640)                2560              conv5_block4_concat[0][0]                         \n",
            "______________________________________________________________________________________________________________________________________________________\n",
            "conv5_block5_0_relu (Activation)                 (None, 8, 8, 640)                0                 conv5_block5_0_bn[0][0]                           \n",
            "______________________________________________________________________________________________________________________________________________________\n",
            "conv5_block5_1_conv (Conv2D)                     (None, 8, 8, 128)                81920             conv5_block5_0_relu[0][0]                         \n",
            "______________________________________________________________________________________________________________________________________________________\n",
            "conv5_block5_1_bn (BatchNormalization)           (None, 8, 8, 128)                512               conv5_block5_1_conv[0][0]                         \n",
            "______________________________________________________________________________________________________________________________________________________\n",
            "conv5_block5_1_relu (Activation)                 (None, 8, 8, 128)                0                 conv5_block5_1_bn[0][0]                           \n",
            "______________________________________________________________________________________________________________________________________________________\n",
            "conv5_block5_2_conv (Conv2D)                     (None, 8, 8, 32)                 36864             conv5_block5_1_relu[0][0]                         \n",
            "______________________________________________________________________________________________________________________________________________________\n",
            "conv5_block5_concat (Concatenate)                (None, 8, 8, 672)                0                 conv5_block4_concat[0][0]                         \n",
            "                                                                                                    conv5_block5_2_conv[0][0]                         \n",
            "______________________________________________________________________________________________________________________________________________________\n",
            "conv5_block6_0_bn (BatchNormalization)           (None, 8, 8, 672)                2688              conv5_block5_concat[0][0]                         \n",
            "______________________________________________________________________________________________________________________________________________________\n",
            "conv5_block6_0_relu (Activation)                 (None, 8, 8, 672)                0                 conv5_block6_0_bn[0][0]                           \n",
            "______________________________________________________________________________________________________________________________________________________\n",
            "conv5_block6_1_conv (Conv2D)                     (None, 8, 8, 128)                86016             conv5_block6_0_relu[0][0]                         \n",
            "______________________________________________________________________________________________________________________________________________________\n",
            "conv5_block6_1_bn (BatchNormalization)           (None, 8, 8, 128)                512               conv5_block6_1_conv[0][0]                         \n",
            "______________________________________________________________________________________________________________________________________________________\n",
            "conv5_block6_1_relu (Activation)                 (None, 8, 8, 128)                0                 conv5_block6_1_bn[0][0]                           \n",
            "______________________________________________________________________________________________________________________________________________________\n",
            "conv5_block6_2_conv (Conv2D)                     (None, 8, 8, 32)                 36864             conv5_block6_1_relu[0][0]                         \n",
            "______________________________________________________________________________________________________________________________________________________\n",
            "conv5_block6_concat (Concatenate)                (None, 8, 8, 704)                0                 conv5_block5_concat[0][0]                         \n",
            "                                                                                                    conv5_block6_2_conv[0][0]                         \n",
            "______________________________________________________________________________________________________________________________________________________\n",
            "conv5_block7_0_bn (BatchNormalization)           (None, 8, 8, 704)                2816              conv5_block6_concat[0][0]                         \n",
            "______________________________________________________________________________________________________________________________________________________\n",
            "conv5_block7_0_relu (Activation)                 (None, 8, 8, 704)                0                 conv5_block7_0_bn[0][0]                           \n",
            "______________________________________________________________________________________________________________________________________________________\n",
            "conv5_block7_1_conv (Conv2D)                     (None, 8, 8, 128)                90112             conv5_block7_0_relu[0][0]                         \n",
            "______________________________________________________________________________________________________________________________________________________\n",
            "conv5_block7_1_bn (BatchNormalization)           (None, 8, 8, 128)                512               conv5_block7_1_conv[0][0]                         \n",
            "______________________________________________________________________________________________________________________________________________________\n",
            "conv5_block7_1_relu (Activation)                 (None, 8, 8, 128)                0                 conv5_block7_1_bn[0][0]                           \n",
            "______________________________________________________________________________________________________________________________________________________\n",
            "conv5_block7_2_conv (Conv2D)                     (None, 8, 8, 32)                 36864             conv5_block7_1_relu[0][0]                         \n",
            "______________________________________________________________________________________________________________________________________________________\n",
            "conv5_block7_concat (Concatenate)                (None, 8, 8, 736)                0                 conv5_block6_concat[0][0]                         \n",
            "                                                                                                    conv5_block7_2_conv[0][0]                         \n",
            "______________________________________________________________________________________________________________________________________________________\n",
            "conv5_block8_0_bn (BatchNormalization)           (None, 8, 8, 736)                2944              conv5_block7_concat[0][0]                         \n",
            "______________________________________________________________________________________________________________________________________________________\n",
            "conv5_block8_0_relu (Activation)                 (None, 8, 8, 736)                0                 conv5_block8_0_bn[0][0]                           \n",
            "______________________________________________________________________________________________________________________________________________________\n",
            "conv5_block8_1_conv (Conv2D)                     (None, 8, 8, 128)                94208             conv5_block8_0_relu[0][0]                         \n",
            "______________________________________________________________________________________________________________________________________________________\n",
            "conv5_block8_1_bn (BatchNormalization)           (None, 8, 8, 128)                512               conv5_block8_1_conv[0][0]                         \n",
            "______________________________________________________________________________________________________________________________________________________\n",
            "conv5_block8_1_relu (Activation)                 (None, 8, 8, 128)                0                 conv5_block8_1_bn[0][0]                           \n",
            "______________________________________________________________________________________________________________________________________________________\n",
            "conv5_block8_2_conv (Conv2D)                     (None, 8, 8, 32)                 36864             conv5_block8_1_relu[0][0]                         \n",
            "______________________________________________________________________________________________________________________________________________________\n",
            "conv5_block8_concat (Concatenate)                (None, 8, 8, 768)                0                 conv5_block7_concat[0][0]                         \n",
            "                                                                                                    conv5_block8_2_conv[0][0]                         \n",
            "______________________________________________________________________________________________________________________________________________________\n",
            "conv5_block9_0_bn (BatchNormalization)           (None, 8, 8, 768)                3072              conv5_block8_concat[0][0]                         \n",
            "______________________________________________________________________________________________________________________________________________________\n",
            "conv5_block9_0_relu (Activation)                 (None, 8, 8, 768)                0                 conv5_block9_0_bn[0][0]                           \n",
            "______________________________________________________________________________________________________________________________________________________\n",
            "conv5_block9_1_conv (Conv2D)                     (None, 8, 8, 128)                98304             conv5_block9_0_relu[0][0]                         \n",
            "______________________________________________________________________________________________________________________________________________________\n",
            "conv5_block9_1_bn (BatchNormalization)           (None, 8, 8, 128)                512               conv5_block9_1_conv[0][0]                         \n",
            "______________________________________________________________________________________________________________________________________________________\n",
            "conv5_block9_1_relu (Activation)                 (None, 8, 8, 128)                0                 conv5_block9_1_bn[0][0]                           \n",
            "______________________________________________________________________________________________________________________________________________________\n",
            "conv5_block9_2_conv (Conv2D)                     (None, 8, 8, 32)                 36864             conv5_block9_1_relu[0][0]                         \n",
            "______________________________________________________________________________________________________________________________________________________\n",
            "conv5_block9_concat (Concatenate)                (None, 8, 8, 800)                0                 conv5_block8_concat[0][0]                         \n",
            "                                                                                                    conv5_block9_2_conv[0][0]                         \n",
            "______________________________________________________________________________________________________________________________________________________\n",
            "conv5_block10_0_bn (BatchNormalization)          (None, 8, 8, 800)                3200              conv5_block9_concat[0][0]                         \n",
            "______________________________________________________________________________________________________________________________________________________\n",
            "conv5_block10_0_relu (Activation)                (None, 8, 8, 800)                0                 conv5_block10_0_bn[0][0]                          \n",
            "______________________________________________________________________________________________________________________________________________________\n",
            "conv5_block10_1_conv (Conv2D)                    (None, 8, 8, 128)                102400            conv5_block10_0_relu[0][0]                        \n",
            "______________________________________________________________________________________________________________________________________________________\n",
            "conv5_block10_1_bn (BatchNormalization)          (None, 8, 8, 128)                512               conv5_block10_1_conv[0][0]                        \n",
            "______________________________________________________________________________________________________________________________________________________\n",
            "conv5_block10_1_relu (Activation)                (None, 8, 8, 128)                0                 conv5_block10_1_bn[0][0]                          \n",
            "______________________________________________________________________________________________________________________________________________________\n",
            "conv5_block10_2_conv (Conv2D)                    (None, 8, 8, 32)                 36864             conv5_block10_1_relu[0][0]                        \n",
            "______________________________________________________________________________________________________________________________________________________\n",
            "conv5_block10_concat (Concatenate)               (None, 8, 8, 832)                0                 conv5_block9_concat[0][0]                         \n",
            "                                                                                                    conv5_block10_2_conv[0][0]                        \n",
            "______________________________________________________________________________________________________________________________________________________\n",
            "conv5_block11_0_bn (BatchNormalization)          (None, 8, 8, 832)                3328              conv5_block10_concat[0][0]                        \n",
            "______________________________________________________________________________________________________________________________________________________\n",
            "conv5_block11_0_relu (Activation)                (None, 8, 8, 832)                0                 conv5_block11_0_bn[0][0]                          \n",
            "______________________________________________________________________________________________________________________________________________________\n",
            "conv5_block11_1_conv (Conv2D)                    (None, 8, 8, 128)                106496            conv5_block11_0_relu[0][0]                        \n",
            "______________________________________________________________________________________________________________________________________________________\n",
            "conv5_block11_1_bn (BatchNormalization)          (None, 8, 8, 128)                512               conv5_block11_1_conv[0][0]                        \n",
            "______________________________________________________________________________________________________________________________________________________\n",
            "conv5_block11_1_relu (Activation)                (None, 8, 8, 128)                0                 conv5_block11_1_bn[0][0]                          \n",
            "______________________________________________________________________________________________________________________________________________________\n",
            "conv5_block11_2_conv (Conv2D)                    (None, 8, 8, 32)                 36864             conv5_block11_1_relu[0][0]                        \n",
            "______________________________________________________________________________________________________________________________________________________\n",
            "conv5_block11_concat (Concatenate)               (None, 8, 8, 864)                0                 conv5_block10_concat[0][0]                        \n",
            "                                                                                                    conv5_block11_2_conv[0][0]                        \n",
            "______________________________________________________________________________________________________________________________________________________\n",
            "conv5_block12_0_bn (BatchNormalization)          (None, 8, 8, 864)                3456              conv5_block11_concat[0][0]                        \n",
            "______________________________________________________________________________________________________________________________________________________\n",
            "conv5_block12_0_relu (Activation)                (None, 8, 8, 864)                0                 conv5_block12_0_bn[0][0]                          \n",
            "______________________________________________________________________________________________________________________________________________________\n",
            "conv5_block12_1_conv (Conv2D)                    (None, 8, 8, 128)                110592            conv5_block12_0_relu[0][0]                        \n",
            "______________________________________________________________________________________________________________________________________________________\n",
            "conv5_block12_1_bn (BatchNormalization)          (None, 8, 8, 128)                512               conv5_block12_1_conv[0][0]                        \n",
            "______________________________________________________________________________________________________________________________________________________\n",
            "conv5_block12_1_relu (Activation)                (None, 8, 8, 128)                0                 conv5_block12_1_bn[0][0]                          \n",
            "______________________________________________________________________________________________________________________________________________________\n",
            "conv5_block12_2_conv (Conv2D)                    (None, 8, 8, 32)                 36864             conv5_block12_1_relu[0][0]                        \n",
            "______________________________________________________________________________________________________________________________________________________\n",
            "conv5_block12_concat (Concatenate)               (None, 8, 8, 896)                0                 conv5_block11_concat[0][0]                        \n",
            "                                                                                                    conv5_block12_2_conv[0][0]                        \n",
            "______________________________________________________________________________________________________________________________________________________\n",
            "conv5_block13_0_bn (BatchNormalization)          (None, 8, 8, 896)                3584              conv5_block12_concat[0][0]                        \n",
            "______________________________________________________________________________________________________________________________________________________\n",
            "conv5_block13_0_relu (Activation)                (None, 8, 8, 896)                0                 conv5_block13_0_bn[0][0]                          \n",
            "______________________________________________________________________________________________________________________________________________________\n",
            "conv5_block13_1_conv (Conv2D)                    (None, 8, 8, 128)                114688            conv5_block13_0_relu[0][0]                        \n",
            "______________________________________________________________________________________________________________________________________________________\n",
            "conv5_block13_1_bn (BatchNormalization)          (None, 8, 8, 128)                512               conv5_block13_1_conv[0][0]                        \n",
            "______________________________________________________________________________________________________________________________________________________\n",
            "conv5_block13_1_relu (Activation)                (None, 8, 8, 128)                0                 conv5_block13_1_bn[0][0]                          \n",
            "______________________________________________________________________________________________________________________________________________________\n",
            "conv5_block13_2_conv (Conv2D)                    (None, 8, 8, 32)                 36864             conv5_block13_1_relu[0][0]                        \n",
            "______________________________________________________________________________________________________________________________________________________\n",
            "conv5_block13_concat (Concatenate)               (None, 8, 8, 928)                0                 conv5_block12_concat[0][0]                        \n",
            "                                                                                                    conv5_block13_2_conv[0][0]                        \n",
            "______________________________________________________________________________________________________________________________________________________\n",
            "conv5_block14_0_bn (BatchNormalization)          (None, 8, 8, 928)                3712              conv5_block13_concat[0][0]                        \n",
            "______________________________________________________________________________________________________________________________________________________\n",
            "conv5_block14_0_relu (Activation)                (None, 8, 8, 928)                0                 conv5_block14_0_bn[0][0]                          \n",
            "______________________________________________________________________________________________________________________________________________________\n",
            "conv5_block14_1_conv (Conv2D)                    (None, 8, 8, 128)                118784            conv5_block14_0_relu[0][0]                        \n",
            "______________________________________________________________________________________________________________________________________________________\n",
            "conv5_block14_1_bn (BatchNormalization)          (None, 8, 8, 128)                512               conv5_block14_1_conv[0][0]                        \n",
            "______________________________________________________________________________________________________________________________________________________\n",
            "conv5_block14_1_relu (Activation)                (None, 8, 8, 128)                0                 conv5_block14_1_bn[0][0]                          \n",
            "______________________________________________________________________________________________________________________________________________________\n",
            "conv5_block14_2_conv (Conv2D)                    (None, 8, 8, 32)                 36864             conv5_block14_1_relu[0][0]                        \n",
            "______________________________________________________________________________________________________________________________________________________\n",
            "conv5_block14_concat (Concatenate)               (None, 8, 8, 960)                0                 conv5_block13_concat[0][0]                        \n",
            "                                                                                                    conv5_block14_2_conv[0][0]                        \n",
            "______________________________________________________________________________________________________________________________________________________\n",
            "conv5_block15_0_bn (BatchNormalization)          (None, 8, 8, 960)                3840              conv5_block14_concat[0][0]                        \n",
            "______________________________________________________________________________________________________________________________________________________\n",
            "conv5_block15_0_relu (Activation)                (None, 8, 8, 960)                0                 conv5_block15_0_bn[0][0]                          \n",
            "______________________________________________________________________________________________________________________________________________________\n",
            "conv5_block15_1_conv (Conv2D)                    (None, 8, 8, 128)                122880            conv5_block15_0_relu[0][0]                        \n",
            "______________________________________________________________________________________________________________________________________________________\n",
            "conv5_block15_1_bn (BatchNormalization)          (None, 8, 8, 128)                512               conv5_block15_1_conv[0][0]                        \n",
            "______________________________________________________________________________________________________________________________________________________\n",
            "conv5_block15_1_relu (Activation)                (None, 8, 8, 128)                0                 conv5_block15_1_bn[0][0]                          \n",
            "______________________________________________________________________________________________________________________________________________________\n",
            "conv5_block15_2_conv (Conv2D)                    (None, 8, 8, 32)                 36864             conv5_block15_1_relu[0][0]                        \n",
            "______________________________________________________________________________________________________________________________________________________\n",
            "conv5_block15_concat (Concatenate)               (None, 8, 8, 992)                0                 conv5_block14_concat[0][0]                        \n",
            "                                                                                                    conv5_block15_2_conv[0][0]                        \n",
            "______________________________________________________________________________________________________________________________________________________\n",
            "conv5_block16_0_bn (BatchNormalization)          (None, 8, 8, 992)                3968              conv5_block15_concat[0][0]                        \n",
            "______________________________________________________________________________________________________________________________________________________\n",
            "conv5_block16_0_relu (Activation)                (None, 8, 8, 992)                0                 conv5_block16_0_bn[0][0]                          \n",
            "______________________________________________________________________________________________________________________________________________________\n",
            "conv5_block16_1_conv (Conv2D)                    (None, 8, 8, 128)                126976            conv5_block16_0_relu[0][0]                        \n",
            "______________________________________________________________________________________________________________________________________________________\n",
            "conv5_block16_1_bn (BatchNormalization)          (None, 8, 8, 128)                512               conv5_block16_1_conv[0][0]                        \n",
            "______________________________________________________________________________________________________________________________________________________\n",
            "conv5_block16_1_relu (Activation)                (None, 8, 8, 128)                0                 conv5_block16_1_bn[0][0]                          \n",
            "______________________________________________________________________________________________________________________________________________________\n",
            "conv5_block16_2_conv (Conv2D)                    (None, 8, 8, 32)                 36864             conv5_block16_1_relu[0][0]                        \n",
            "______________________________________________________________________________________________________________________________________________________\n",
            "conv5_block16_concat (Concatenate)               (None, 8, 8, 1024)               0                 conv5_block15_concat[0][0]                        \n",
            "                                                                                                    conv5_block16_2_conv[0][0]                        \n",
            "______________________________________________________________________________________________________________________________________________________\n",
            "bn (BatchNormalization)                          (None, 8, 8, 1024)               4096              conv5_block16_concat[0][0]                        \n",
            "______________________________________________________________________________________________________________________________________________________\n",
            "global_average_pooling2d_2 (GlobalAveragePooling (None, 1024)                     0                 bn[0][0]                                          \n",
            "______________________________________________________________________________________________________________________________________________________\n",
            "dense_2 (Dense)                                  (None, 1)                        1025              global_average_pooling2d_2[0][0]                  \n",
            "======================================================================================================================================================\n",
            "Total params: 7,038,529\n",
            "Trainable params: 1,025\n",
            "Non-trainable params: 7,037,504\n",
            "______________________________________________________________________________________________________________________________________________________\n"
          ],
          "name": "stdout"
        }
      ]
    },
    {
      "cell_type": "markdown",
      "metadata": {
        "id": "nM23mad6NDmN"
      },
      "source": [
        "There are a total of 1025 trainable parameters in the Dense layer. These are divided between two tf.Variable objects, the weights and biases."
      ]
    },
    {
      "cell_type": "code",
      "metadata": {
        "colab": {
          "base_uri": "https://localhost:8080/"
        },
        "id": "vhx8NWxUujwE",
        "outputId": "788c3bb9-b3fd-41c1-e9e0-3b958eeac495"
      },
      "source": [
        "len(final_new_model.trainable_variables)"
      ],
      "execution_count": null,
      "outputs": [
        {
          "output_type": "execute_result",
          "data": {
            "text/plain": [
              "2"
            ]
          },
          "metadata": {
            "tags": []
          },
          "execution_count": 32
        }
      ]
    },
    {
      "cell_type": "markdown",
      "metadata": {
        "id": "15DCb6c8NR0R"
      },
      "source": [
        "Checking the input and output of the model created:"
      ]
    },
    {
      "cell_type": "code",
      "metadata": {
        "colab": {
          "base_uri": "https://localhost:8080/"
        },
        "id": "362AubBjoT9x",
        "outputId": "b9c4be00-4139-492c-8a6f-c9cb98219f9e"
      },
      "source": [
        "final_new_model.inputs, final_new_model.outputs"
      ],
      "execution_count": null,
      "outputs": [
        {
          "output_type": "execute_result",
          "data": {
            "text/plain": [
              "([<KerasTensor: shape=(None, 256, 256, 3) dtype=float32 (created by layer 'input_4')>],\n",
              " [<KerasTensor: shape=(None, 1) dtype=float32 (created by layer 'dense_3')>])"
            ]
          },
          "metadata": {
            "tags": []
          },
          "execution_count": 82
        }
      ]
    },
    {
      "cell_type": "code",
      "metadata": {
        "colab": {
          "base_uri": "https://localhost:8080/"
        },
        "id": "mIGeVQQPwcNq",
        "outputId": "76d32e7d-21e3-47ec-8bba-d3e957ec5f62"
      },
      "source": [
        "#Count of the total records in train:\r\n",
        "trainPath.shape[0]"
      ],
      "execution_count": null,
      "outputs": [
        {
          "output_type": "execute_result",
          "data": {
            "text/plain": [
              "10842"
            ]
          },
          "metadata": {
            "tags": []
          },
          "execution_count": 33
        }
      ]
    },
    {
      "cell_type": "markdown",
      "metadata": {
        "id": "DZejOj3zO9A3"
      },
      "source": [
        "***Creating the Callbacks :***"
      ]
    },
    {
      "cell_type": "code",
      "metadata": {
        "id": "IfbkJZOHlRm7"
      },
      "source": [
        "BATCH_SIZE = 16\r\n",
        "#total number of datapooints that should be passed through the network in individual epochs. This is used when we are generating data through augmentations\r\n",
        "weighted_steps_per_epoch = trainPath.shape[0] // BATCH_SIZE\r\n",
        "\r\n",
        "#Callback for saving the weights \r\n",
        "checkpoint = tf.keras.callbacks.ModelCheckpoint(\r\n",
        "    'chexnet_model.h5', save_best_only=True, monitor='val_auc', mode='max',restore_best_weights=True)\r\n",
        "\r\n",
        "#Callback for the ReduceLROnPlateau\r\n",
        "lr_reducer = tf.keras.callbacks.ReduceLROnPlateau(\r\n",
        "    monitor=\"val_auc\", patience=3, min_lr=1e-6, mode='max')\r\n",
        "\r\n",
        "#Callback to stop training if the metric value doesnt change for 6 epochs\r\n",
        "early_stop = tf.keras.callbacks.EarlyStopping(\r\n",
        "    monitor='val_auc', min_delta=0.0001, patience=6, mode='max',restore_best_weights=True)"
      ],
      "execution_count": null,
      "outputs": []
    },
    {
      "cell_type": "markdown",
      "metadata": {
        "id": "Z_FFQ2HeQRdV"
      },
      "source": [
        "***Defining the Metrics:***"
      ]
    },
    {
      "cell_type": "code",
      "metadata": {
        "id": "EEb-G6X_yB3d"
      },
      "source": [
        "METRICS = [\r\n",
        "      tf.keras.metrics.TruePositives(name='tp'),\r\n",
        "      tf.keras.metrics.FalsePositives(name='fp'),\r\n",
        "      tf.keras.metrics.TrueNegatives(name='tn'),\r\n",
        "      tf.keras.metrics.FalseNegatives(name='fn'), \r\n",
        "      tf.keras.metrics.BinaryAccuracy(name='accuracy'),\r\n",
        "      tf.keras.metrics.Precision(name='precision'),\r\n",
        "      tf.keras.metrics.Recall(name='recall'),\r\n",
        "      tf.keras.metrics.AUC(name='auc'),\r\n",
        "]\r\n",
        "\r\n",
        "#Adam optimizer\r\n",
        "optim = tf.keras.optimizers.Adam(0.0001)"
      ],
      "execution_count": 26,
      "outputs": []
    },
    {
      "cell_type": "code",
      "metadata": {
        "id": "Gzucq4yUlRqQ"
      },
      "source": [
        "  #Compile the model:\r\n",
        "  final_new_model.compile(optimizer=optim,loss='binary_crossentropy',metrics=[METRICS])"
      ],
      "execution_count": null,
      "outputs": []
    },
    {
      "cell_type": "code",
      "metadata": {
        "colab": {
          "base_uri": "https://localhost:8080/"
        },
        "id": "wBy_vIkGpGrf",
        "outputId": "b55e8dc3-fb13-4cbf-ca85-9b027b881441"
      },
      "source": [
        "dtrain,dvalid"
      ],
      "execution_count": null,
      "outputs": [
        {
          "output_type": "execute_result",
          "data": {
            "text/plain": [
              "(<PrefetchDataset shapes: ((None, 256, 256, 3), (None,)), types: (tf.float32, tf.int64)>,\n",
              " <PrefetchDataset shapes: ((None, 256, 256, 3), (None,)), types: (tf.float32, tf.int64)>)"
            ]
          },
          "metadata": {
            "tags": []
          },
          "execution_count": 55
        }
      ]
    },
    {
      "cell_type": "markdown",
      "metadata": {
        "id": "9RXY3AEKRe2x"
      },
      "source": [
        "***Training the model :***"
      ]
    },
    {
      "cell_type": "markdown",
      "metadata": {
        "id": "HpGzNx_JRbAv"
      },
      "source": [
        "Training the model for shorter duration at a time because the colab is getting disconnected very randomly and very quickly. \r\n",
        "\r\n",
        "Also, most of the time we didnt get GPU and had to be trained on CPU so time taken for each epoch is very long (approx 35 mins/epoch)."
      ]
    },
    {
      "cell_type": "code",
      "metadata": {
        "id": "lE5912Dgy3wr",
        "colab": {
          "base_uri": "https://localhost:8080/"
        },
        "outputId": "0ebb2da9-4f2f-48e5-8b0b-584afd245313"
      },
      "source": [
        "history = final_new_model.fit(\r\n",
        "    dtrain, \r\n",
        "    epochs=5, # training for smaller epochs at a time because kernel is getting disconnected very easily.\r\n",
        "    verbose=1,\r\n",
        "    callbacks=[checkpoint, lr_reducer,early_stop],\r\n",
        "    steps_per_epoch=weighted_steps_per_epoch,\r\n",
        "    validation_data=dvalid,\r\n",
        "    \r\n",
        "    #Giving the class weights here:\r\n",
        "    class_weight=class_weight)"
      ],
      "execution_count": null,
      "outputs": [
        {
          "output_type": "stream",
          "text": [
            "Epoch 1/5\n",
            "677/677 [==============================] - 1263s 2s/step - loss: 0.2367 - tp: 380.5206 - fp: 859.6431 - tn: 3379.7847 - fn: 812.0280 - accuracy: 0.7035 - precision: 0.2748 - recall: 0.2494 - auc: 0.5775 - val_loss: 0.6265 - val_tp: 148.0000 - val_fp: 219.0000 - val_tn: 724.0000 - val_fn: 125.0000 - val_accuracy: 0.7171 - val_precision: 0.4033 - val_recall: 0.5421 - val_auc: 0.7705\n",
            "Epoch 2/5\n",
            "677/677 [==============================] - 235s 348ms/step - loss: 0.2292 - tp: 785.6239 - fp: 1495.6313 - tn: 2731.5885 - fn: 419.1327 - accuracy: 0.6460 - precision: 0.3437 - recall: 0.6467 - auc: 0.7108 - val_loss: 0.5943 - val_tp: 173.0000 - val_fp: 234.0000 - val_tn: 709.0000 - val_fn: 100.0000 - val_accuracy: 0.7253 - val_precision: 0.4251 - val_recall: 0.6337 - val_auc: 0.7852\n",
            "Epoch 3/5\n",
            "677/677 [==============================] - 178s 263ms/step - loss: 0.2206 - tp: 826.7050 - fp: 1494.6239 - tn: 2742.4499 - fn: 368.1976 - accuracy: 0.6597 - precision: 0.3524 - recall: 0.6768 - auc: 0.7383 - val_loss: 0.5703 - val_tp: 182.0000 - val_fp: 243.0000 - val_tn: 700.0000 - val_fn: 91.0000 - val_accuracy: 0.7253 - val_precision: 0.4282 - val_recall: 0.6667 - val_auc: 0.7919\n",
            "Epoch 4/5\n",
            "677/677 [==============================] - 174s 257ms/step - loss: 0.2174 - tp: 861.9602 - fp: 1545.6711 - tn: 2692.6534 - fn: 331.6917 - accuracy: 0.6460 - precision: 0.3532 - recall: 0.7287 - auc: 0.7399 - val_loss: 0.5562 - val_tp: 190.0000 - val_fp: 253.0000 - val_tn: 690.0000 - val_fn: 83.0000 - val_accuracy: 0.7237 - val_precision: 0.4289 - val_recall: 0.6960 - val_auc: 0.7981\n",
            "Epoch 5/5\n",
            "677/677 [==============================] - 173s 256ms/step - loss: 0.2124 - tp: 881.5059 - fp: 1552.6504 - tn: 2676.8614 - fn: 320.9587 - accuracy: 0.6541 - precision: 0.3579 - recall: 0.7295 - auc: 0.7554 - val_loss: 0.5501 - val_tp: 205.0000 - val_fp: 285.0000 - val_tn: 658.0000 - val_fn: 68.0000 - val_accuracy: 0.7097 - val_precision: 0.4184 - val_recall: 0.7509 - val_auc: 0.8029\n"
          ],
          "name": "stdout"
        }
      ]
    },
    {
      "cell_type": "code",
      "metadata": {
        "id": "ZAryI6kauC9A"
      },
      "source": [
        "acc = history.history['accuracy']\r\n",
        "loss = history.history['loss']\r\n",
        "auc = history.history['auc']\r\n",
        "precision = history.history['precision']\r\n",
        "recall = history.history['recall']\r\n",
        "\r\n",
        "val_acc = history.history['val_accuracy']\r\n",
        "val_loss = history.history['val_loss']\r\n",
        "val_auc = history.history['val_auc']\r\n",
        "val_precision = history.history['val_precision']\r\n",
        "val_recall = history.history['val_recall']"
      ],
      "execution_count": null,
      "outputs": []
    },
    {
      "cell_type": "code",
      "metadata": {
        "colab": {
          "base_uri": "https://localhost:8080/"
        },
        "id": "XreGIJUjvIn4",
        "outputId": "80a3b7b2-d50e-419b-cd5a-0483f9cb76e9"
      },
      "source": [
        "print(\"Metric Values after Training first 5 Epochs : \\n\")\r\n",
        "print('Train Accuracy : ', acc)\r\n",
        "print('Train Loss : ', loss)\r\n",
        "print('Train AUC : ', auc)\r\n",
        "print('Train Precision : ', precision)\r\n",
        "print('Train Recall : ', recall)\r\n",
        "print('Train Val_Accuracy : ', val_acc)\r\n",
        "print('Train Val_Loss : ', val_loss)\r\n",
        "print('Train Val_Auc : ', val_auc)\r\n",
        "print('Train Val_Precision : ', val_precision)\r\n",
        "print('Train Val_Recall : ', val_recall)\r\n",
        "print(\"==========================================\")"
      ],
      "execution_count": null,
      "outputs": [
        {
          "output_type": "stream",
          "text": [
            "Metric Values after Training first 5 Epochs : \n",
            "\n",
            "Train Accuracy :  [0.670236349105835, 0.6407865285873413, 0.6487259864807129, 0.6531572937965393, 0.654634416103363]\n",
            "Train Loss :  [0.23398947715759277, 0.22710101306438446, 0.22053559124469757, 0.2157195657491684, 0.2124169021844864]\n",
            "Train AUC :  [0.6354421973228455, 0.7209659814834595, 0.7459319233894348, 0.7512601613998413, 0.7627031207084656]\n",
            "Train Precision :  [0.31549471616744995, 0.34471920132637024, 0.356234610080719, 0.36011478304862976, 0.36686867475509644]\n",
            "Train Recall :  [0.424979031085968, 0.6828559637069702, 0.7228464484214783, 0.7345317602157593, 0.749484121799469]\n",
            "Train Val_Accuracy :  [0.7171052694320679, 0.7253289222717285, 0.7253289222717285, 0.7236841917037964, 0.7097039222717285]\n",
            "Train Val_Loss :  [0.626529335975647, 0.594288170337677, 0.5703458189964294, 0.5562014579772949, 0.5501455068588257]\n",
            "Train Val_Auc :  [0.7704893350601196, 0.7852287292480469, 0.7918633222579956, 0.7981055974960327, 0.8029378056526184]\n",
            "Train Val_Precision :  [0.40326976776123047, 0.42506143450737, 0.4282352924346924, 0.42889389395713806, 0.4183673560619354]\n",
            "Train Val_Recall :  [0.5421245694160461, 0.6336996555328369, 0.6666666865348816, 0.6959707140922546, 0.7509157657623291]\n",
            "==========================================\n"
          ],
          "name": "stdout"
        }
      ]
    },
    {
      "cell_type": "markdown",
      "metadata": {
        "id": "Gg15KlqpQ_Vj"
      },
      "source": [
        "Loading the modified weights and training for the next few epochs."
      ]
    },
    {
      "cell_type": "code",
      "metadata": {
        "id": "6p5bsz8oy4Al"
      },
      "source": [
        "final_new_model.load_weights(\"chexnet_model.h5\")"
      ],
      "execution_count": null,
      "outputs": []
    },
    {
      "cell_type": "code",
      "metadata": {
        "id": "H94TNAnMy4Dv"
      },
      "source": [
        "final_new_model.compile(optimizer=optim,loss='binary_crossentropy',metrics=[METRICS])"
      ],
      "execution_count": null,
      "outputs": []
    },
    {
      "cell_type": "code",
      "metadata": {
        "colab": {
          "base_uri": "https://localhost:8080/"
        },
        "id": "c5LPc4nWp3vN",
        "outputId": "e8acf62d-55a4-4c50-bb0f-5aa9d6408c3d"
      },
      "source": [
        "history_epoch_5to9 = final_new_model.fit(\r\n",
        "    dtrain, \r\n",
        "    epochs=10, # training for smaller epochs at a time because kernel is getting disconnected very easily.\r\n",
        "    verbose=1,\r\n",
        "    callbacks=[checkpoint, lr_reducer,early_stop],\r\n",
        "    steps_per_epoch=weighted_steps_per_epoch,\r\n",
        "    validation_data=dvalid,\r\n",
        "    class_weight=class_weight)"
      ],
      "execution_count": null,
      "outputs": [
        {
          "output_type": "stream",
          "text": [
            "Epoch 1/10\n",
            "677/677 [==============================] - 227s 303ms/step - loss: 0.2085 - tp: 1077.9572 - fp: 1820.3584 - tn: 3365.7950 - fn: 383.8658 - accuracy: 0.6687 - precision: 0.3718 - recall: 0.7382 - auc: 0.7714 - val_loss: 0.5378 - val_tp: 206.0000 - val_fp: 277.0000 - val_tn: 666.0000 - val_fn: 67.0000 - val_accuracy: 0.7171 - val_precision: 0.4265 - val_recall: 0.7546 - val_auc: 0.8081\n",
            "Epoch 2/10\n",
            "677/677 [==============================] - 223s 330ms/step - loss: 0.2057 - tp: 881.1681 - fp: 1490.8746 - tn: 2751.9233 - fn: 308.0103 - accuracy: 0.6625 - precision: 0.3654 - recall: 0.7388 - auc: 0.7671 - val_loss: 0.5175 - val_tp: 200.0000 - val_fp: 240.0000 - val_tn: 703.0000 - val_fn: 73.0000 - val_accuracy: 0.7426 - val_precision: 0.4545 - val_recall: 0.7326 - val_auc: 0.8124\n",
            "Epoch 3/10\n",
            "677/677 [==============================] - 223s 330ms/step - loss: 0.2051 - tp: 862.1018 - fp: 1434.6814 - tn: 2797.7257 - fn: 337.4676 - accuracy: 0.6704 - precision: 0.3730 - recall: 0.7116 - auc: 0.7669 - val_loss: 0.5322 - val_tp: 216.0000 - val_fp: 301.0000 - val_tn: 642.0000 - val_fn: 57.0000 - val_accuracy: 0.7056 - val_precision: 0.4178 - val_recall: 0.7912 - val_auc: 0.8158\n",
            "Epoch 4/10\n",
            "677/677 [==============================] - 211s 313ms/step - loss: 0.1999 - tp: 868.1726 - fp: 1419.8009 - tn: 2828.8599 - fn: 315.1431 - accuracy: 0.6739 - precision: 0.3750 - recall: 0.7421 - auc: 0.7810 - val_loss: 0.5153 - val_tp: 211.0000 - val_fp: 265.0000 - val_tn: 678.0000 - val_fn: 62.0000 - val_accuracy: 0.7311 - val_precision: 0.4433 - val_recall: 0.7729 - val_auc: 0.8192\n",
            "Epoch 5/10\n",
            "677/677 [==============================] - 204s 301ms/step - loss: 0.1987 - tp: 834.4631 - fp: 1377.2035 - tn: 2880.9558 - fn: 339.3540 - accuracy: 0.6786 - precision: 0.3668 - recall: 0.6994 - auc: 0.7697 - val_loss: 0.5023 - val_tp: 207.0000 - val_fp: 248.0000 - val_tn: 695.0000 - val_fn: 66.0000 - val_accuracy: 0.7418 - val_precision: 0.4549 - val_recall: 0.7582 - val_auc: 0.8217\n",
            "Epoch 6/10\n",
            "677/677 [==============================] - 203s 299ms/step - loss: 0.2002 - tp: 884.3850 - fp: 1397.2670 - tn: 2815.8982 - fn: 334.4263 - accuracy: 0.6793 - precision: 0.3877 - recall: 0.7224 - auc: 0.7798 - val_loss: 0.4975 - val_tp: 207.0000 - val_fp: 245.0000 - val_tn: 698.0000 - val_fn: 66.0000 - val_accuracy: 0.7442 - val_precision: 0.4580 - val_recall: 0.7582 - val_auc: 0.8245\n",
            "Epoch 7/10\n",
            "677/677 [==============================] - 203s 299ms/step - loss: 0.1971 - tp: 871.8820 - fp: 1352.7861 - tn: 2871.2434 - fn: 336.0649 - accuracy: 0.6907 - precision: 0.3944 - recall: 0.7170 - auc: 0.7858 - val_loss: 0.5072 - val_tp: 217.0000 - val_fp: 267.0000 - val_tn: 676.0000 - val_fn: 56.0000 - val_accuracy: 0.7344 - val_precision: 0.4483 - val_recall: 0.7949 - val_auc: 0.8266\n",
            "Epoch 8/10\n",
            "677/677 [==============================] - 201s 297ms/step - loss: 0.1944 - tp: 881.2124 - fp: 1344.1342 - tn: 2891.8732 - fn: 314.7566 - accuracy: 0.6953 - precision: 0.3943 - recall: 0.7400 - auc: 0.7891 - val_loss: 0.4957 - val_tp: 212.0000 - val_fp: 250.0000 - val_tn: 693.0000 - val_fn: 61.0000 - val_accuracy: 0.7442 - val_precision: 0.4589 - val_recall: 0.7766 - val_auc: 0.8282\n",
            "Epoch 9/10\n",
            "253/677 [==========>...................] - ETA: 1:32 - loss: 0.1965 - tp: 307.5613 - fp: 493.1028 - tn: 1094.9012 - fn: 136.4348 - accuracy: 0.6906 - precision: 0.3859 - recall: 0.6957 - auc: 0.7784"
          ],
          "name": "stdout"
        }
      ]
    },
    {
      "cell_type": "code",
      "metadata": {
        "id": "BVrjKzkiSXg2"
      },
      "source": [
        "acc = history_epoch_5to9.history['accuracy']\r\n",
        "loss = history_epoch_5to9.history['loss']\r\n",
        "auc = history_epoch_5to9.history['auc']\r\n",
        "precision = history_epoch_5to9.history['precision']\r\n",
        "recall = history_epoch_5to9.history['recall']\r\n",
        "\r\n",
        "val_acc = history_epoch_5to9.history['val_accuracy']\r\n",
        "val_loss = history_epoch_5to9.history['val_loss']\r\n",
        "val_auc = history_epoch_5to9.history['val_auc']\r\n",
        "val_precision = history_epoch_5to9.history['val_precision']\r\n",
        "val_recall = history_epoch_5to9.history['val_recall']"
      ],
      "execution_count": null,
      "outputs": []
    },
    {
      "cell_type": "markdown",
      "metadata": {
        "id": "Txp1V6BTSfPC"
      },
      "source": [
        "Loading the model again:"
      ]
    },
    {
      "cell_type": "code",
      "metadata": {
        "id": "XOvLJkiOSBbJ"
      },
      "source": [
        "final_new_model.load_weights(\"chexnet_model.h5\")"
      ],
      "execution_count": null,
      "outputs": []
    },
    {
      "cell_type": "code",
      "metadata": {
        "id": "-UCl_50HSCNX"
      },
      "source": [
        "final_new_model.compile(optimizer=optim,loss='binary_crossentropy',metrics=[METRICS])"
      ],
      "execution_count": null,
      "outputs": []
    },
    {
      "cell_type": "code",
      "metadata": {
        "colab": {
          "base_uri": "https://localhost:8080/"
        },
        "id": "V_LqNeFB8BOz",
        "outputId": "ff8ac0e6-cf00-4917-81e9-f63be90e400e"
      },
      "source": [
        "history_epoch_10to14 = final_new_model.fit(\r\n",
        "    dtrain, \r\n",
        "    epochs=5, # training for smaller epochs at a time because kernel is getting disconnected very easily.\r\n",
        "    verbose=1,\r\n",
        "    callbacks=[checkpoint, lr_reducer,early_stop],\r\n",
        "    steps_per_epoch=weighted_steps_per_epoch,\r\n",
        "    validation_data=dvalid,\r\n",
        "    class_weight=class_weight)"
      ],
      "execution_count": null,
      "outputs": [
        {
          "output_type": "stream",
          "text": [
            "Epoch 1/5\n",
            "677/677 [==============================] - 1739s 3s/step - loss: 0.1708 - tp: 960.7670 - fp: 1158.4425 - tn: 3080.4322 - fn: 232.3348 - accuracy: 0.7477 - precision: 0.4556 - recall: 0.8089 - auc: 0.8422 - val_loss: 0.5226 - val_tp: 224.0000 - val_fp: 295.0000 - val_tn: 648.0000 - val_fn: 49.0000 - val_accuracy: 0.7171 - val_precision: 0.4316 - val_recall: 0.8205 - val_auc: 0.8397\n",
            "Epoch 2/5\n",
            "677/677 [==============================] - 1630s 2s/step - loss: 0.1686 - tp: 973.1593 - fp: 1146.4528 - tn: 3097.7920 - fn: 214.5723 - accuracy: 0.7421 - precision: 0.4499 - recall: 0.8233 - auc: 0.8470 - val_loss: 0.5181 - val_tp: 222.0000 - val_fp: 288.0000 - val_tn: 655.0000 - val_fn: 51.0000 - val_accuracy: 0.7212 - val_precision: 0.4353 - val_recall: 0.8132 - val_auc: 0.8480\n",
            "Epoch 3/5\n",
            "677/677 [==============================] - 1764s 3s/step - loss: 0.1660 - tp: 965.9100 - fp: 1115.3791 - tn: 3131.8142 - fn: 218.8732 - accuracy: 0.7501 - precision: 0.4582 - recall: 0.8191 - auc: 0.8552 - val_loss: 0.5079 - val_tp: 223.0000 - val_fp: 274.0000 - val_tn: 669.0000 - val_fn: 50.0000 - val_accuracy: 0.7336 - val_precision: 0.4487 - val_recall: 0.8168 - val_auc: 0.8526\n",
            "Epoch 4/5\n",
            "677/677 [==============================] - 1709s 3s/step - loss: 0.1616 - tp: 948.1490 - fp: 1032.3761 - tn: 3227.3068 - fn: 224.1445 - accuracy: 0.7649 - precision: 0.4720 - recall: 0.8134 - auc: 0.8622 - val_loss: 0.5036 - val_tp: 224.0000 - val_fp: 272.0000 - val_tn: 671.0000 - val_fn: 49.0000 - val_accuracy: 0.7360 - val_precision: 0.4516 - val_recall: 0.8205 - val_auc: 0.8557\n",
            "Epoch 5/5\n",
            "677/677 [==============================] - 1759s 3s/step - loss: 0.1625 - tp: 967.4823 - fp: 1014.8319 - tn: 3219.8555 - fn: 229.8068 - accuracy: 0.7662 - precision: 0.4809 - recall: 0.8066 - auc: 0.8622 - val_loss: 0.4855 - val_tp: 219.0000 - val_fp: 240.0000 - val_tn: 703.0000 - val_fn: 54.0000 - val_accuracy: 0.7582 - val_precision: 0.4771 - val_recall: 0.8022 - val_auc: 0.8581\n"
          ],
          "name": "stdout"
        }
      ]
    },
    {
      "cell_type": "code",
      "metadata": {
        "id": "CemX4ZyQp3im"
      },
      "source": [
        "acc += history_epoch_10to14.history['accuracy']\r\n",
        "loss += history_epoch_10to14.history['loss']\r\n",
        "auc += history_epoch_10to14.history['auc']\r\n",
        "precision += history_epoch_10to14.history['precision']\r\n",
        "recall += history_epoch_10to14.history['recall']\r\n",
        "\r\n",
        "val_acc += history_epoch_10to14.history['val_accuracy']\r\n",
        "val_loss += history_epoch_10to14.history['val_loss']\r\n",
        "val_auc += history_epoch_10to14.history['val_auc']\r\n",
        "val_precision += history_epoch_10to14.history['val_precision']\r\n",
        "val_recall += history_epoch_10to14.history['val_recall']"
      ],
      "execution_count": null,
      "outputs": []
    },
    {
      "cell_type": "markdown",
      "metadata": {
        "id": "zAAHxcIlUXKw"
      },
      "source": [
        "Loading the model again:"
      ]
    },
    {
      "cell_type": "code",
      "metadata": {
        "id": "owVBgQ0qT_pc"
      },
      "source": [
        "final_new_model.load_weights(\"chexnet_model.h5\")"
      ],
      "execution_count": null,
      "outputs": []
    },
    {
      "cell_type": "code",
      "metadata": {
        "id": "jo7pPdJqUB07"
      },
      "source": [
        "final_new_model.compile(optimizer=optim,loss='binary_crossentropy',metrics=[METRICS])"
      ],
      "execution_count": null,
      "outputs": []
    },
    {
      "cell_type": "code",
      "metadata": {
        "id": "8shU9uN1rfNT",
        "colab": {
          "base_uri": "https://localhost:8080/"
        },
        "outputId": "80e63e13-3834-4d21-d578-e703c7fa39a4"
      },
      "source": [
        "history_epoch_19to24 = final_new_model.fit(\r\n",
        "    dtrain, \r\n",
        "    epochs=5, # training for longer results in a better model - but timed out on kernels\r\n",
        "    verbose=1,\r\n",
        "    callbacks=[checkpoint, lr_reducer,early_stop],\r\n",
        "    steps_per_epoch=weighted_steps_per_epoch,\r\n",
        "    validation_data=dvalid,\r\n",
        "    class_weight=class_weight)"
      ],
      "execution_count": null,
      "outputs": [
        {
          "output_type": "stream",
          "text": [
            "Epoch 1/5\n",
            "677/677 [==============================] - 2388s 3s/step - loss: 0.1617 - tp: 963.2596 - fp: 998.9882 - tn: 3239.3496 - fn: 230.3791 - accuracy: 0.7670 - precision: 0.4852 - recall: 0.8071 - auc: 0.8632 - val_loss: 0.5018 - val_tp: 229.0000 - val_fp: 271.0000 - val_tn: 672.0000 - val_fn: 44.0000 - val_accuracy: 0.7410 - val_precision: 0.4580 - val_recall: 0.8388 - val_auc: 0.8598\n",
            "Epoch 2/5\n",
            "677/677 [==============================] - 2341s 3s/step - loss: 0.1559 - tp: 963.5516 - fp: 979.7581 - tn: 3269.9602 - fn: 218.7065 - accuracy: 0.7784 - precision: 0.4907 - recall: 0.8206 - auc: 0.8734 - val_loss: 0.4909 - val_tp: 224.0000 - val_fp: 246.0000 - val_tn: 697.0000 - val_fn: 49.0000 - val_accuracy: 0.7574 - val_precision: 0.4766 - val_recall: 0.8205 - val_auc: 0.8615\n",
            "Epoch 3/5\n",
            "677/677 [==============================] - 2268s 3s/step - loss: 0.1561 - tp: 961.8746 - fp: 976.4233 - tn: 3275.4794 - fn: 218.1991 - accuracy: 0.7778 - precision: 0.4883 - recall: 0.8239 - auc: 0.8706 - val_loss: 0.4826 - val_tp: 223.0000 - val_fp: 234.0000 - val_tn: 709.0000 - val_fn: 50.0000 - val_accuracy: 0.7664 - val_precision: 0.4880 - val_recall: 0.8168 - val_auc: 0.8624\n",
            "Epoch 4/5\n",
            "677/677 [==============================] - 2265s 3s/step - loss: 0.1559 - tp: 968.0280 - fp: 942.0192 - tn: 3298.8584 - fn: 223.0708 - accuracy: 0.7856 - precision: 0.5048 - recall: 0.8163 - auc: 0.8735 - val_loss: 0.4888 - val_tp: 229.0000 - val_fp: 242.0000 - val_tn: 701.0000 - val_fn: 44.0000 - val_accuracy: 0.7648 - val_precision: 0.4862 - val_recall: 0.8388 - val_auc: 0.8635\n",
            "Epoch 5/5\n",
            "677/677 [==============================] - 2337s 3s/step - loss: 0.1564 - tp: 956.9926 - fp: 949.2227 - tn: 3308.2153 - fn: 217.5457 - accuracy: 0.7825 - precision: 0.4952 - recall: 0.8188 - auc: 0.8694 - val_loss: 0.4864 - val_tp: 227.0000 - val_fp: 240.0000 - val_tn: 703.0000 - val_fn: 46.0000 - val_accuracy: 0.7648 - val_precision: 0.4861 - val_recall: 0.8315 - val_auc: 0.8643\n"
          ],
          "name": "stdout"
        }
      ]
    },
    {
      "cell_type": "code",
      "metadata": {
        "id": "puiB0MjHjocG"
      },
      "source": [
        "acc += history_epoch_19to24.history['accuracy']\r\n",
        "loss += history_epoch_19to24.history['loss']\r\n",
        "auc += history_epoch_19to24.history['auc']\r\n",
        "precision += history_epoch_19to24.history['precision']\r\n",
        "recall += history_epoch_19to24.history['recall']\r\n",
        "\r\n",
        "val_acc += history_epoch_19to24.history['val_accuracy']\r\n",
        "val_loss += history_epoch_19to24.history['val_loss']\r\n",
        "val_auc += history_epoch_19to24.history['val_auc']\r\n",
        "val_precision += history_epoch_19to24.history['val_precision']\r\n",
        "val_recall += history_epoch_19to24.history['val_recall']"
      ],
      "execution_count": null,
      "outputs": []
    },
    {
      "cell_type": "markdown",
      "metadata": {
        "id": "iKwdutf5UkbJ"
      },
      "source": [
        "Loading the model again:"
      ]
    },
    {
      "cell_type": "code",
      "metadata": {
        "id": "smy8SzoNUD88"
      },
      "source": [
        "final_new_model.load_weights(\"chexnet_model.h5\")"
      ],
      "execution_count": null,
      "outputs": []
    },
    {
      "cell_type": "code",
      "metadata": {
        "id": "Xoae4xGJUGfS"
      },
      "source": [
        "final_new_model.compile(optimizer=optim,loss='binary_crossentropy',metrics=[METRICS])"
      ],
      "execution_count": null,
      "outputs": []
    },
    {
      "cell_type": "code",
      "metadata": {
        "id": "4MfomBlF0ntz",
        "colab": {
          "base_uri": "https://localhost:8080/"
        },
        "outputId": "05d17769-2cfa-494c-e58b-7cd447118081"
      },
      "source": [
        "history_epoch_25to30 = final_new_model.fit(\r\n",
        "    dtrain, \r\n",
        "    epochs=5, # training for longer results in a better model - but timed out on kernels\r\n",
        "    verbose=1,\r\n",
        "    callbacks=[checkpoint, lr_reducer,early_stop],\r\n",
        "    steps_per_epoch=weighted_steps_per_epoch,\r\n",
        "    validation_data=dvalid,\r\n",
        "    class_weight=class_weight)"
      ],
      "execution_count": null,
      "outputs": [
        {
          "output_type": "stream",
          "text": [
            "Epoch 1/5\n",
            "677/677 [==============================] - 2372s 3s/step - loss: 0.1560 - tp: 1194.6504 - fp: 1199.6740 - tn: 3987.2080 - fn: 266.4440 - accuracy: 0.7772 - precision: 0.4962 - recall: 0.8199 - auc: 0.8700 - val_loss: 0.4721 - val_tp: 220.0000 - val_fp: 224.0000 - val_tn: 719.0000 - val_fn: 53.0000 - val_accuracy: 0.7722 - val_precision: 0.4955 - val_recall: 0.8059 - val_auc: 0.8649\n",
            "Epoch 2/5\n",
            "677/677 [==============================] - 2283s 3s/step - loss: 0.1534 - tp: 995.3894 - fp: 928.5206 - tn: 3297.2920 - fn: 210.7743 - accuracy: 0.7915 - precision: 0.5189 - recall: 0.8285 - auc: 0.8786 - val_loss: 0.4665 - val_tp: 217.0000 - val_fp: 219.0000 - val_tn: 724.0000 - val_fn: 56.0000 - val_accuracy: 0.7738 - val_precision: 0.4977 - val_recall: 0.7949 - val_auc: 0.8654\n",
            "Epoch 3/5\n",
            "677/677 [==============================] - 2276s 3s/step - loss: 0.1568 - tp: 965.7935 - fp: 929.7537 - tn: 3307.9543 - fn: 228.4749 - accuracy: 0.7839 - precision: 0.5041 - recall: 0.8025 - auc: 0.8685 - val_loss: 0.4705 - val_tp: 220.0000 - val_fp: 224.0000 - val_tn: 719.0000 - val_fn: 53.0000 - val_accuracy: 0.7722 - val_precision: 0.4955 - val_recall: 0.8059 - val_auc: 0.8660\n",
            "Epoch 4/5\n",
            "677/677 [==============================] - 2290s 3s/step - loss: 0.1533 - tp: 969.2729 - fp: 927.9248 - tn: 3314.0369 - fn: 220.7419 - accuracy: 0.7887 - precision: 0.5079 - recall: 0.8175 - auc: 0.8755 - val_loss: 0.4880 - val_tp: 228.0000 - val_fp: 251.0000 - val_tn: 692.0000 - val_fn: 45.0000 - val_accuracy: 0.7566 - val_precision: 0.4760 - val_recall: 0.8352 - val_auc: 0.8666\n",
            "Epoch 5/5\n",
            "677/677 [==============================] - 2262s 3s/step - loss: 0.1506 - tp: 961.6519 - fp: 929.9867 - tn: 3327.9971 - fn: 212.3407 - accuracy: 0.7874 - precision: 0.5026 - recall: 0.8293 - auc: 0.8799 - val_loss: 0.4729 - val_tp: 222.0000 - val_fp: 227.0000 - val_tn: 716.0000 - val_fn: 51.0000 - val_accuracy: 0.7714 - val_precision: 0.4944 - val_recall: 0.8132 - val_auc: 0.8672\n"
          ],
          "name": "stdout"
        }
      ]
    },
    {
      "cell_type": "code",
      "metadata": {
        "id": "3DrUocRE0nwp"
      },
      "source": [
        "acc += history_epoch_25to30.history['accuracy']\r\n",
        "loss += history_epoch_25to30.history['loss']\r\n",
        "auc += history_epoch_25to30.history['auc']\r\n",
        "precision += history_epoch_25to30.history['precision']\r\n",
        "recall += history_epoch_25to30.history['recall']\r\n",
        "\r\n",
        "val_acc += history_epoch_25to30.history['val_accuracy']\r\n",
        "val_loss += history_epoch_25to30.history['val_loss']\r\n",
        "val_auc += history_epoch_25to30.history['val_auc']\r\n",
        "val_precision += history_epoch_25to30.history['val_precision']\r\n",
        "val_recall += history_epoch_25to30.history['val_recall']"
      ],
      "execution_count": null,
      "outputs": []
    },
    {
      "cell_type": "code",
      "metadata": {
        "colab": {
          "base_uri": "https://localhost:8080/"
        },
        "id": "7zbgrkxbre67",
        "outputId": "4781c0de-b17f-44b1-bfd3-1845093ece43"
      },
      "source": [
        "print(\"Metric Values after Training Next 28 Epochs : \\n\")\r\n",
        "print('Train Accuracy : ', acc)\r\n",
        "print('Train Loss : ', loss)\r\n",
        "print('Train AUC : ', auc)\r\n",
        "print('Train Precision : ', precision)\r\n",
        "print('Train Recall : ', recall)\r\n",
        "print('Train Val_Accuracy : ', val_acc)\r\n",
        "print('Train Val_Loss : ', val_loss)\r\n",
        "print('Train Val_Auc : ', val_auc)\r\n",
        "print('Train Val_Precision : ', val_precision)\r\n",
        "print('Train Val_Recall : ', val_recall)\r\n",
        "print(\"==========================================\")"
      ],
      "execution_count": null,
      "outputs": [
        {
          "output_type": "stream",
          "text": [
            "Metric Values after Training Next 28 Epochs : \n",
            "\n",
            "Train Accuracy :  [0.670236349105835, 0.6407865285873413, 0.6487259864807129, 0.6531572937965393, 0.654634416103363, 0.6687, 0.6625, 0.6704, 0.6739, 0.6786, 0.6793, 0.6907, 0.6953, 0.7477, 0.7421, 0.7501, 0.7649, 0.7662, 0.7742798924446106, 0.7805576324462891, 0.7800959944725037, 0.7859120965003967, 0.7851735353469849, 0.7798804640769958, 0.7884047031402588, 0.7884970307350159, 0.7894202470779419, 0.7894202470779419]\n",
            "Train Loss :  [0.23398947715759277, 0.22710101306438446, 0.22053559124469757, 0.2157195657491684, 0.2124169021844864, 0.2085, 0.2057, 0.2051, 0.1999, 0.1987, 0.2002, 0.1971, 0.1944, 0.1708, 0.1686, 0.166, 0.1616, 0.1625, 0.16077667474746704, 0.15837281942367554, 0.15744410455226898, 0.15684916079044342, 0.15705318748950958, 0.1564360409975052, 0.15412388741970062, 0.15498390793800354, 0.15514113008975983, 0.15270574390888214]\n",
            "Train AUC :  [0.6354421973228455, 0.7209659814834595, 0.7459319233894348, 0.7512601613998413, 0.7627031207084656, 0.7714, 0.7671, 0.7669, 0.781, 0.7697, 0.7798, 0.7858, 0.7891, 0.8422, 0.847, 0.8552, 0.8622, 0.8622, 0.866681694984436, 0.8711723685264587, 0.8716376423835754, 0.8733247518539429, 0.8709509372711182, 0.8709070086479187, 0.8771941661834717, 0.8744946122169495, 0.8744576573371887, 0.8775568008422852]\n",
            "Train Precision :  [0.31549471616744995, 0.34471920132637024, 0.356234610080719, 0.36011478304862976, 0.36686867475509644, 0.3718, 0.3654, 0.373, 0.375, 0.3668, 0.3877, 0.3944, 0.3943, 0.4556, 0.4499, 0.4582, 0.472, 0.4809, 0.4955729842185974, 0.5030769109725952, 0.5014055967330933, 0.5119418501853943, 0.5079406499862671, 0.5010380744934082, 0.5148925185203552, 0.5149136781692505, 0.5171690583229065, 0.5136268138885498]\n",
            "Train Recall :  [0.424979031085968, 0.6828559637069702, 0.7228464484214783, 0.7345317602157593, 0.749484121799469, 0.7382, 0.7388, 0.7116, 0.7421, 0.6994, 0.7224, 0.717, 0.74, 0.8089, 0.8233, 0.8191, 0.8134, 0.8066, 0.8128630518913269, 0.8171595335006714, 0.8198913335800171, 0.8179178833961487, 0.8170017004013062, 0.8162344694137573, 0.8259243965148926, 0.8182952404022217, 0.8179933428764343, 0.8218029141426086]\n",
            "Train Val_Accuracy :  [0.7171052694320679, 0.7253289222717285, 0.7253289222717285, 0.7236841917037964, 0.7097039222717285, 0.7171, 0.7426, 0.7056, 0.7311, 0.7418, 0.7442, 0.7344, 0.7442, 0.7171, 0.7212, 0.7336, 0.736, 0.7582, 0.7409539222717285, 0.7574012875556946, 0.7664473652839661, 0.7648026347160339, 0.7648026347160339, 0.7722039222717285, 0.7738487124443054, 0.7722039222717285, 0.7565789222717285, 0.7713815569877625]\n",
            "Train Val_Loss :  [0.626529335975647, 0.594288170337677, 0.5703458189964294, 0.5562014579772949, 0.5501455068588257, 0.5378, 0.5175, 0.5322, 0.5153, 0.5023, 0.4975, 0.5072, 0.4957, 0.5226, 0.5181, 0.5079, 0.5036, 0.4855, 0.5017846822738647, 0.4909161925315857, 0.4826260209083557, 0.48875463008880615, 0.4864003658294678, 0.4721059203147888, 0.4664538502693176, 0.47046881914138794, 0.487995445728302, 0.4728621542453766]\n",
            "Train Val_Auc :  [0.7704893350601196, 0.7852287292480469, 0.7918633222579956, 0.7981055974960327, 0.8029378056526184, 0.8081, 0.8124, 0.8158, 0.8192, 0.8217, 0.8245, 0.8266, 0.8282, 0.8397, 0.848, 0.8526, 0.8557, 0.8581, 0.8598134517669678, 0.8614836931228638, 0.8623538017272949, 0.8634628057479858, 0.8642669320106506, 0.8598134517669678, 0.8614836931228638, 0.8623538017272949, 0.8634628057479858, 0.8642669320106506]\n",
            "Train Val_Precision :  [0.40326976776123047, 0.42506143450737, 0.4282352924346924, 0.42889389395713806, 0.4183673560619354, 0.4265, 0.4545, 0.4178, 0.4433, 0.4549, 0.458, 0.4483, 0.4589, 0.4316, 0.4353, 0.4487, 0.4516, 0.4771, 0.4580000042915344, 0.47659575939178467, 0.4879649877548218, 0.48619958758354187, 0.4860813617706299, 0.4954954981803894, 0.49770641326904297, 0.4954954981803894, 0.4759916365146637, 0.4944320619106293]\n",
            "Train Val_Recall :  [0.5421245694160461, 0.6336996555328369, 0.6666666865348816, 0.6959707140922546, 0.7509157657623291, 0.7546, 0.7326, 0.7912, 0.7729, 0.7582, 0.7582, 0.7949, 0.7766, 0.8205, 0.8132, 0.8168, 0.8205, 0.8022, 0.8388278484344482, 0.8205128312110901, 0.8168498277664185, 0.8388278484344482, 0.831501841545105, 0.8058608174324036, 0.7948718070983887, 0.8058608174324036, 0.8351648449897766, 0.8131868243217468]\n",
            "==========================================\n"
          ],
          "name": "stdout"
        }
      ]
    },
    {
      "cell_type": "markdown",
      "metadata": {
        "id": "58aUNv0zVJ-R"
      },
      "source": [
        "***Evaluating the Final Trained Model :***"
      ]
    },
    {
      "cell_type": "code",
      "metadata": {
        "id": "xuuIt-uIzxZf"
      },
      "source": [
        "import sklearn\r\n",
        "from sklearn import metrics\r\n",
        "from sklearn.metrics import confusion_matrix,precision_recall_curve,average_precision_score,accuracy_score"
      ],
      "execution_count": 81,
      "outputs": []
    },
    {
      "cell_type": "code",
      "metadata": {
        "colab": {
          "base_uri": "https://localhost:8080/",
          "height": 893
        },
        "id": "qUF3UfTxdn2X",
        "outputId": "48f49f6d-eb49-416d-8d4c-135b36be52fd"
      },
      "source": [
        "#Plotting the metrics:\r\n",
        "\r\n",
        "plt.figure(figsize=(15, 15))\r\n",
        "\r\n",
        "#Plotting the Accuracy:\r\n",
        "plt.subplot(3, 2, 1)\r\n",
        "plt.plot(acc, label='Training Accuracy')\r\n",
        "plt.plot(val_acc, label='Validation Accuracy')\r\n",
        "plt.legend(loc='lower right')\r\n",
        "plt.ylabel('Accuracy')\r\n",
        "plt.ylim([min(plt.ylim()),1])\r\n",
        "plt.xlabel('Epoch')\r\n",
        "plt.title('Training and Validation Accuracy')\r\n",
        "\r\n",
        "#Plotting the Loss:\r\n",
        "plt.subplot(3, 2, 2)\r\n",
        "plt.plot(loss, label='Training Loss')\r\n",
        "plt.plot(val_loss, label='Validation Loss')\r\n",
        "plt.legend(loc='upper right')\r\n",
        "plt.ylabel('Cross Entropy')\r\n",
        "plt.ylim([0,1.0])\r\n",
        "plt.title('Training and Validation Loss')\r\n",
        "plt.xlabel('Epoch')\r\n",
        "\r\n",
        "#Plotting the AUC:\r\n",
        "plt.subplot(3, 2, 3)#3,2,1\r\n",
        "plt.plot(auc, label='Training AUC')\r\n",
        "plt.plot(val_auc, label='Validation AUC')\r\n",
        "plt.legend(loc='lower right')\r\n",
        "plt.ylabel('AUC')\r\n",
        "plt.ylim([min(plt.ylim()),1])\r\n",
        "plt.title('Training and Validation AUC')\r\n",
        "plt.xlabel('Epoch')\r\n",
        "\r\n",
        "#Plotting the Precision:\r\n",
        "plt.subplot(3, 2, 4)\r\n",
        "plt.plot(precision, label='Training Precision')\r\n",
        "plt.plot(val_precision, label='Validation Precision')\r\n",
        "plt.legend(loc='upper right')\r\n",
        "plt.ylabel('Precision')\r\n",
        "plt.ylim([0,1.0])\r\n",
        "plt.title('Training and Validation Precision')\r\n",
        "plt.xlabel('Epoch')\r\n",
        "\r\n",
        "#Plotting the Recall:\r\n",
        "plt.subplot(3, 2, 5)\r\n",
        "plt.plot(recall, label='Training Recall')\r\n",
        "plt.plot(val_recall, label='Validation Recall')\r\n",
        "plt.legend(loc='lower right')\r\n",
        "plt.ylabel('Recall')\r\n",
        "plt.ylim([min(plt.ylim()),1])\r\n",
        "plt.title('Training and Validation Recall')\r\n",
        "plt.xlabel('Epoch')\r\n",
        "\r\n",
        "#Showing all the graphs:\r\n",
        "plt.show()"
      ],
      "execution_count": null,
      "outputs": [
        {
          "output_type": "display_data",
          "data": {
            "image/png": "[encoded data removed]",
            "text/plain": [
              "<Figure size 1080x1080 with 5 Axes>"
            ]
          },
          "metadata": {
            "tags": [],
            "needs_background": "light"
          }
        }
      ]
    },
    {
      "cell_type": "markdown",
      "metadata": {
        "id": "rKiOiLv4Vk99"
      },
      "source": [
        "Getting the original Train and Valid dataset without the augmentations and class labels:"
      ]
    },
    {
      "cell_type": "code",
      "metadata": {
        "id": "xBArf7xQieOA"
      },
      "source": [
        "test_decoder = build_decoder(with_labels=False, target_size=(256, 256))\r\n",
        "\r\n",
        "train_features = build_dataset(\r\n",
        "    trainPath, bsize=BATCH_SIZE, repeat=False, \r\n",
        "    shuffle=False, augment=False, cache=False, \r\n",
        "    decode_fn=test_decoder\r\n",
        ")\r\n",
        "\r\n",
        "valid_features = build_dataset(\r\n",
        "    validPath, bsize=BATCH_SIZE, repeat=False, \r\n",
        "    shuffle=False, augment=False, cache=False, \r\n",
        "    decode_fn=test_decoder\r\n",
        ")"
      ],
      "execution_count": 21,
      "outputs": []
    },
    {
      "cell_type": "code",
      "metadata": {
        "colab": {
          "base_uri": "https://localhost:8080/"
        },
        "id": "ayaEs3jRiPg_",
        "outputId": "e56fe50b-f882-470b-fe26-6462bf40c137"
      },
      "source": [
        "train_features, valid_features"
      ],
      "execution_count": 22,
      "outputs": [
        {
          "output_type": "execute_result",
          "data": {
            "text/plain": [
              "(<PrefetchDataset shapes: (None, 256, 256, 3), types: tf.float32>,\n",
              " <PrefetchDataset shapes: (None, 256, 256, 3), types: tf.float32>)"
            ]
          },
          "metadata": {
            "tags": []
          },
          "execution_count": 22
        }
      ]
    },
    {
      "cell_type": "markdown",
      "metadata": {
        "id": "bWpaU_aZZCF9"
      },
      "source": [
        "Getting the predict probabilities on Valid Dataset:"
      ]
    },
    {
      "cell_type": "code",
      "metadata": {
        "id": "11uJHIFSeqMZ"
      },
      "source": [
        "valid_predictions_baseline = final_new_model.predict(valid_features, batch_size=16)"
      ],
      "execution_count": 28,
      "outputs": []
    },
    {
      "cell_type": "markdown",
      "metadata": {
        "id": "cQhKy8QvZNx5"
      },
      "source": [
        "Getting the Metrics on the Valid Dataset:"
      ]
    },
    {
      "cell_type": "code",
      "metadata": {
        "id": "Y_DzOp9of1Ic"
      },
      "source": [
        "valid_baseline_results = final_new_model.evaluate(dvalid,batch_size=16, verbose=0)"
      ],
      "execution_count": 32,
      "outputs": []
    },
    {
      "cell_type": "code",
      "metadata": {
        "colab": {
          "base_uri": "https://localhost:8080/"
        },
        "id": "P4fmRANDiigX",
        "outputId": "ae264b3c-cc49-4f01-e534-48bd9f3bc2a1"
      },
      "source": [
        "val_precision = round((valid_baseline_results[6]),3)\r\n",
        "val_recall = round((valid_baseline_results[7]),3)\r\n",
        "val_loss = round((valid_baseline_results[0]),3)\r\n",
        "val_auc = round((valid_baseline_results[8]),3)\r\n",
        "print('METRIC VALUES FOR VALID DATASET : \\n')\r\n",
        "print('PRECISION : ', val_precision)\r\n",
        "print('RECALL : ', val_recall)\r\n",
        "print('LOSS : ', val_loss)\r\n",
        "print('AUC : ', val_auc)"
      ],
      "execution_count": 79,
      "outputs": [
        {
          "output_type": "stream",
          "text": [
            "METRIC VALUES FOR VALID DATASET : \n",
            "\n",
            "PRECISION :  0.494\n",
            "RECALL :  0.813\n",
            "LOSS :  0.473\n",
            "AUC :  0.867\n"
          ],
          "name": "stdout"
        }
      ]
    },
    {
      "cell_type": "markdown",
      "metadata": {
        "id": "cEoOuFZpZoCa"
      },
      "source": [
        "***Plotting the Graphs:***"
      ]
    },
    {
      "cell_type": "markdown",
      "metadata": {
        "id": "4heLDbR4Ztz-"
      },
      "source": [
        "Plotting the ROC Curve :"
      ]
    },
    {
      "cell_type": "code",
      "metadata": {
        "id": "g0iBSldIiQJu"
      },
      "source": [
        "#https://www.tensorflow.org/tutorials/structured_data/imbalanced_data\r\n",
        "\r\n",
        "def plot_roc(name, labels, predictions):\r\n",
        "  fp, tp, _ = sklearn.metrics.roc_curve(labels, predictions)\r\n",
        "  auc = round(metrics.auc(fp, tp),3)\r\n",
        "  \r\n",
        "  plt.figure(figsize=(8, 8))\r\n",
        "  plt.plot(100*fp, 100*tp, label=name+\" = \" +str(auc), linewidth=2)\r\n",
        "  plt.xlabel('False positives [%]')\r\n",
        "  plt.ylabel('True positives [%]')\r\n",
        "  plt.grid(True)\r\n",
        "  plt.title(\"ROC Curve\")\r\n",
        "  ax = plt.gca()\r\n",
        "  ax.set_aspect('equal')"
      ],
      "execution_count": null,
      "outputs": []
    },
    {
      "cell_type": "code",
      "metadata": {
        "id": "9c2YPKs_iQMi",
        "colab": {
          "base_uri": "https://localhost:8080/",
          "height": 530
        },
        "outputId": "1e6196eb-fdfa-47ff-af5c-489f4f986ab8"
      },
      "source": [
        "#Plotting the ROC Curve on CV Dataset:\r\n",
        "plot_roc(\"CV Baseline\", validLabels, valid_predictions_baseline)\r\n",
        "plt.legend(loc='lower right')"
      ],
      "execution_count": null,
      "outputs": [
        {
          "output_type": "execute_result",
          "data": {
            "text/plain": [
              "<matplotlib.legend.Legend at 0x7f451803af90>"
            ]
          },
          "metadata": {
            "tags": []
          },
          "execution_count": 76
        },
        {
          "output_type": "display_data",
          "data": {
            "image/png": "[encoded data removed]",
            "text/plain": [
              "<Figure size 576x576 with 1 Axes>"
            ]
          },
          "metadata": {
            "tags": [],
            "needs_background": "light"
          }
        }
      ]
    },
    {
      "cell_type": "markdown",
      "metadata": {
        "id": "NI7YwmUuZ0Au"
      },
      "source": [
        "we got a AUC Score of 0.894 on the CV Dataset."
      ]
    },
    {
      "cell_type": "markdown",
      "metadata": {
        "id": "Dj0yS3mFZ4wz"
      },
      "source": [
        "Plotting the Confusion Matrix:"
      ]
    },
    {
      "cell_type": "markdown",
      "metadata": {
        "id": "-lyM4qomysWU"
      },
      "source": [
        "We took the threshold at 0.5 and observed these values for the metrics."
      ]
    },
    {
      "cell_type": "code",
      "metadata": {
        "id": "Gthm_QRkjoY6"
      },
      "source": [
        "def plot_cm(labels, predictions, p=0.5):\r\n",
        "  cm = confusion_matrix(labels, predictions > p)\r\n",
        "  plt.figure(figsize=(5,5))\r\n",
        "  sns.heatmap(cm, annot=True, fmt=\"d\")\r\n",
        "  plt.title('Confusion matrix @{:.2f}'.format(p))\r\n",
        "  plt.ylabel('Actual label')\r\n",
        "  plt.xlabel('Predicted label')\r\n",
        "\r\n",
        "  tn = cm[0][0]\r\n",
        "  fn = cm[1][0]\r\n",
        "  fp = cm[0][1]\r\n",
        "  tp = cm[1][1]\r\n",
        "\r\n",
        "  sensitivity = round((tp/(tp+fn)),3)\r\n",
        "  specificity = round((tn/(tn+fp)),3)\r\n",
        "  accuracy = round(((tp + tn)/(tp+tn+fp+fn)),3)\r\n",
        "  PPV = round((tp/(tp + fp)),3)\r\n",
        "  NPV = round((tn/(tn + fn)),3)\r\n",
        "  print('Total Records Detected : ', labels.shape[0])\r\n",
        "  print('Total Pneumothorax Cases : ', np.sum(cm[1]))\r\n",
        "  print(\"=====================================\")\r\n",
        "  print('True Negatives : ', tn)\r\n",
        "  print('False Positives : ', fp)\r\n",
        "  print('False Negatives : ', fn)\r\n",
        "  print('True Positives : ', tp)\r\n",
        "  print(\"=====================================\")\r\n",
        "  print('Accuracy : ', accuracy)\r\n",
        "  print('PPV : ', PPV)\r\n",
        "  print('NPV : ', NPV)\r\n",
        "  print('Sensitivity : ', sensitivity)\r\n",
        "  print('Specificity : ', specificity)\r\n",
        "  print(\"=====================================\")\r\n",
        "\r\n",
        "  return tn,fn,fp,tp,sensitivity,specificity,accuracy,PPV,NPV"
      ],
      "execution_count": 50,
      "outputs": []
    },
    {
      "cell_type": "code",
      "metadata": {
        "colab": {
          "base_uri": "https://localhost:8080/",
          "height": 588
        },
        "id": "oscmfnZjmVJn",
        "outputId": "c27b0186-0d51-48d3-8425-830e6e683b18"
      },
      "source": [
        "tn,fn,fp,tp,sensitivity,specificity,accuracy,PPV,NPV = plot_cm(validLabels, valid_predictions_baseline)"
      ],
      "execution_count": 51,
      "outputs": [
        {
          "output_type": "stream",
          "text": [
            "Total Records Detected :  1205\n",
            "Total Pneumothorax Cases :  267\n",
            "=====================================\n",
            "True Negatives :  735\n",
            "False Positives :  203\n",
            "False Negatives :  36\n",
            "True Positives :  231\n",
            "=====================================\n",
            "Accuracy :  0.802\n",
            "PPV :  0.532\n",
            "NPV :  0.953\n",
            "Sensitivity :  0.865\n",
            "Specificity :  0.784\n",
            "=====================================\n"
          ],
          "name": "stdout"
        },
        {
          "output_type": "display_data",
          "data": {
            "image/png": "[encoded data removed]",
            "text/plain": [
              "<Figure size 360x360 with 2 Axes>"
            ]
          },
          "metadata": {
            "tags": [],
            "needs_background": "light"
          }
        }
      ]
    },
    {
      "cell_type": "markdown",
      "metadata": {
        "id": "4d3JrjeGcsps"
      },
      "source": [
        "Sensitivity and Specificity are two of the most prominent metrics that are used to measure diagnostics tests.\r\n",
        "\r\n",
        "***Sensitivity*** (TRUE POSITIVE RATE) is the probability that the model outputs positive given that the case is actually positive. It shows what portion of the positive class got correctly classified. \r\n",
        "\r\n",
        "This is also the Recall."
      ]
    },
    {
      "cell_type": "markdown",
      "metadata": {
        "id": "LnhsAHEQ4IFx"
      },
      "source": [
        "\r\n",
        "***Specificity*** (TRUE NEGATIVE RATE) is the probability that the model outputs negative given that the case is actually negative. It would mean determining the proportion of healthy people who were correctly identified by the model."
      ]
    },
    {
      "cell_type": "markdown",
      "metadata": {
        "id": "m5bCHSnFz0M5"
      },
      "source": [
        "Positive predictive value (***PPV***) is the probability that people with a positive prediction truly have the disease. \r\n",
        "\r\n",
        "So, PPV of 0.532 means that if a person is predicted to have pneumothorax there is 53.4% probability that he actually have the disease.\r\n",
        "\r\n",
        "This is also the Precision.\r\n",
        "\r\n"
      ]
    },
    {
      "cell_type": "markdown",
      "metadata": {
        "id": "J4wkVcSt2pXV"
      },
      "source": [
        "Negative predictive value (***NPV***) is the probability that people with a negative prediction truly don't have the disease. \r\n",
        "\r\n",
        "So, NPV of 0.953 means that if a person is predicted to not have pneumothorax there is 95.3% probability that he doesnt actually have the disease."
      ]
    },
    {
      "cell_type": "markdown",
      "metadata": {
        "id": "ZaiVuNXY6T1u"
      },
      "source": [
        "***Sensitivity*** and ***NPV*** are the most important metric values. Since we are dealing with medical data, we have to ***minimise the False Negative*** as the situation where the patient has the disease (ie true label = positive) but the model predicts him to be safe (ie predicted label = negative) can prove to be disastrous. We also need to ***maximise True Postive***.\r\n",
        "\r\n",
        "So we want majority of the postive class to be correctly predicted. Hence, we need a high Sensitivity (TPR). Also , we need high NPV that shows that if the model predicts the person to be healthy, he is actually healthy."
      ]
    },
    {
      "cell_type": "markdown",
      "metadata": {
        "id": "gRh2gslGaCzj"
      },
      "source": [
        "Plotting the Precision_Recall Curve :"
      ]
    },
    {
      "cell_type": "code",
      "metadata": {
        "id": "qAJAukJ13LFS"
      },
      "source": [
        "def plot_precision_recall_curve(name, labels, predictions):\r\n",
        "  \r\n",
        "  class_precision, class_recall, _ = precision_recall_curve(labels, predictions)\r\n",
        "  average_precision = round((average_precision_score(labels, predictions)),3)\r\n",
        "\r\n",
        "  plt.figure(figsize=(8, 8))\r\n",
        "  plt.plot(100*class_recall, 100*class_precision, label=name +\" = \"+ str(average_precision), linewidth=2)\r\n",
        "  plt.xlabel('Recall [%]')\r\n",
        "  plt.ylabel('Precision [%]')\r\n",
        "  #plt.xlim([-0.5,20])\r\n",
        "  #plt.ylim([80,100.5])\r\n",
        "  plt.grid(True)\r\n",
        "  plt.legend()\r\n",
        "  plt.title(\"Precision-Recalll Curve\")\r\n",
        "  ax = plt.gca()\r\n",
        "  ax.set_aspect('equal')"
      ],
      "execution_count": 75,
      "outputs": []
    },
    {
      "cell_type": "code",
      "metadata": {
        "colab": {
          "base_uri": "https://localhost:8080/",
          "height": 404
        },
        "id": "j0jCjRzxoduO",
        "outputId": "eea111dd-f3a9-4cc8-d3a1-2a6a68858f33"
      },
      "source": [
        "plot_precision_recall_curve(\"CV Baseline\", validLabels, valid_predictions_baseline)"
      ],
      "execution_count": 76,
      "outputs": [
        {
          "output_type": "display_data",
          "data": {
            "image/png": "[encoded data removed]",
            "text/plain": [
              "<Figure size 576x576 with 1 Axes>"
            ]
          },
          "metadata": {
            "tags": [],
            "needs_background": "light"
          }
        }
      ]
    },
    {
      "cell_type": "markdown",
      "metadata": {
        "id": "8nxx_pdnaMc8"
      },
      "source": [
        "We got an Average Precision Score of 0.69 on CV Dataset."
      ]
    },
    {
      "cell_type": "markdown",
      "metadata": {
        "id": "vlkmRalh5QSX"
      },
      "source": [
        "The ***Precision-Recall curve*** (PRC) shows the trade-off between precision and recall.\r\n",
        "\r\n",
        "A high area under the curve represents both high recall and high precision, where high precision relates to a low false positive rate, and high recall relates to a low false negative rate.\r\n",
        "\r\n",
        "High scores for both show that the classifier is returning accurate results (high precision), as well as returning a majority of all positive results (high recall)."
      ]
    },
    {
      "cell_type": "markdown",
      "metadata": {
        "id": "S6IE5YFTaVvf"
      },
      "source": [
        "Saving all the metric values in a dataframe:"
      ]
    },
    {
      "cell_type": "code",
      "metadata": {
        "id": "vD75wFvbtNGZ"
      },
      "source": [
        "data = [{'Values' : accuracy}, {'Values' : val_precision}, {'Values' : val_recall}, {'Values' : sensitivity}, \r\n",
        "        {'Values' : specificity}, {'Values' : PPV}, {'Values' : NPV}]\r\n",
        "\r\n",
        "labels = ['Accuracy', 'Precision', 'Recall','Sensitivity', 'Specificity', 'PPV', 'NPV']\r\n",
        "classification_metricValues_df = pd.DataFrame(data, index =labels) "
      ],
      "execution_count": 91,
      "outputs": []
    },
    {
      "cell_type": "code",
      "metadata": {
        "colab": {
          "base_uri": "https://localhost:8080/",
          "height": 266
        },
        "id": "F_dG7T_0tNLU",
        "outputId": "758e449a-d75c-4c76-ac22-feffa8fff035"
      },
      "source": [
        "classification_metricValues_df"
      ],
      "execution_count": 93,
      "outputs": [
        {
          "output_type": "execute_result",
          "data": {
            "text/html": [
              "<div>\n",
              "<style scoped>\n",
              "    .dataframe tbody tr th:only-of-type {\n",
              "        vertical-align: middle;\n",
              "    }\n",
              "\n",
              "    .dataframe tbody tr th {\n",
              "        vertical-align: top;\n",
              "    }\n",
              "\n",
              "    .dataframe thead th {\n",
              "        text-align: right;\n",
              "    }\n",
              "</style>\n",
              "<table border=\"1\" class=\"dataframe\">\n",
              "  <thead>\n",
              "    <tr style=\"text-align: right;\">\n",
              "      <th></th>\n",
              "      <th>Values</th>\n",
              "    </tr>\n",
              "  </thead>\n",
              "  <tbody>\n",
              "    <tr>\n",
              "      <th>Accuracy</th>\n",
              "      <td>0.802</td>\n",
              "    </tr>\n",
              "    <tr>\n",
              "      <th>Precision</th>\n",
              "      <td>0.494</td>\n",
              "    </tr>\n",
              "    <tr>\n",
              "      <th>Recall</th>\n",
              "      <td>0.813</td>\n",
              "    </tr>\n",
              "    <tr>\n",
              "      <th>Sensitivity</th>\n",
              "      <td>0.865</td>\n",
              "    </tr>\n",
              "    <tr>\n",
              "      <th>Specificity</th>\n",
              "      <td>0.784</td>\n",
              "    </tr>\n",
              "    <tr>\n",
              "      <th>PPV</th>\n",
              "      <td>0.532</td>\n",
              "    </tr>\n",
              "    <tr>\n",
              "      <th>NPV</th>\n",
              "      <td>0.953</td>\n",
              "    </tr>\n",
              "  </tbody>\n",
              "</table>\n",
              "</div>"
            ],
            "text/plain": [
              "             Values\n",
              "Accuracy      0.802\n",
              "Precision     0.494\n",
              "Recall        0.813\n",
              "Sensitivity   0.865\n",
              "Specificity   0.784\n",
              "PPV           0.532\n",
              "NPV           0.953"
            ]
          },
          "metadata": {
            "tags": []
          },
          "execution_count": 93
        }
      ]
    },
    {
      "cell_type": "code",
      "metadata": {
        "id": "_PMgtRIVodZ-"
      },
      "source": [
        "#Saving the metric df in disk:\r\n",
        "\r\n",
        "classification_metricValues_df.to_csv('Train Dataset/siim/classification_metricValues_df.csv')"
      ],
      "execution_count": 94,
      "outputs": []
    },
    {
      "cell_type": "markdown",
      "metadata": {
        "id": "brdGQZYPajbH"
      },
      "source": [
        "***Checking the Model on the Test Data given:***"
      ]
    },
    {
      "cell_type": "markdown",
      "metadata": {
        "id": "-gH_HiBPap5n"
      },
      "source": [
        "Building the Test Dataset without Augmentations:"
      ]
    },
    {
      "cell_type": "code",
      "metadata": {
        "id": "KuLuGR8F5fwI"
      },
      "source": [
        "test_decoder = build_decoder(with_labels=False, target_size=(256, 256))\r\n",
        "\r\n",
        "dtest = build_dataset(\r\n",
        "    imagePath_test, bsize=BATCH_SIZE, repeat=False, \r\n",
        "    shuffle=False, augment=False, cache=False, \r\n",
        "    decode_fn=test_decoder\r\n",
        ")"
      ],
      "execution_count": null,
      "outputs": []
    },
    {
      "cell_type": "code",
      "metadata": {
        "id": "MjtB_CuyFYMJ",
        "colab": {
          "base_uri": "https://localhost:8080/"
        },
        "outputId": "489ff532-2e82-49f9-84ca-9de1a83341a6"
      },
      "source": [
        "dtest"
      ],
      "execution_count": null,
      "outputs": [
        {
          "output_type": "execute_result",
          "data": {
            "text/plain": [
              "<PrefetchDataset shapes: (None, 256, 256, 3), types: tf.float32>"
            ]
          },
          "metadata": {
            "tags": []
          },
          "execution_count": 104
        }
      ]
    },
    {
      "cell_type": "markdown",
      "metadata": {
        "id": "G2FgLUyUaxDm"
      },
      "source": [
        "Reading the Test CSV file:"
      ]
    },
    {
      "cell_type": "code",
      "metadata": {
        "id": "FmyfN5_6Flft"
      },
      "source": [
        "submission_df = pd.read_csv('/content/drive/MyDrive/Self Case Study 2/DATASET/Test Dataset/stage_2_sample_submission.csv')"
      ],
      "execution_count": null,
      "outputs": []
    },
    {
      "cell_type": "code",
      "metadata": {
        "colab": {
          "base_uri": "https://localhost:8080/",
          "height": 111
        },
        "id": "r0xgao7cFnTi",
        "outputId": "984c80da-737e-4f5f-b8db-01edd19a829c"
      },
      "source": [
        "submission_df.head(2)"
      ],
      "execution_count": null,
      "outputs": [
        {
          "output_type": "execute_result",
          "data": {
            "text/html": [
              "<div>\n",
              "<style scoped>\n",
              "    .dataframe tbody tr th:only-of-type {\n",
              "        vertical-align: middle;\n",
              "    }\n",
              "\n",
              "    .dataframe tbody tr th {\n",
              "        vertical-align: top;\n",
              "    }\n",
              "\n",
              "    .dataframe thead th {\n",
              "        text-align: right;\n",
              "    }\n",
              "</style>\n",
              "<table border=\"1\" class=\"dataframe\">\n",
              "  <thead>\n",
              "    <tr style=\"text-align: right;\">\n",
              "      <th></th>\n",
              "      <th>ImageId</th>\n",
              "      <th>EncodedPixels</th>\n",
              "    </tr>\n",
              "  </thead>\n",
              "  <tbody>\n",
              "    <tr>\n",
              "      <th>0</th>\n",
              "      <td>ID_c68e114ba</td>\n",
              "      <td>-1</td>\n",
              "    </tr>\n",
              "    <tr>\n",
              "      <th>1</th>\n",
              "      <td>ID_b5a797789</td>\n",
              "      <td>-1</td>\n",
              "    </tr>\n",
              "  </tbody>\n",
              "</table>\n",
              "</div>"
            ],
            "text/plain": [
              "        ImageId  EncodedPixels\n",
              "0  ID_c68e114ba             -1\n",
              "1  ID_b5a797789             -1"
            ]
          },
          "metadata": {
            "tags": []
          },
          "execution_count": 106
        }
      ]
    },
    {
      "cell_type": "code",
      "metadata": {
        "colab": {
          "base_uri": "https://localhost:8080/",
          "height": 128
        },
        "id": "MvlZ9zG-FMX2",
        "outputId": "c5d7ba7d-308a-45bf-904f-94e5126d4fc1"
      },
      "source": [
        "#Using the Model to predict the Class Label (NOT MASK):\r\n",
        "\r\n",
        "submission_df['Pneumothorax_Classification'] = final_new_model.predict(dtest, verbose=1)\r\n",
        "submission_df.to_csv('/content/drive/MyDrive/Self Case Study 2/DATASET/Test Dataset/Pneumothorax_Classification_Submission.csv', index=False)\r\n",
        "submission_df.head(2)"
      ],
      "execution_count": null,
      "outputs": [
        {
          "output_type": "stream",
          "text": [
            "201/201 [==============================] - 574s 3s/step\n"
          ],
          "name": "stdout"
        },
        {
          "output_type": "execute_result",
          "data": {
            "text/html": [
              "<div>\n",
              "<style scoped>\n",
              "    .dataframe tbody tr th:only-of-type {\n",
              "        vertical-align: middle;\n",
              "    }\n",
              "\n",
              "    .dataframe tbody tr th {\n",
              "        vertical-align: top;\n",
              "    }\n",
              "\n",
              "    .dataframe thead th {\n",
              "        text-align: right;\n",
              "    }\n",
              "</style>\n",
              "<table border=\"1\" class=\"dataframe\">\n",
              "  <thead>\n",
              "    <tr style=\"text-align: right;\">\n",
              "      <th></th>\n",
              "      <th>ImageId</th>\n",
              "      <th>EncodedPixels</th>\n",
              "      <th>Pneumothorax_Classification</th>\n",
              "    </tr>\n",
              "  </thead>\n",
              "  <tbody>\n",
              "    <tr>\n",
              "      <th>0</th>\n",
              "      <td>ID_c68e114ba</td>\n",
              "      <td>-1</td>\n",
              "      <td>0.148873</td>\n",
              "    </tr>\n",
              "    <tr>\n",
              "      <th>1</th>\n",
              "      <td>ID_b5a797789</td>\n",
              "      <td>-1</td>\n",
              "      <td>0.308220</td>\n",
              "    </tr>\n",
              "  </tbody>\n",
              "</table>\n",
              "</div>"
            ],
            "text/plain": [
              "        ImageId  EncodedPixels  Pneumothorax_Classification\n",
              "0  ID_c68e114ba             -1                     0.148873\n",
              "1  ID_b5a797789             -1                     0.308220"
            ]
          },
          "metadata": {
            "tags": []
          },
          "execution_count": 107
        }
      ]
    },
    {
      "cell_type": "code",
      "metadata": {
        "colab": {
          "base_uri": "https://localhost:8080/",
          "height": 359
        },
        "id": "Nh98IM5IFMbK",
        "outputId": "8295d06f-af4a-4055-cd82-692ae1b4b8a8"
      },
      "source": [
        "submission_df.tail(10)"
      ],
      "execution_count": null,
      "outputs": [
        {
          "output_type": "execute_result",
          "data": {
            "text/html": [
              "<div>\n",
              "<style scoped>\n",
              "    .dataframe tbody tr th:only-of-type {\n",
              "        vertical-align: middle;\n",
              "    }\n",
              "\n",
              "    .dataframe tbody tr th {\n",
              "        vertical-align: top;\n",
              "    }\n",
              "\n",
              "    .dataframe thead th {\n",
              "        text-align: right;\n",
              "    }\n",
              "</style>\n",
              "<table border=\"1\" class=\"dataframe\">\n",
              "  <thead>\n",
              "    <tr style=\"text-align: right;\">\n",
              "      <th></th>\n",
              "      <th>ImageId</th>\n",
              "      <th>EncodedPixels</th>\n",
              "      <th>Pneumothorax_Classification</th>\n",
              "    </tr>\n",
              "  </thead>\n",
              "  <tbody>\n",
              "    <tr>\n",
              "      <th>3195</th>\n",
              "      <td>ID_0f5f33d71</td>\n",
              "      <td>-1</td>\n",
              "      <td>0.512488</td>\n",
              "    </tr>\n",
              "    <tr>\n",
              "      <th>3196</th>\n",
              "      <td>ID_e42b91d9a</td>\n",
              "      <td>-1</td>\n",
              "      <td>0.461379</td>\n",
              "    </tr>\n",
              "    <tr>\n",
              "      <th>3197</th>\n",
              "      <td>ID_bd4fa896c</td>\n",
              "      <td>-1</td>\n",
              "      <td>0.578524</td>\n",
              "    </tr>\n",
              "    <tr>\n",
              "      <th>3198</th>\n",
              "      <td>ID_293b74bdf</td>\n",
              "      <td>-1</td>\n",
              "      <td>0.489248</td>\n",
              "    </tr>\n",
              "    <tr>\n",
              "      <th>3199</th>\n",
              "      <td>ID_74441d7a9</td>\n",
              "      <td>-1</td>\n",
              "      <td>0.701188</td>\n",
              "    </tr>\n",
              "    <tr>\n",
              "      <th>3200</th>\n",
              "      <td>ID_a9cc917b4</td>\n",
              "      <td>-1</td>\n",
              "      <td>0.385000</td>\n",
              "    </tr>\n",
              "    <tr>\n",
              "      <th>3201</th>\n",
              "      <td>ID_5dc70172e</td>\n",
              "      <td>-1</td>\n",
              "      <td>0.109129</td>\n",
              "    </tr>\n",
              "    <tr>\n",
              "      <th>3202</th>\n",
              "      <td>ID_f1b5e5378</td>\n",
              "      <td>-1</td>\n",
              "      <td>0.795560</td>\n",
              "    </tr>\n",
              "    <tr>\n",
              "      <th>3203</th>\n",
              "      <td>ID_ba7f28dac</td>\n",
              "      <td>-1</td>\n",
              "      <td>0.271849</td>\n",
              "    </tr>\n",
              "    <tr>\n",
              "      <th>3204</th>\n",
              "      <td>ID_77ab447a1</td>\n",
              "      <td>-1</td>\n",
              "      <td>0.524013</td>\n",
              "    </tr>\n",
              "  </tbody>\n",
              "</table>\n",
              "</div>"
            ],
            "text/plain": [
              "           ImageId  EncodedPixels  Pneumothorax_Classification\n",
              "3195  ID_0f5f33d71             -1                     0.512488\n",
              "3196  ID_e42b91d9a             -1                     0.461379\n",
              "3197  ID_bd4fa896c             -1                     0.578524\n",
              "3198  ID_293b74bdf             -1                     0.489248\n",
              "3199  ID_74441d7a9             -1                     0.701188\n",
              "3200  ID_a9cc917b4             -1                     0.385000\n",
              "3201  ID_5dc70172e             -1                     0.109129\n",
              "3202  ID_f1b5e5378             -1                     0.795560\n",
              "3203  ID_ba7f28dac             -1                     0.271849\n",
              "3204  ID_77ab447a1             -1                     0.524013"
            ]
          },
          "metadata": {
            "tags": []
          },
          "execution_count": 110
        }
      ]
    },
    {
      "cell_type": "markdown",
      "metadata": {
        "id": "GivYIQG8a_XI"
      },
      "source": [
        "We have used the classification model to predict the probability of the class label. \r\n",
        "\r\n",
        "We will now create the segmentation model that will predict the mask. "
      ]
    },
    {
      "cell_type": "code",
      "metadata": {
        "id": "TK15cfqkFMfD"
      },
      "source": [
        ""
      ],
      "execution_count": null,
      "outputs": []
    },
    {
      "cell_type": "code",
      "metadata": {
        "id": "djymqWLIFeWd"
      },
      "source": [
        "#from keras import backend as K\r\n",
        "#from tf.keras.backend as K"
      ],
      "execution_count": null,
      "outputs": []
    }
  ]
}