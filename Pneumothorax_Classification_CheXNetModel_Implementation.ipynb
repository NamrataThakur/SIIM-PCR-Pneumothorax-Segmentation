{
  "nbformat": 4,
  "nbformat_minor": 0,
  "metadata": {
    "colab": {
      "name": "Pneumothorax_Classification_CheXNetModel_Implementation.ipynb",
      "provenance": [],
      "collapsed_sections": []
    },
    "kernelspec": {
      "name": "python3",
      "display_name": "Python 3"
    }
  },
  "cells": [
    {
      "cell_type": "code",
      "metadata": {
        "colab": {
          "base_uri": "https://localhost:8080/"
        },
        "id": "AQ4hgrgYcL1y",
        "outputId": "6fbda331-c24f-4b20-a376-8be4be778c94"
      },
      "source": [
        "# Mounting the Drive\r\n",
        "\r\n",
        "from google.colab import drive\r\n",
        "drive.mount('/content/drive')"
      ],
      "execution_count": 4,
      "outputs": [
        {
          "output_type": "stream",
          "text": [
            "Drive already mounted at /content/drive; to attempt to forcibly remount, call drive.mount(\"/content/drive\", force_remount=True).\n"
          ],
          "name": "stdout"
        }
      ]
    },
    {
      "cell_type": "code",
      "metadata": {
        "colab": {
          "base_uri": "https://localhost:8080/"
        },
        "id": "IylyVQukpN3B",
        "outputId": "035d13af-17f4-426e-a3aa-5f080f9d2f27"
      },
      "source": [
        "# Installing pydicom\r\n",
        "\r\n",
        "!pip install pydicom"
      ],
      "execution_count": 5,
      "outputs": [
        {
          "output_type": "stream",
          "text": [
            "Requirement already satisfied: pydicom in /usr/local/lib/python3.7/dist-packages (2.1.2)\n"
          ],
          "name": "stdout"
        }
      ]
    },
    {
      "cell_type": "code",
      "metadata": {
        "id": "_yRlUJSYpN6Z"
      },
      "source": [
        "#installing the libraries:\r\n",
        "\r\n",
        "import pandas as pd\r\n",
        "import numpy as np\r\n",
        "import pydicom\r\n",
        "from glob import glob\r\n",
        "import glob2\r\n",
        "from tqdm import tqdm\r\n",
        "import shutil\r\n",
        "import os\r\n",
        "import pydicom\r\n",
        "import matplotlib.pyplot as plt\r\n",
        "import seaborn as sns\r\n",
        "import cv2\r\n",
        "from PIL import Image\r\n",
        "import warnings\r\n",
        "from joblib import Parallel, delayed\r\n",
        "warnings.filterwarnings(\"ignore\")\r\n",
        "from tensorflow.keras.preprocessing.image import ImageDataGenerator"
      ],
      "execution_count": 6,
      "outputs": []
    },
    {
      "cell_type": "code",
      "metadata": {
        "id": "W6-iE7NDqfv2"
      },
      "source": [
        "import tensorflow as tf\r\n",
        "import keras\r\n",
        "# tf.enable_eager_execution()\r\n",
        "import os\r\n",
        "import numpy as np\r\n",
        "import pandas as pd\r\n",
        "import cv2\r\n",
        "import matplotlib.pyplot as plt\r\n",
        "# from hilbert import hilbertCurve\r\n",
        "import imgaug.augmenters as iaa\r\n",
        "import numpy as np\r\n",
        "import random as rn\r\n",
        "from tensorflow.keras.callbacks import ModelCheckpoint, EarlyStopping, LearningRateScheduler, ReduceLROnPlateau, Callback"
      ],
      "execution_count": 7,
      "outputs": []
    },
    {
      "cell_type": "code",
      "metadata": {
        "id": "UZqfluawbgou"
      },
      "source": [
        "import os\r\n",
        "\r\n",
        "# import efficientnet.tfkeras as efn\r\n",
        "import numpy as np\r\n",
        "import pandas as pd\r\n",
        "#from kaggle_datasets import KaggleDatasets\r\n",
        "from sklearn.model_selection import train_test_split\r\n",
        "import tensorflow as tf\r\n",
        "# import tensorflow.keras.applications.efficientnet as efn\r\n",
        "\r\n",
        "\r\n",
        "import tensorflow as tf\r\n",
        "from tensorflow.keras import Sequential\r\n",
        "from keras.models import Model\r\n",
        "from tensorflow.keras.utils import plot_model\r\n",
        "from tensorflow.keras.applications import densenet\r\n",
        "from tensorflow.keras.preprocessing.image import ImageDataGenerator\r\n",
        "from tensorflow.keras.layers import GlobalAveragePooling2D, GlobalMaxPooling2D, AveragePooling2D"
      ],
      "execution_count": 8,
      "outputs": []
    },
    {
      "cell_type": "code",
      "metadata": {
        "id": "Tgr3UOJUimFO"
      },
      "source": [
        "#https://www.kaggle.com/danofer/ranzcr-chexnet-starter/notebook"
      ],
      "execution_count": 9,
      "outputs": []
    },
    {
      "cell_type": "code",
      "metadata": {
        "colab": {
          "base_uri": "https://localhost:8080/"
        },
        "id": "iYvvgtwDpN8s",
        "outputId": "d563e16e-f73e-4b7e-87f3-2d0d0862079e"
      },
      "source": [
        "%cd /content/drive/MyDrive/Self \\Case \\Study \\2/DATASET/ "
      ],
      "execution_count": 10,
      "outputs": [
        {
          "output_type": "stream",
          "text": [
            "/content/drive/MyDrive/Self Case Study 2/DATASET\n"
          ],
          "name": "stdout"
        }
      ]
    },
    {
      "cell_type": "code",
      "metadata": {
        "colab": {
          "base_uri": "https://localhost:8080/",
          "height": 199
        },
        "id": "ikH1Vej3pN_C",
        "outputId": "763b4af3-db9e-4191-c656-da04a910b06b"
      },
      "source": [
        "final_train_df = pd.read_csv('Train Dataset/siim/final_train_data.csv')\r\n",
        "final_train_df.head(2)"
      ],
      "execution_count": 11,
      "outputs": [
        {
          "output_type": "execute_result",
          "data": {
            "text/html": [
              "<div>\n",
              "<style scoped>\n",
              "    .dataframe tbody tr th:only-of-type {\n",
              "        vertical-align: middle;\n",
              "    }\n",
              "\n",
              "    .dataframe tbody tr th {\n",
              "        vertical-align: top;\n",
              "    }\n",
              "\n",
              "    .dataframe thead th {\n",
              "        text-align: right;\n",
              "    }\n",
              "</style>\n",
              "<table border=\"1\" class=\"dataframe\">\n",
              "  <thead>\n",
              "    <tr style=\"text-align: right;\">\n",
              "      <th></th>\n",
              "      <th>ImageId</th>\n",
              "      <th>EncodedPixels</th>\n",
              "      <th>ImagePath</th>\n",
              "      <th>MaskPath</th>\n",
              "      <th>ImagePath_Png</th>\n",
              "    </tr>\n",
              "  </thead>\n",
              "  <tbody>\n",
              "    <tr>\n",
              "      <th>0</th>\n",
              "      <td>1.2.276.0.7230010.3.1.4.8323329.6904.151787520...</td>\n",
              "      <td>-1</td>\n",
              "      <td>Train Dataset/siim/train_dicom_images/1.2.276....</td>\n",
              "      <td>Train Dataset/siim/train_mask_png_images/1.2.2...</td>\n",
              "      <td>Train Dataset/siim/train_png_images/1.2.276.0....</td>\n",
              "    </tr>\n",
              "    <tr>\n",
              "      <th>1</th>\n",
              "      <td>1.2.276.0.7230010.3.1.4.8323329.13666.15178752...</td>\n",
              "      <td>557374 2 1015 8 1009 14 1002 20 997 26 990 32 ...</td>\n",
              "      <td>Train Dataset/siim/train_dicom_images/1.2.276....</td>\n",
              "      <td>Train Dataset/siim/train_mask_png_images/1.2.2...</td>\n",
              "      <td>Train Dataset/siim/train_png_images/1.2.276.0....</td>\n",
              "    </tr>\n",
              "  </tbody>\n",
              "</table>\n",
              "</div>"
            ],
            "text/plain": [
              "                                             ImageId  ...                                      ImagePath_Png\n",
              "0  1.2.276.0.7230010.3.1.4.8323329.6904.151787520...  ...  Train Dataset/siim/train_png_images/1.2.276.0....\n",
              "1  1.2.276.0.7230010.3.1.4.8323329.13666.15178752...  ...  Train Dataset/siim/train_png_images/1.2.276.0....\n",
              "\n",
              "[2 rows x 5 columns]"
            ]
          },
          "metadata": {
            "tags": []
          },
          "execution_count": 11
        }
      ]
    },
    {
      "cell_type": "code",
      "metadata": {
        "id": "bglvQJ2X05Nf"
      },
      "source": [
        "imagePath = 'Train Dataset/siim/train_png_images/'\r\n",
        "maskPath = 'Train Dataset/siim/train_mask_png_images/'"
      ],
      "execution_count": 12,
      "outputs": []
    },
    {
      "cell_type": "code",
      "metadata": {
        "id": "8vAjwltDHL8s"
      },
      "source": [
        "final_train_df['Target'] = final_train_df[' EncodedPixels'].apply(lambda x : 0 if x == '-1' else 1)"
      ],
      "execution_count": 13,
      "outputs": []
    },
    {
      "cell_type": "code",
      "metadata": {
        "colab": {
          "base_uri": "https://localhost:8080/",
          "height": 199
        },
        "id": "vyygEdvPHL_u",
        "outputId": "b96b55d2-6737-4ad6-e944-91cb9e4c39dc"
      },
      "source": [
        "final_train_df.head(2)"
      ],
      "execution_count": 14,
      "outputs": [
        {
          "output_type": "execute_result",
          "data": {
            "text/html": [
              "<div>\n",
              "<style scoped>\n",
              "    .dataframe tbody tr th:only-of-type {\n",
              "        vertical-align: middle;\n",
              "    }\n",
              "\n",
              "    .dataframe tbody tr th {\n",
              "        vertical-align: top;\n",
              "    }\n",
              "\n",
              "    .dataframe thead th {\n",
              "        text-align: right;\n",
              "    }\n",
              "</style>\n",
              "<table border=\"1\" class=\"dataframe\">\n",
              "  <thead>\n",
              "    <tr style=\"text-align: right;\">\n",
              "      <th></th>\n",
              "      <th>ImageId</th>\n",
              "      <th>EncodedPixels</th>\n",
              "      <th>ImagePath</th>\n",
              "      <th>MaskPath</th>\n",
              "      <th>ImagePath_Png</th>\n",
              "      <th>Target</th>\n",
              "    </tr>\n",
              "  </thead>\n",
              "  <tbody>\n",
              "    <tr>\n",
              "      <th>0</th>\n",
              "      <td>1.2.276.0.7230010.3.1.4.8323329.6904.151787520...</td>\n",
              "      <td>-1</td>\n",
              "      <td>Train Dataset/siim/train_dicom_images/1.2.276....</td>\n",
              "      <td>Train Dataset/siim/train_mask_png_images/1.2.2...</td>\n",
              "      <td>Train Dataset/siim/train_png_images/1.2.276.0....</td>\n",
              "      <td>0</td>\n",
              "    </tr>\n",
              "    <tr>\n",
              "      <th>1</th>\n",
              "      <td>1.2.276.0.7230010.3.1.4.8323329.13666.15178752...</td>\n",
              "      <td>557374 2 1015 8 1009 14 1002 20 997 26 990 32 ...</td>\n",
              "      <td>Train Dataset/siim/train_dicom_images/1.2.276....</td>\n",
              "      <td>Train Dataset/siim/train_mask_png_images/1.2.2...</td>\n",
              "      <td>Train Dataset/siim/train_png_images/1.2.276.0....</td>\n",
              "      <td>1</td>\n",
              "    </tr>\n",
              "  </tbody>\n",
              "</table>\n",
              "</div>"
            ],
            "text/plain": [
              "                                             ImageId  ... Target\n",
              "0  1.2.276.0.7230010.3.1.4.8323329.6904.151787520...  ...      0\n",
              "1  1.2.276.0.7230010.3.1.4.8323329.13666.15178752...  ...      1\n",
              "\n",
              "[2 rows x 6 columns]"
            ]
          },
          "metadata": {
            "tags": []
          },
          "execution_count": 14
        }
      ]
    },
    {
      "cell_type": "code",
      "metadata": {
        "id": "5twomXYdH7OK"
      },
      "source": [
        "imagePath = final_train_df['ImagePath_Png']\r\n",
        "#targetLabels = final_train_df['Target'].values"
      ],
      "execution_count": 15,
      "outputs": []
    },
    {
      "cell_type": "code",
      "metadata": {
        "colab": {
          "base_uri": "https://localhost:8080/"
        },
        "id": "S1DrTqqbH7Qv",
        "outputId": "b90eeca0-71d2-458d-f822-8334aa70d55f"
      },
      "source": [
        "imagePath"
      ],
      "execution_count": 16,
      "outputs": [
        {
          "output_type": "execute_result",
          "data": {
            "text/plain": [
              "0        Train Dataset/siim/train_png_images/1.2.276.0....\n",
              "1        Train Dataset/siim/train_png_images/1.2.276.0....\n",
              "2        Train Dataset/siim/train_png_images/1.2.276.0....\n",
              "3        Train Dataset/siim/train_png_images/1.2.276.0....\n",
              "4        Train Dataset/siim/train_png_images/1.2.276.0....\n",
              "                               ...                        \n",
              "12042    Train Dataset/siim/train_png_images/1.2.276.0....\n",
              "12043    Train Dataset/siim/train_png_images/1.2.276.0....\n",
              "12044    Train Dataset/siim/train_png_images/1.2.276.0....\n",
              "12045    Train Dataset/siim/train_png_images/1.2.276.0....\n",
              "12046    Train Dataset/siim/train_png_images/1.2.276.0....\n",
              "Name: ImagePath_Png, Length: 12047, dtype: object"
            ]
          },
          "metadata": {
            "tags": []
          },
          "execution_count": 16
        }
      ]
    },
    {
      "cell_type": "code",
      "metadata": {
        "colab": {
          "base_uri": "https://localhost:8080/"
        },
        "id": "dpdx8mVtMWNd",
        "outputId": "e3a03c1b-9040-4a23-90e5-d28e204f5ba6"
      },
      "source": [
        "load_dir = os.getcwd()\r\n",
        "print(load_dir)"
      ],
      "execution_count": 17,
      "outputs": [
        {
          "output_type": "stream",
          "text": [
            "/content/drive/My Drive/Self Case Study 2/DATASET\n"
          ],
          "name": "stdout"
        }
      ]
    },
    {
      "cell_type": "code",
      "metadata": {
        "id": "OWSkEYwfMUXx"
      },
      "source": [
        "paths = \"Train Dataset/siim/train_png_images/\" + final_train_df['ImageId'] + '.png'"
      ],
      "execution_count": null,
      "outputs": []
    },
    {
      "cell_type": "code",
      "metadata": {
        "colab": {
          "base_uri": "https://localhost:8080/"
        },
        "id": "r07MmeE6j7S9",
        "outputId": "f0474be3-9bca-4d22-e93a-fcbd13e4d0f6"
      },
      "source": [
        "paths"
      ],
      "execution_count": null,
      "outputs": [
        {
          "output_type": "execute_result",
          "data": {
            "text/plain": [
              "0        Train Dataset/siim/train_png_images/1.2.276.0....\n",
              "1        Train Dataset/siim/train_png_images/1.2.276.0....\n",
              "2        Train Dataset/siim/train_png_images/1.2.276.0....\n",
              "3        Train Dataset/siim/train_png_images/1.2.276.0....\n",
              "4        Train Dataset/siim/train_png_images/1.2.276.0....\n",
              "                               ...                        \n",
              "12042    Train Dataset/siim/train_png_images/1.2.276.0....\n",
              "12043    Train Dataset/siim/train_png_images/1.2.276.0....\n",
              "12044    Train Dataset/siim/train_png_images/1.2.276.0....\n",
              "12045    Train Dataset/siim/train_png_images/1.2.276.0....\n",
              "12046    Train Dataset/siim/train_png_images/1.2.276.0....\n",
              "Name: ImageId, Length: 12047, dtype: object"
            ]
          },
          "metadata": {
            "tags": []
          },
          "execution_count": 17
        }
      ]
    },
    {
      "cell_type": "code",
      "metadata": {
        "id": "ICqGiVkAZI5A"
      },
      "source": [
        "#label_cols = final_train_df.columns[5:]\r\n",
        "labels = final_train_df[\"Target\"]"
      ],
      "execution_count": 18,
      "outputs": []
    },
    {
      "cell_type": "code",
      "metadata": {
        "colab": {
          "base_uri": "https://localhost:8080/"
        },
        "id": "2p5yE8qfZhDp",
        "outputId": "af8de65e-0e66-44ed-c0e3-48e79ae724d8"
      },
      "source": [
        "labels"
      ],
      "execution_count": 19,
      "outputs": [
        {
          "output_type": "execute_result",
          "data": {
            "text/plain": [
              "0        0\n",
              "1        1\n",
              "2        0\n",
              "3        1\n",
              "4        1\n",
              "        ..\n",
              "12042    0\n",
              "12043    1\n",
              "12044    1\n",
              "12045    0\n",
              "12046    0\n",
              "Name: Target, Length: 12047, dtype: int64"
            ]
          },
          "metadata": {
            "tags": []
          },
          "execution_count": 19
        }
      ]
    },
    {
      "cell_type": "code",
      "metadata": {
        "colab": {
          "base_uri": "https://localhost:8080/"
        },
        "id": "3NZqhfAPkVWz",
        "outputId": "53d21b7d-5065-4e92-deaa-736a3bd949dc"
      },
      "source": [
        "labels.shape"
      ],
      "execution_count": 20,
      "outputs": [
        {
          "output_type": "execute_result",
          "data": {
            "text/plain": [
              "(12047,)"
            ]
          },
          "metadata": {
            "tags": []
          },
          "execution_count": 20
        }
      ]
    },
    {
      "cell_type": "code",
      "metadata": {
        "colab": {
          "base_uri": "https://localhost:8080/"
        },
        "id": "7RXsUfEMkcKW",
        "outputId": "e371d17e-b38a-4f6f-a7c6-d548eabf802a"
      },
      "source": [
        "type(labels)"
      ],
      "execution_count": 17,
      "outputs": [
        {
          "output_type": "execute_result",
          "data": {
            "text/plain": [
              "pandas.core.series.Series"
            ]
          },
          "metadata": {
            "tags": []
          },
          "execution_count": 17
        }
      ]
    },
    {
      "cell_type": "code",
      "metadata": {
        "colab": {
          "base_uri": "https://localhost:8080/"
        },
        "id": "tWNCoW01H7TM",
        "outputId": "4f1fda47-f5b0-49fb-f260-c02bb9c9b3e1"
      },
      "source": [
        "targetLabels"
      ],
      "execution_count": null,
      "outputs": [
        {
          "output_type": "execute_result",
          "data": {
            "text/plain": [
              "array(['-1', '1', '-1', ..., '1', '-1', '-1'], dtype=object)"
            ]
          },
          "metadata": {
            "tags": []
          },
          "execution_count": 14
        }
      ]
    },
    {
      "cell_type": "code",
      "metadata": {
        "colab": {
          "base_uri": "https://localhost:8080/"
        },
        "id": "5wzfkx75LXES",
        "outputId": "6b121349-2778-4481-8b54-9290e9fbcee8"
      },
      "source": [
        "targetLabels.shape[0]"
      ],
      "execution_count": null,
      "outputs": [
        {
          "output_type": "execute_result",
          "data": {
            "text/plain": [
              "12047"
            ]
          },
          "metadata": {
            "tags": []
          },
          "execution_count": 24
        }
      ]
    },
    {
      "cell_type": "code",
      "metadata": {
        "id": "c0xwaFCTH7V0"
      },
      "source": [
        "trainPath, validPath, trainLabels, validLabels = train_test_split(imagePath, labels, test_size = 0.1, random_state = 27, stratify=labels)"
      ],
      "execution_count": 21,
      "outputs": []
    },
    {
      "cell_type": "code",
      "metadata": {
        "colab": {
          "base_uri": "https://localhost:8080/"
        },
        "id": "Y3_KvjS9H7uJ",
        "outputId": "63ff4513-e526-407a-d94b-082dfab5ea0b"
      },
      "source": [
        "print('Total Train Dataset Size : ', trainPath.shape[0])\r\n",
        "print('Total Valid Dataset Size : ', validPath.shape[0])"
      ],
      "execution_count": 22,
      "outputs": [
        {
          "output_type": "stream",
          "text": [
            "Total Train Dataset Size :  10842\n",
            "Total Valid Dataset Size :  1205\n"
          ],
          "name": "stdout"
        }
      ]
    },
    {
      "cell_type": "code",
      "metadata": {
        "colab": {
          "base_uri": "https://localhost:8080/"
        },
        "id": "212xds59RQ5v",
        "outputId": "8aa3d4bb-1bf1-4646-f0d0-0004ddc9cf5c"
      },
      "source": [
        "trainLabels"
      ],
      "execution_count": 23,
      "outputs": [
        {
          "output_type": "execute_result",
          "data": {
            "text/plain": [
              "5943     0\n",
              "1455     0\n",
              "1631     0\n",
              "10874    0\n",
              "727      0\n",
              "        ..\n",
              "2574     1\n",
              "4568     0\n",
              "9675     0\n",
              "10061    0\n",
              "335      0\n",
              "Name: Target, Length: 10842, dtype: int64"
            ]
          },
          "metadata": {
            "tags": []
          },
          "execution_count": 23
        }
      ]
    },
    {
      "cell_type": "code",
      "metadata": {
        "id": "wZvNrGRBPZoJ"
      },
      "source": [
        "trainCount=trainLabels.value_counts()\r\n",
        "validCount = validLabels.value_counts()"
      ],
      "execution_count": 24,
      "outputs": []
    },
    {
      "cell_type": "code",
      "metadata": {
        "colab": {
          "base_uri": "https://localhost:8080/"
        },
        "id": "YwUkN0zwPZwS",
        "outputId": "3a53d575-fc2d-4218-b14a-4dd5b139db61"
      },
      "source": [
        "totalTrainCount = trainLabels.shape[0]\r\n",
        "totalPosCount = trainCount[1]\r\n",
        "totalNegCount = trainCount[0]\r\n",
        "\r\n",
        "print('Total Train Labels : ', totalTrainCount)\r\n",
        "print('Total Train Positive Labels : ', totalPosCount)\r\n",
        "print('Total Train Negative Labels : ', totalNegCount)"
      ],
      "execution_count": 25,
      "outputs": [
        {
          "output_type": "stream",
          "text": [
            "Total Train Labels :  10842\n",
            "Total Train Positive Labels :  2402\n",
            "Total Train Negative Labels :  8440\n"
          ],
          "name": "stdout"
        }
      ]
    },
    {
      "cell_type": "code",
      "metadata": {
        "colab": {
          "base_uri": "https://localhost:8080/"
        },
        "id": "LirZNkLuPZyp",
        "outputId": "676a9cb4-ee9a-4a23-87d7-47a25da70670"
      },
      "source": [
        "posFreq = round((totalPosCount/totalTrainCount),2)\r\n",
        "negFreq = round((totalNegCount/totalTrainCount),2)\r\n",
        "\r\n",
        "print('Frequency Of Positive Class : ', posFreq)\r\n",
        "print('Frequency Of Negataive Class : ', negFreq)"
      ],
      "execution_count": 26,
      "outputs": [
        {
          "output_type": "stream",
          "text": [
            "Frequency Of Positive Class :  0.22\n",
            "Frequency Of Negataive Class :  0.78\n"
          ],
          "name": "stdout"
        }
      ]
    },
    {
      "cell_type": "code",
      "metadata": {
        "id": "AaNMO3EdPZ0-"
      },
      "source": [
        "pos_weights = negFreq\r\n",
        "neg_weights = posFreq"
      ],
      "execution_count": 27,
      "outputs": []
    },
    {
      "cell_type": "code",
      "metadata": {
        "colab": {
          "base_uri": "https://localhost:8080/"
        },
        "id": "5cEfa3XM8wIP",
        "outputId": "a30e5c1d-eb9e-4ab2-d2a5-2fa4c4b72e45"
      },
      "source": [
        "type(pos_weights)"
      ],
      "execution_count": 125,
      "outputs": [
        {
          "output_type": "execute_result",
          "data": {
            "text/plain": [
              "numpy.float64"
            ]
          },
          "metadata": {
            "tags": []
          },
          "execution_count": 125
        }
      ]
    },
    {
      "cell_type": "code",
      "metadata": {
        "id": "vjyfvcnhPZ33"
      },
      "source": [
        "pos_contribution = posFreq * pos_weights\r\n",
        "neg_contribution = negFreq * neg_weights"
      ],
      "execution_count": 28,
      "outputs": []
    },
    {
      "cell_type": "code",
      "metadata": {
        "colab": {
          "base_uri": "https://localhost:8080/",
          "height": 295
        },
        "id": "fj0Icsx9PZ9e",
        "outputId": "8adf5832-b9a7-4796-dd94-1e4a5534c381"
      },
      "source": [
        "\r\n",
        "classes = ['Not Affected', 'Affected']\r\n",
        "count = [totalNegCount,totalPosCount]\r\n",
        "plt.bar(classes,count)\r\n",
        "plt.xlabel('Target Classes')\r\n",
        "plt.ylabel('Number of Images')\r\n",
        "plt.title('Count of Train Classes')\r\n",
        "plt.show()"
      ],
      "execution_count": 143,
      "outputs": [
        {
          "output_type": "display_data",
          "data": {
            "image/png": "[encoded data removed]",
            "text/plain": [
              "<Figure size 432x288 with 1 Axes>"
            ]
          },
          "metadata": {
            "tags": [],
            "needs_background": "light"
          }
        }
      ]
    },
    {
      "cell_type": "code",
      "metadata": {
        "colab": {
          "base_uri": "https://localhost:8080/",
          "height": 295
        },
        "id": "rrEtdlLcWzT8",
        "outputId": "6d1b9b79-f067-4938-8790-6d5bd453f917"
      },
      "source": [
        "classes = ['Not Affected', 'Affected']\r\n",
        "count = [neg_contribution,pos_contribution]\r\n",
        "plt.bar(classes,count)\r\n",
        "plt.xlabel('Target Classes')\r\n",
        "plt.ylabel('Count')\r\n",
        "plt.title('Contribution of Different Train Classes on Loss Function ')\r\n",
        "plt.show()"
      ],
      "execution_count": 144,
      "outputs": [
        {
          "output_type": "display_data",
          "data": {
            "image/png": "[encoded data removed]",
            "text/plain": [
              "<Figure size 432x288 with 1 Axes>"
            ]
          },
          "metadata": {
            "tags": [],
            "needs_background": "light"
          }
        }
      ]
    },
    {
      "cell_type": "code",
      "metadata": {
        "id": "ZRFl4XKUWzW9"
      },
      "source": [
        ""
      ],
      "execution_count": null,
      "outputs": []
    },
    {
      "cell_type": "code",
      "metadata": {
        "id": "ygYzNrrvWzaq"
      },
      "source": [
        ""
      ],
      "execution_count": null,
      "outputs": []
    },
    {
      "cell_type": "code",
      "metadata": {
        "id": "DXu1amGfWzdZ"
      },
      "source": [
        ""
      ],
      "execution_count": null,
      "outputs": []
    },
    {
      "cell_type": "code",
      "metadata": {
        "id": "8lSgzNYtPaEE"
      },
      "source": [
        ""
      ],
      "execution_count": null,
      "outputs": []
    },
    {
      "cell_type": "code",
      "metadata": {
        "colab": {
          "base_uri": "https://localhost:8080/",
          "height": 111
        },
        "id": "n1vB7OLgY6FX",
        "outputId": "808ea110-5a38-4ef7-c1d6-bb5f88ba3c12"
      },
      "source": [
        "df = pd.read_csv('/content/drive/MyDrive/Self Case Study 2/DATASET/Test Dataset/stage_2_sample_submission.csv')\r\n",
        "df.head(2)"
      ],
      "execution_count": null,
      "outputs": [
        {
          "output_type": "execute_result",
          "data": {
            "text/html": [
              "<div>\n",
              "<style scoped>\n",
              "    .dataframe tbody tr th:only-of-type {\n",
              "        vertical-align: middle;\n",
              "    }\n",
              "\n",
              "    .dataframe tbody tr th {\n",
              "        vertical-align: top;\n",
              "    }\n",
              "\n",
              "    .dataframe thead th {\n",
              "        text-align: right;\n",
              "    }\n",
              "</style>\n",
              "<table border=\"1\" class=\"dataframe\">\n",
              "  <thead>\n",
              "    <tr style=\"text-align: right;\">\n",
              "      <th></th>\n",
              "      <th>ImageId</th>\n",
              "      <th>EncodedPixels</th>\n",
              "    </tr>\n",
              "  </thead>\n",
              "  <tbody>\n",
              "    <tr>\n",
              "      <th>0</th>\n",
              "      <td>ID_c68e114ba</td>\n",
              "      <td>-1</td>\n",
              "    </tr>\n",
              "    <tr>\n",
              "      <th>1</th>\n",
              "      <td>ID_b5a797789</td>\n",
              "      <td>-1</td>\n",
              "    </tr>\n",
              "  </tbody>\n",
              "</table>\n",
              "</div>"
            ],
            "text/plain": [
              "        ImageId  EncodedPixels\n",
              "0  ID_c68e114ba             -1\n",
              "1  ID_b5a797789             -1"
            ]
          },
          "metadata": {
            "tags": []
          },
          "execution_count": 29
        }
      ]
    },
    {
      "cell_type": "code",
      "metadata": {
        "colab": {
          "base_uri": "https://localhost:8080/"
        },
        "id": "ZbvCRQEWaAx1",
        "outputId": "58b8f498-797f-4ec8-a921-eca0e34c66ee"
      },
      "source": [
        "label_cols"
      ],
      "execution_count": null,
      "outputs": [
        {
          "output_type": "execute_result",
          "data": {
            "text/plain": [
              "Index(['ImagePath', 'MaskPath', 'ImagePath_Png', 'Target'], dtype='object')"
            ]
          },
          "metadata": {
            "tags": []
          },
          "execution_count": 40
        }
      ]
    },
    {
      "cell_type": "code",
      "metadata": {
        "colab": {
          "base_uri": "https://localhost:8080/"
        },
        "id": "Za1Fw7dWab9r",
        "outputId": "1c531b3a-f6f2-45b3-f420-1ec5153b8fc4"
      },
      "source": [
        "type(targetLabels)"
      ],
      "execution_count": null,
      "outputs": [
        {
          "output_type": "execute_result",
          "data": {
            "text/plain": [
              "numpy.ndarray"
            ]
          },
          "metadata": {
            "tags": []
          },
          "execution_count": 46
        }
      ]
    },
    {
      "cell_type": "code",
      "metadata": {
        "id": "yRMKGi8AcXtj"
      },
      "source": [
        "import imgaug.augmenters as iaa\r\n",
        "\r\n",
        "augment1 = iaa.Fliplr(1)\r\n",
        "augment2 = iaa.Flipud(1)\r\n",
        "augment3 = iaa.Emboss(alpha=(1), strength=1)\r\n",
        "augment4 = iaa.DirectedEdgeDetect(alpha=(0.8), direction=(1.0))\r\n",
        "augment5 = iaa.Sharpen(alpha=(1.0), lightness=(1.5))"
      ],
      "execution_count": 46,
      "outputs": []
    },
    {
      "cell_type": "code",
      "metadata": {
        "id": "PF367Vkldf7F"
      },
      "source": [
        "import random"
      ],
      "execution_count": 52,
      "outputs": []
    },
    {
      "cell_type": "code",
      "metadata": {
        "id": "m5NMLJDDY6Ik"
      },
      "source": [
        "#https://www.kaggle.com/danofer/ranzcr-chexnet-starter/output?select=submission.csv\r\n",
        "#https://www.tensorflow.org/tutorials/images/data_augmentation\r\n",
        "\r\n",
        "def build_decoder(with_labels=True, target_size=(300, 300)):\r\n",
        "    def decode(path):\r\n",
        "        file_bytes = tf.io.read_file(path)\r\n",
        "        img = tf.image.decode_png(file_bytes, channels=3)\r\n",
        "        img = tf.cast(img, tf.float32) / 255.0\r\n",
        "        img = tf.image.resize(img, target_size)\r\n",
        "\r\n",
        "        return img\r\n",
        "    \r\n",
        "    def decode_with_labels(path, label):\r\n",
        "        return decode(path), label\r\n",
        "    \r\n",
        "    return decode_with_labels if with_labels else decode\r\n",
        "\r\n",
        "def build_augmenter(with_labels=True):\r\n",
        "    def augment(img):\r\n",
        "        number = random.randint(1,5)\r\n",
        "        seed = (1, 5)\r\n",
        "        if number == 1:\r\n",
        "            img = tf.image.stateless_random_flip_left_right(img,seed)\r\n",
        "            img = tf.image.stateless_random_contrast(img,0.2, 0.5,seed)\r\n",
        "        if number == 2:\r\n",
        "            img = tf.image.stateless_random_flip_up_down(img,seed)\r\n",
        "            img = tf.image.stateless_random_brightness(img, 0.2,seed)\r\n",
        "        if number == 3:\r\n",
        "            img = tf.image.stateless_random_flip_left_right(img,seed)\r\n",
        "            img = tf.image.stateless_random_saturation(img, 0.2, 0.5,seed)\r\n",
        "        if number == 4:\r\n",
        "            img = tf.image.stateless_random_flip_up_down(img,seed)\r\n",
        "            img = tf.image.stateless_random_hue(img, 0.2,seed)\r\n",
        "        if number == 5:\r\n",
        "            img = tf.image.stateless_random_flip_left_right(img,seed)\r\n",
        "            img = tf.image.adjust_gamma(img, 0.2)\r\n",
        "        return img\r\n",
        "    \r\n",
        "    def augment_with_labels(img, label):\r\n",
        "        return augment(img), label\r\n",
        "    \r\n",
        "    return augment_with_labels if with_labels else augment\r\n",
        "\r\n",
        "def build_dataset(paths, labels=None, bsize=32, cache=True,\r\n",
        "                  decode_fn=None, augment_fn=None,\r\n",
        "                  augment=True, repeat=True, shuffle=1024,cache_dir=\"\"):\r\n",
        "    if cache_dir != \"\" and cache is True:\r\n",
        "        os.makedirs(cache_dir, exist_ok=True)\r\n",
        "\r\n",
        "    if decode_fn is None:\r\n",
        "        decode_fn = build_decoder(labels is not None)\r\n",
        "    \r\n",
        "    if augment_fn is None:\r\n",
        "        augment_fn = build_augmenter(labels is not None)\r\n",
        "    \r\n",
        "    AUTO = tf.data.experimental.AUTOTUNE\r\n",
        "    slices = paths if labels is None else (paths, labels)\r\n",
        "    \r\n",
        "    dset = tf.data.Dataset.from_tensor_slices(slices)\r\n",
        "    dset = dset.map(decode_fn, num_parallel_calls=AUTO)\r\n",
        "    dset = dset.map(augment_fn, num_parallel_calls=AUTO) if augment else dset\r\n",
        "    dset = dset.repeat() if repeat else dset\r\n",
        "    dset = dset.shuffle(shuffle) if shuffle else dset\r\n",
        "    dset = dset.batch(bsize).prefetch(AUTO)\r\n",
        "    \r\n",
        "    return dset"
      ],
      "execution_count": 111,
      "outputs": []
    },
    {
      "cell_type": "code",
      "metadata": {
        "id": "SFnQdonkngMy"
      },
      "source": [
        "decoder = build_decoder(with_labels=True, target_size=(256, 256))"
      ],
      "execution_count": 112,
      "outputs": []
    },
    {
      "cell_type": "code",
      "metadata": {
        "colab": {
          "base_uri": "https://localhost:8080/"
        },
        "id": "-CxoREjBo4bd",
        "outputId": "d0c5e285-b447-43f1-e603-0b34646f9346"
      },
      "source": [
        "decoder"
      ],
      "execution_count": 103,
      "outputs": [
        {
          "output_type": "execute_result",
          "data": {
            "text/plain": [
              "<function __main__.build_decoder.<locals>.decode_with_labels>"
            ]
          },
          "metadata": {
            "tags": []
          },
          "execution_count": 103
        }
      ]
    },
    {
      "cell_type": "code",
      "metadata": {
        "id": "VzxzfY8WlEca"
      },
      "source": [
        "dtrain = build_dataset(\r\n",
        "    trainPath, trainLabels, bsize=16, decode_fn=decoder,cache_dir='/Kaggle/tf_cache'\r\n",
        ")"
      ],
      "execution_count": 113,
      "outputs": []
    },
    {
      "cell_type": "code",
      "metadata": {
        "colab": {
          "base_uri": "https://localhost:8080/"
        },
        "id": "Pi_TQuQYlEfO",
        "outputId": "e58961f1-7185-4132-a5d4-242a39b401ba"
      },
      "source": [
        "dtrain"
      ],
      "execution_count": 102,
      "outputs": [
        {
          "output_type": "execute_result",
          "data": {
            "text/plain": [
              "<PrefetchDataset shapes: ((None, 256, 256, 3), (None,)), types: (tf.float32, tf.int64)>"
            ]
          },
          "metadata": {
            "tags": []
          },
          "execution_count": 102
        }
      ]
    },
    {
      "cell_type": "code",
      "metadata": {
        "id": "QdQrEu67lEia"
      },
      "source": [
        "dvalid = build_dataset(\r\n",
        "    validPath, validLabels, bsize=16, \r\n",
        "    repeat=False, shuffle=False, augment=False, decode_fn=decoder,cache_dir='/Kaggle/tf_cache'\r\n",
        ")"
      ],
      "execution_count": 114,
      "outputs": []
    },
    {
      "cell_type": "code",
      "metadata": {
        "colab": {
          "base_uri": "https://localhost:8080/"
        },
        "id": "YrK4wyyHlElZ",
        "outputId": "5b71b4f4-3595-4304-e29d-dcb3af346393"
      },
      "source": [
        "dvalid"
      ],
      "execution_count": 104,
      "outputs": [
        {
          "output_type": "execute_result",
          "data": {
            "text/plain": [
              "<PrefetchDataset shapes: ((None, 256, 256, 3), (None,)), types: (tf.float32, tf.int64)>"
            ]
          },
          "metadata": {
            "tags": []
          },
          "execution_count": 104
        }
      ]
    },
    {
      "cell_type": "code",
      "metadata": {
        "id": "GyhDVgoypg1V"
      },
      "source": [
        "3. ChexNet"
      ],
      "execution_count": null,
      "outputs": []
    },
    {
      "cell_type": "code",
      "metadata": {
        "id": "WSQ9nL7C8sl6"
      },
      "source": [
        "class_weight = {0: neg_weights, 1: pos_weights}"
      ],
      "execution_count": 142,
      "outputs": []
    },
    {
      "cell_type": "code",
      "metadata": {
        "id": "yqxrJNkm5fkK"
      },
      "source": [
        ""
      ],
      "execution_count": 139,
      "outputs": []
    },
    {
      "cell_type": "code",
      "metadata": {
        "id": "rmy41dDa5fq_"
      },
      "source": [
        ""
      ],
      "execution_count": null,
      "outputs": []
    },
    {
      "cell_type": "code",
      "metadata": {
        "id": "ZbKV4NB25ftp"
      },
      "source": [
        ""
      ],
      "execution_count": null,
      "outputs": []
    },
    {
      "cell_type": "code",
      "metadata": {
        "id": "KuLuGR8F5fwI"
      },
      "source": [
        ""
      ],
      "execution_count": null,
      "outputs": []
    },
    {
      "cell_type": "code",
      "metadata": {
        "id": "GsTTWYD9pOBI"
      },
      "source": [
        "#https://www.analyticsvidhya.com/blog/2020/08/image-augmentation-on-the-fly-using-keras-imagedatagenerator/\r\n",
        "\r\n",
        "data_gen_args = dict(rescale=1./255, \r\n",
        "                     #preprocessing_function=apply_adaptive_histogram_equalization,\r\n",
        "                     rotation_range=10,\r\n",
        "                     fill_mode='nearest',\r\n",
        "                     brightness_range=[0.4,1.5],\r\n",
        "                     zoom_range=0.3,\r\n",
        "                     shear_range=0.2,\r\n",
        "                    width_shift_range=0.01,\r\n",
        "                    horizontal_flip=True,\r\n",
        "                     validation_split=0.2,\r\n",
        "                     height_shift_range=0.01)\r\n",
        "\r\n",
        "mask_gen_args = dict(rescale=1./255,\r\n",
        "                    rotation_range=10,\r\n",
        "                    fill_mode='nearest',\r\n",
        "                     brightness_range=[0.4,1.5],\r\n",
        "                     zoom_range=0.3,\r\n",
        "                     shear_range=0.2,\r\n",
        "                    width_shift_range=0.01,\r\n",
        "                    horizontal_flip=True,\r\n",
        "                     height_shift_range=0.01\r\n",
        "                    validation_split=0.2)\r\n",
        "\r\n"
      ],
      "execution_count": null,
      "outputs": []
    },
    {
      "cell_type": "code",
      "metadata": {
        "id": "MjtB_CuyFYMJ"
      },
      "source": [
        ""
      ],
      "execution_count": null,
      "outputs": []
    },
    {
      "cell_type": "code",
      "metadata": {
        "id": "w6o06Qy-FYTO"
      },
      "source": [
        "def get_weighted_loss(pos_weights, neg_weights, epsilon=1e-7):\r\n",
        "    \"\"\"\r\n",
        "    Return weighted loss function given negative weights and positive weights.\r\n",
        "\r\n",
        "    Args:\r\n",
        "      pos_weights (np.array): array of positive weights for each class, size (num_classes)\r\n",
        "      neg_weights (np.array): array of negative weights for each class, size (num_classes)\r\n",
        "    \r\n",
        "    Returns:\r\n",
        "      weighted_loss (function): weighted loss function\r\n",
        "    \"\"\"\r\n",
        "    def weighted_loss(y_true, y_pred):\r\n",
        "        \"\"\"\r\n",
        "        Return weighted loss value. \r\n",
        "\r\n",
        "        Args:\r\n",
        "            y_true (Tensor): Tensor of true labels, size is (num_examples, num_classes)\r\n",
        "            y_pred (Tensor): Tensor of predicted labels, size is (num_examples, num_classes)\r\n",
        "        Returns:\r\n",
        "            loss (Float): overall scalar loss summed across all classes\r\n",
        "        \"\"\"\r\n",
        "        # initialize loss to zero\r\n",
        "        loss = 0.0\r\n",
        "        \r\n",
        "        ### START CODE HERE (REPLACE INSTANCES OF 'None' with your code) ###\r\n",
        "\r\n",
        "        for i in range(len(pos_weights)):\r\n",
        "            # for each class, add average weighted loss for that class \r\n",
        "            loss += -(tf.keras.metrics.Mean((pos_weights[i] * y_true[:,i] *tf.math.log(y_pred[:,i] + epsilon)) + \r\n",
        "                                             (neg_weights[i] * (1-y_true[:,i]) * tf.math.log(1-y_pred[:,i] + epsilon)),axis = 0)) #complete this line\r\n",
        "        return loss\r\n",
        "    \r\n",
        "        ### END CODE HERE ###\r\n",
        "    return weighted_loss"
      ],
      "execution_count": null,
      "outputs": []
    },
    {
      "cell_type": "code",
      "metadata": {
        "id": "UHCLeMYYFYW8"
      },
      "source": [
        "#sess = K.get_session()\r\n",
        "with tf.compat.v1.Session() as sess:\r\n",
        "    print(\"Test example:\\n\")\r\n",
        "    y_true = K.constant(np.array(\r\n",
        "        [[1, 1, 1],\r\n",
        "         [1, 1, 0],\r\n",
        "         [0, 1, 0],\r\n",
        "         [1, 0, 1]]\r\n",
        "    ))\r\n",
        "    print(\"y_true:\\n\")\r\n",
        "    print(y_true.eval())\r\n",
        "\r\n",
        "    w_p = np.array([0.25, 0.25, 0.5])\r\n",
        "    w_n = np.array([0.75, 0.75, 0.5])\r\n",
        "    print(\"\\nw_p:\\n\")\r\n",
        "    print(w_p)\r\n",
        "\r\n",
        "    print(\"\\nw_n:\\n\")\r\n",
        "    print(w_n)\r\n",
        "\r\n",
        "    y_pred_1 = K.constant(0.7*np.ones(y_true.shape))\r\n",
        "    print(\"\\ny_pred_1:\\n\")\r\n",
        "    print(y_pred_1.eval())\r\n",
        "\r\n",
        "    y_pred_2 = K.constant(0.3*np.ones(y_true.shape))\r\n",
        "    print(\"\\ny_pred_2:\\n\")\r\n",
        "    print(y_pred_2.eval())\r\n",
        "\r\n",
        "    # test with a large epsilon in order to catch errors\r\n",
        "    L = get_weighted_loss(w_p, w_n, epsilon=1)\r\n",
        "\r\n",
        "    print(\"\\nIf we weighted them correctly, we expect the two losses to be the same.\")\r\n",
        "    L1 = L(y_true, y_pred_1).eval()\r\n",
        "    L2 = L(y_true, y_pred_2).eval()\r\n",
        "    print(f\"\\nL(y_pred_1)= {L1:.4f}, L(y_pred_2)= {L2:.4f}\")\r\n",
        "    print(f\"Difference is L1 - L2 = {L1 - L2:.4f}\")"
      ],
      "execution_count": null,
      "outputs": []
    },
    {
      "cell_type": "code",
      "metadata": {
        "id": "djymqWLIFeWd"
      },
      "source": [
        "#from keras import backend as K\r\n",
        "#from tf.keras.backend as K"
      ],
      "execution_count": null,
      "outputs": []
    }
  ]
}