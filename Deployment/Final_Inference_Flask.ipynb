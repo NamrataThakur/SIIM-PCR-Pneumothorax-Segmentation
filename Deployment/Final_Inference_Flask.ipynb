{
  "nbformat": 4,
  "nbformat_minor": 0,
  "metadata": {
    "colab": {
      "name": "Final_Inference_Flask.ipynb",
      "provenance": [],
      "collapsed_sections": []
    },
    "kernelspec": {
      "name": "python3",
      "display_name": "Python 3"
    },
    "language_info": {
      "name": "python"
    },
    "accelerator": "GPU"
  },
  "cells": [
    {
      "cell_type": "code",
      "metadata": {
        "colab": {
          "base_uri": "https://localhost:8080/"
        },
        "id": "yunraBH25QX6",
        "outputId": "1a5a8e1f-3c5d-4e65-abd7-0cf8738c995f"
      },
      "source": [
        "from google.colab import drive\n",
        "drive.mount('/content/drive')"
      ],
      "execution_count": 1,
      "outputs": [
        {
          "output_type": "stream",
          "text": [
            "Mounted at /content/drive\n"
          ],
          "name": "stdout"
        }
      ]
    },
    {
      "cell_type": "code",
      "metadata": {
        "colab": {
          "base_uri": "https://localhost:8080/"
        },
        "id": "73YO60o95Tqt",
        "outputId": "77727bdf-0b45-4043-c24c-145732f899ec"
      },
      "source": [
        "!pip install flask-ngrok"
      ],
      "execution_count": 2,
      "outputs": [
        {
          "output_type": "stream",
          "text": [
            "Collecting flask-ngrok\n",
            "  Downloading https://files.pythonhosted.org/packages/af/6c/f54cb686ad1129e27d125d182f90f52b32f284e6c8df58c1bae54fa1adbc/flask_ngrok-0.0.25-py3-none-any.whl\n",
            "Requirement already satisfied: requests in /usr/local/lib/python3.7/dist-packages (from flask-ngrok) (2.23.0)\n",
            "Requirement already satisfied: Flask>=0.8 in /usr/local/lib/python3.7/dist-packages (from flask-ngrok) (1.1.2)\n",
            "Requirement already satisfied: idna<3,>=2.5 in /usr/local/lib/python3.7/dist-packages (from requests->flask-ngrok) (2.10)\n",
            "Requirement already satisfied: certifi>=2017.4.17 in /usr/local/lib/python3.7/dist-packages (from requests->flask-ngrok) (2020.12.5)\n",
            "Requirement already satisfied: chardet<4,>=3.0.2 in /usr/local/lib/python3.7/dist-packages (from requests->flask-ngrok) (3.0.4)\n",
            "Requirement already satisfied: urllib3!=1.25.0,!=1.25.1,<1.26,>=1.21.1 in /usr/local/lib/python3.7/dist-packages (from requests->flask-ngrok) (1.24.3)\n",
            "Requirement already satisfied: click>=5.1 in /usr/local/lib/python3.7/dist-packages (from Flask>=0.8->flask-ngrok) (7.1.2)\n",
            "Requirement already satisfied: itsdangerous>=0.24 in /usr/local/lib/python3.7/dist-packages (from Flask>=0.8->flask-ngrok) (1.1.0)\n",
            "Requirement already satisfied: Werkzeug>=0.15 in /usr/local/lib/python3.7/dist-packages (from Flask>=0.8->flask-ngrok) (1.0.1)\n",
            "Requirement already satisfied: Jinja2>=2.10.1 in /usr/local/lib/python3.7/dist-packages (from Flask>=0.8->flask-ngrok) (2.11.3)\n",
            "Requirement already satisfied: MarkupSafe>=0.23 in /usr/local/lib/python3.7/dist-packages (from Jinja2>=2.10.1->Flask>=0.8->flask-ngrok) (1.1.1)\n",
            "Installing collected packages: flask-ngrok\n",
            "Successfully installed flask-ngrok-0.0.25\n"
          ],
          "name": "stdout"
        }
      ]
    },
    {
      "cell_type": "code",
      "metadata": {
        "colab": {
          "base_uri": "https://localhost:8080/"
        },
        "id": "4L_CrYYPA6Lf",
        "outputId": "c7b60560-c16d-4726-bc6f-3f66991025d0"
      },
      "source": [
        "%cd /content/drive/MyDrive/Self \\Case \\Study \\2/DATASET/Deployment"
      ],
      "execution_count": 3,
      "outputs": [
        {
          "output_type": "stream",
          "text": [
            "/content/drive/MyDrive/Self Case Study 2/DATASET/Deployment\n"
          ],
          "name": "stdout"
        }
      ]
    },
    {
      "cell_type": "code",
      "metadata": {
        "colab": {
          "base_uri": "https://localhost:8080/",
          "height": 35
        },
        "id": "9YPo5sCm7FPo",
        "outputId": "e85496fa-3a47-4c2b-e23d-b3a807ca09db"
      },
      "source": [
        "import os\n",
        "os.getcwd()"
      ],
      "execution_count": 4,
      "outputs": [
        {
          "output_type": "execute_result",
          "data": {
            "application/vnd.google.colaboratory.intrinsic+json": {
              "type": "string"
            },
            "text/plain": [
              "'/content/drive/MyDrive/Self Case Study 2/DATASET/Deployment'"
            ]
          },
          "metadata": {
            "tags": []
          },
          "execution_count": 4
        }
      ]
    },
    {
      "cell_type": "code",
      "metadata": {
        "colab": {
          "base_uri": "https://localhost:8080/"
        },
        "id": "YzQ981mG5TtL",
        "outputId": "ae7506cb-a50a-4135-c6c2-bffb4cb8119b"
      },
      "source": [
        "from __future__ import division, print_function\n",
        "# Flask utils\n",
        "from flask_ngrok import run_with_ngrok\n",
        "from flask import Flask, request, redirect, url_for, render_template\n",
        "from werkzeug.utils import secure_filename\n",
        "# \n",
        "import io\n",
        "import os \n",
        "import matplotlib.pyplot as plt \n",
        "import tensorflow as tf \n",
        "import numpy as np \n",
        "\n",
        "try:\n",
        "    print(\"Try.11.\")\n",
        "    from PIL import Image\n",
        "except ImportError:\n",
        "    print(\"Error\")\n",
        "    import Image\n",
        "\n",
        "from build_image import read_image,classify_decode\n",
        "from build_models import build_segment\n",
        "from prediction import prediction "
      ],
      "execution_count": 5,
      "outputs": [
        {
          "output_type": "stream",
          "text": [
            "Try.11.\n"
          ],
          "name": "stdout"
        }
      ]
    },
    {
      "cell_type": "code",
      "metadata": {
        "colab": {
          "base_uri": "https://localhost:8080/"
        },
        "id": "9G3CDvCt5TwN",
        "outputId": "023d1ff4-e41a-4909-f920-24acb2a880a0"
      },
      "source": [
        "# Define a flask \n",
        "app = Flask(__name__)\n",
        "\n",
        "run_with_ngrok(app)\n",
        "\n",
        "classify_weights_path = \"/content/drive/MyDrive/Self Case Study 2/DATASET/chexnet_model_new.h5\"\n",
        "segment_weights_path = '/content/drive/MyDrive/Self Case Study 2/DATASET/best_Double_Unet.hdf5'\n",
        "\n",
        "pred = prediction(classify_weights_path,segment_weights_path)"
      ],
      "execution_count": 6,
      "outputs": [
        {
          "output_type": "stream",
          "text": [
            "Downloading data from https://storage.googleapis.com/tensorflow/keras-applications/vgg19/vgg19_weights_tf_dim_ordering_tf_kernels_notop.h5\n",
            "80142336/80134624 [==============================] - 1s 0us/step\n",
            "(None, 64, 1, 1)\n",
            "(None, 32, 1, 1)\n",
            "(None, 32, 1, 1)\n",
            "(None, 64, 1, 1)\n",
            "(None, 256, 1, 1)\n",
            "(None, 128, 1, 1)\n",
            "Classification Model Loaded....\n",
            "Segmentation Model Loaded...\n"
          ],
          "name": "stdout"
        }
      ]
    },
    {
      "cell_type": "code",
      "metadata": {
        "id": "OTZNB5ou6lcK",
        "colab": {
          "base_uri": "https://localhost:8080/"
        },
        "outputId": "30146c0e-500e-4dc2-9ca4-04c662e72eb9"
      },
      "source": [
        "#https://stackoverflow.com/questions/53202636/render-dynamically-changing-images-with-same-filenames-in-flask\n",
        "\n",
        "@app.route('/', methods=['GET', 'POST']) \n",
        "def main_page():\n",
        "    if request.method == 'POST':\n",
        "        file = request.files['file']\n",
        "        filename = secure_filename(file.filename)\n",
        "        file.save(os.path.join('uploaded_image', filename))\n",
        "        return redirect(url_for('prediction', filename=filename))\n",
        "    return render_template('index.html')\n",
        "\n",
        "\n",
        "@app.route('/prediction/<filename>') \n",
        "def prediction(filename):\n",
        "\n",
        "    # Make prediction\n",
        "    image_path = filename\n",
        "    \n",
        "    classify_output, pred_mask = pred.Predict(image_path)\n",
        "    print(\"Classification Output : \",classify_output)\n",
        "    if(classify_output> 0.5):\n",
        "        print(\"Classifier Prediction Confidence : {}%\".format(classify_output*100))\n",
        "        print('segment printing')\n",
        "        pred_mask1 = np.squeeze(pred_mask[:,:,:,1])\n",
        "        plt.imsave('predicted_mask.png', pred_mask1)\n",
        "\n",
        "        background = Image.open(image_path)\n",
        "        overlay = Image.open('predicted_mask.png')\n",
        "\n",
        "        background = background.convert(\"RGBA\")\n",
        "        overlay = overlay.convert(\"RGBA\")\n",
        "\n",
        "        new_img = Image.blend(background, overlay, 0.3)\n",
        "\n",
        "        for filename in os.listdir('static/'):\n",
        "            if filename.startswith('Final_Output_p'):  # not to remove other images\n",
        "                os.remove('static/' + filename)\n",
        "\n",
        "        new_graph_name = \"Final_Output_pos.png\"\n",
        "        new_img.save(\"/content/drive/MyDrive/Self Case Study 2/DATASET/Deployment/static/Final_Output_pos.png\",\"PNG\")\n",
        "\n",
        "        classify_result = classify_output*100\n",
        "        classify_text = 'Pneumothorax Found..!!'\n",
        "        \n",
        "    else:\n",
        "        print('No Pneumothorax Detection...!')\n",
        "        no_confidence = 1 - classify_output\n",
        "        print('Classifier Prediction Confidence : {}%'.format(no_confidence*100))\n",
        "        classify_result = no_confidence*100\n",
        "        classify_text = 'No Pneumothorax Detection...!'\n",
        "        background = Image.open(image_path)\n",
        "\n",
        "        for filename in os.listdir('static/'):\n",
        "            if filename.startswith('Final_Output_n'):  # not to remove other images\n",
        "                os.remove('static/' + filename)\n",
        "\n",
        "        new_graph_name = \"Final_Output_neg.png\"\n",
        "        background.save(\"/content/drive/MyDrive/Self Case Study 2/DATASET/Deployment/static/Final_Output_neg.png\",\"PNG\")\n",
        "\n",
        "        \n",
        "\n",
        "    return render_template('base.html',segmented_image = new_graph_name, result = classify_result, review_text = classify_text)\n",
        "\n",
        "if __name__ == '__main__':\n",
        "    app.run()"
      ],
      "execution_count": 7,
      "outputs": [
        {
          "output_type": "stream",
          "text": [
            " * Serving Flask app \"__main__\" (lazy loading)\n",
            " * Environment: production\n",
            "\u001b[31m   WARNING: This is a development server. Do not use it in a production deployment.\u001b[0m\n",
            "\u001b[2m   Use a production WSGI server instead.\u001b[0m\n",
            " * Debug mode: off\n"
          ],
          "name": "stdout"
        },
        {
          "output_type": "stream",
          "text": [
            " * Running on http://127.0.0.1:5000/ (Press CTRL+C to quit)\n"
          ],
          "name": "stderr"
        },
        {
          "output_type": "stream",
          "text": [
            " * Running on http://b039131e77e2.ngrok.io\n",
            " * Traffic stats available on http://127.0.0.1:4040\n"
          ],
          "name": "stdout"
        },
        {
          "output_type": "stream",
          "text": [
            "127.0.0.1 - - [07/Apr/2021 18:44:07] \"\u001b[37mGET / HTTP/1.1\u001b[0m\" 200 -\n",
            "127.0.0.1 - - [07/Apr/2021 18:44:08] \"\u001b[33mGET /favicon.ico HTTP/1.1\u001b[0m\" 404 -\n",
            "127.0.0.1 - - [07/Apr/2021 18:44:15] \"\u001b[32mPOST / HTTP/1.1\u001b[0m\" 302 -\n"
          ],
          "name": "stderr"
        },
        {
          "output_type": "stream",
          "text": [
            "Pneumothorax Found..!!\n",
            "Classifier Prediction Confidence : [[93.419174]]%\n",
            "Classification Output :  [[0.9341917]]\n",
            "Classifier Prediction Confidence : [[93.419174]]%\n",
            "segment printing\n"
          ],
          "name": "stdout"
        },
        {
          "output_type": "stream",
          "text": [
            "127.0.0.1 - - [07/Apr/2021 18:44:37] \"\u001b[37mGET /prediction/test_image_4.png HTTP/1.1\u001b[0m\" 200 -\n",
            "127.0.0.1 - - [07/Apr/2021 18:44:38] \"\u001b[37mGET /static/Final_Output_pos.png HTTP/1.1\u001b[0m\" 200 -\n",
            "127.0.0.1 - - [07/Apr/2021 18:44:41] \"\u001b[37mGET / HTTP/1.1\u001b[0m\" 200 -\n",
            "127.0.0.1 - - [07/Apr/2021 18:44:44] \"\u001b[37mGET / HTTP/1.1\u001b[0m\" 200 -\n",
            "127.0.0.1 - - [07/Apr/2021 18:44:53] \"\u001b[32mPOST / HTTP/1.1\u001b[0m\" 302 -\n",
            "127.0.0.1 - - [07/Apr/2021 18:44:54] \"\u001b[37mGET /prediction/test_image_1.png HTTP/1.1\u001b[0m\" 200 -\n"
          ],
          "name": "stderr"
        },
        {
          "output_type": "stream",
          "text": [
            "Pneumothorax Found..!!\n",
            "Classifier Prediction Confidence : [[99.99568]]%\n",
            "Classification Output :  [[0.99995685]]\n",
            "Classifier Prediction Confidence : [[99.99568]]%\n",
            "segment printing\n"
          ],
          "name": "stdout"
        },
        {
          "output_type": "stream",
          "text": [
            "127.0.0.1 - - [07/Apr/2021 18:45:08] \"\u001b[37mGET / HTTP/1.1\u001b[0m\" 200 -\n",
            "127.0.0.1 - - [07/Apr/2021 18:45:15] \"\u001b[32mPOST / HTTP/1.1\u001b[0m\" 302 -\n",
            "127.0.0.1 - - [07/Apr/2021 18:45:15] \"\u001b[37mGET /prediction/test_image_2.png HTTP/1.1\u001b[0m\" 200 -\n"
          ],
          "name": "stderr"
        },
        {
          "output_type": "stream",
          "text": [
            "Classification Output :  [[2.1266524e-07]]\n",
            "No Pneumothorax Detection...!\n",
            "Classifier Prediction Confidence : [[99.99998]]%\n"
          ],
          "name": "stdout"
        },
        {
          "output_type": "stream",
          "text": [
            "127.0.0.1 - - [07/Apr/2021 18:45:16] \"\u001b[37mGET /static/Final_Output_neg.png HTTP/1.1\u001b[0m\" 200 -\n",
            "127.0.0.1 - - [07/Apr/2021 18:45:23] \"\u001b[37mGET / HTTP/1.1\u001b[0m\" 200 -\n",
            "127.0.0.1 - - [07/Apr/2021 18:45:33] \"\u001b[32mPOST / HTTP/1.1\u001b[0m\" 302 -\n",
            "127.0.0.1 - - [07/Apr/2021 18:45:36] \"\u001b[37mGET /prediction/test_image_3.png HTTP/1.1\u001b[0m\" 200 -\n"
          ],
          "name": "stderr"
        },
        {
          "output_type": "stream",
          "text": [
            "Classification Output :  [[6.0890685e-05]]\n",
            "No Pneumothorax Detection...!\n",
            "Classifier Prediction Confidence : [[99.99391]]%\n"
          ],
          "name": "stdout"
        }
      ]
    },
    {
      "cell_type": "code",
      "metadata": {
        "id": "AO8TJForXl70"
      },
      "source": [
        "for filename in os.listdir('static/'):\n",
        "    if filename.startswith('Final_Output_1'):\n",
        "        os.remove('static/' + filename)"
      ],
      "execution_count": 12,
      "outputs": []
    }
  ]
}